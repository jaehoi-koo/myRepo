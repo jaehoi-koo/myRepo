{
 "cells": [
  {
   "cell_type": "markdown",
   "id": "e93c9500-6e1f-445a-a5e1-95e687853ae8",
   "metadata": {},
   "source": [
    "# Pytorch의 nn.Embedding\n",
    "- Pytorch의 Embedding Layer는 word2vec과 마찬가지로 word embedding vector를 찾는 **Lookup Table**이다.\n",
    "    - 단어의 **정수의 고유 index**가 입력으로 들어오면 Embedding Layer의 **그 index의 Vector**를 출력한다.\n",
    "    - 모델이 학습되는 동안 모델이 풀려는 문제에 맞는 값으로 Embedding Layer의 vector들이 업데이트 된다.\n",
    "    - Word2Vec의 embedding vector 학습을 nn.Embedding은 자신이 포함된 모델을 학습 하는 과정에서 한다고 생각하면 된다."
   ]
  },
  {
   "cell_type": "code",
   "execution_count": 5,
   "id": "d936d8f7-a203-4452-978f-e2da81b7dafe",
   "metadata": {},
   "outputs": [],
   "source": [
    "import torch\n",
    "import torch.nn as nn\n",
    "\n",
    "embed = nn.Embedding(\n",
    "    num_embeddings=20_000,  #vocab size(단어사전의 단어수.) -> 총 몇개의 단어에 대한  embedding vector를 만들지\n",
    "    embedding_dim=200, # embedding vector의 차원수 -> 개별 단어를 몇개의 숫자로 표현할지.\n",
    "\n",
    ")"
   ]
  },
  {
   "cell_type": "code",
   "execution_count": 9,
   "id": "3179104b",
   "metadata": {},
   "outputs": [
    {
     "data": {
      "text/plain": [
       "torch.Size([20000, 200])"
      ]
     },
     "execution_count": 9,
     "metadata": {},
     "output_type": "execute_result"
    }
   ],
   "source": [
    "embed.weight\n",
    "embed.weight.shape"
   ]
  },
  {
   "cell_type": "code",
   "execution_count": 12,
   "id": "5bd67049",
   "metadata": {},
   "outputs": [
    {
     "data": {
      "text/plain": [
       "torch.Size([1, 4, 200])"
      ]
     },
     "execution_count": 12,
     "metadata": {},
     "output_type": "execute_result"
    }
   ],
   "source": [
    "# embedding layer의 입력 - 문서를 구성하는 토큰들의 ID(정수-int)를 1차원 묶어서 전달.\n",
    "doc = torch.tensor([[30, 159, 9000, 326]], dtype=torch.int64)\n",
    "embedding_vector = embed(doc)\n",
    "embedding_vector.shape"
   ]
  },
  {
   "cell_type": "code",
   "execution_count": null,
   "id": "2d166e4e-4ced-4bc8-a188-12358670ad0d",
   "metadata": {},
   "outputs": [],
   "source": []
  },
  {
   "cell_type": "markdown",
   "id": "ca59e731-381d-4a79-83c4-1fc20ba006e1",
   "metadata": {},
   "source": [
    "# 네이버 영화 댓글 감성분석(Sentiment Analysis)\n",
    "\n",
    "## 감성분석(Sentiment Analysis) 이란\n",
    "입력된 텍스트가 **긍적적인 글**인지 **부정적인**인지 또는 **중립적인** 글인지 분석하는 것을 감성(감정) 분석이라고 한다.   \n",
    "이를 통해 기업이 고객이 자신들의 기업 또는 제품에 대해 어떤 의견을 가지고 있는지 분석한다."
   ]
  },
  {
   "cell_type": "markdown",
   "id": "e7034ada-08b9-4163-b18d-ce429aef275b",
   "metadata": {},
   "source": [
    "# Dataset, DataLoader 생성\n",
    "\n",
    "## Korpora에서 Naver 영화 댓글 dataset 가져오기\n",
    "- https://ko-nlp.github.io/Korpora/ko-docs/corpuslist/nsmc.html\n",
    "- http://github.com/e9t/nsmc/\n",
    "    - input: 영화댓글\n",
    "    - output: 0(부정적댓글), 1(긍정적댓글)\n",
    "### API\n",
    "- **corpus 가져오기**\n",
    "    - `Korpora.load('nsmc')`\n",
    "- **text/label 조회**\n",
    "    - `corpus.get_all_texts()` : 전체 corpus의 text들을 tuple로 반환\n",
    "    - `corpus.get_all_labels()`: 전체 corpus의 label들을 list로 반환\n",
    "- **train/test set 나눠서 조회**\n",
    "    - `corpus.train`\n",
    "    - `corpus.test`\n",
    "    - `LabeledSentenceKorpusData` 객체에 text와 label들을 담아서 제공.\n",
    "        - `LabeledSentenceKorpusData.texts`: text들 tuple로 반환.\n",
    "        - `LabeledSentenceKorpusData.labels`: label들 list로 반환."
   ]
  },
  {
   "cell_type": "markdown",
   "id": "4d0e2ea3-6123-4ebd-8e98-27b1db6406ed",
   "metadata": {},
   "source": [
    "## 데이터 로딩"
   ]
  },
  {
   "cell_type": "code",
   "execution_count": 13,
   "id": "aebdb0ac-eaaa-47aa-a0de-11d49e8a427b",
   "metadata": {},
   "outputs": [
    {
     "name": "stdout",
     "output_type": "stream",
     "text": [
      "\n",
      "    Korpora 는 다른 분들이 연구 목적으로 공유해주신 말뭉치들을\n",
      "    손쉽게 다운로드, 사용할 수 있는 기능만을 제공합니다.\n",
      "\n",
      "    말뭉치들을 공유해 주신 분들에게 감사드리며, 각 말뭉치 별 설명과 라이센스를 공유 드립니다.\n",
      "    해당 말뭉치에 대해 자세히 알고 싶으신 분은 아래의 description 을 참고,\n",
      "    해당 말뭉치를 연구/상용의 목적으로 이용하실 때에는 아래의 라이센스를 참고해 주시기 바랍니다.\n",
      "\n",
      "    # Description\n",
      "    Author : e9t@github\n",
      "    Repository : https://github.com/e9t/nsmc\n",
      "    References : www.lucypark.kr/docs/2015-pyconkr/#39\n",
      "\n",
      "    Naver sentiment movie corpus v1.0\n",
      "    This is a movie review dataset in the Korean language.\n",
      "    Reviews were scraped from Naver Movies.\n",
      "\n",
      "    The dataset construction is based on the method noted in\n",
      "    [Large movie review dataset][^1] from Maas et al., 2011.\n",
      "\n",
      "    [^1]: http://ai.stanford.edu/~amaas/data/sentiment/\n",
      "\n",
      "    # License\n",
      "    CC0 1.0 Universal (CC0 1.0) Public Domain Dedication\n",
      "    Details in https://creativecommons.org/publicdomain/zero/1.0/\n",
      "\n"
     ]
    },
    {
     "name": "stderr",
     "output_type": "stream",
     "text": [
      "[nsmc] download ratings_train.txt: 14.6MB [00:00, 58.2MB/s]                            \n",
      "[nsmc] download ratings_test.txt: 4.90MB [00:00, 40.0MB/s]                            \n"
     ]
    }
   ],
   "source": [
    "import os\n",
    "import time\n",
    "\n",
    "from Korpora import Korpora\n",
    "\n",
    "corpus = Korpora.load('nsmc')"
   ]
  },
  {
   "cell_type": "code",
   "execution_count": 15,
   "id": "c08b08d5-bfcd-4430-b4c0-44b19bbf4022",
   "metadata": {},
   "outputs": [],
   "source": [
    "all_inputs = corpus.get_all_texts()  #inputs: 댓글들 전체\n",
    "all_lables = corpus.get_all_labels() # outputs : lables -0 부정 , 1:긍정\n"
   ]
  },
  {
   "cell_type": "code",
   "execution_count": 16,
   "id": "232a23c0-06c5-49b7-b601-1ede1198b4bf",
   "metadata": {},
   "outputs": [
    {
     "data": {
      "text/plain": [
       "('아 더빙.. 진짜 짜증나네요 목소리',\n",
       " '흠...포스터보고 초딩영화줄....오버연기조차 가볍지 않구나',\n",
       " '너무재밓었다그래서보는것을추천한다',\n",
       " '교도소 이야기구먼 ..솔직히 재미는 없다..평점 조정',\n",
       " '사이몬페그의 익살스런 연기가 돋보였던 영화!스파이더맨에서 늙어보이기만 했던 커스틴 던스트가 너무나도 이뻐보였다')"
      ]
     },
     "execution_count": 16,
     "metadata": {},
     "output_type": "execute_result"
    }
   ],
   "source": [
    "all_inputs[:5]"
   ]
  },
  {
   "cell_type": "code",
   "execution_count": 17,
   "id": "ac566452",
   "metadata": {},
   "outputs": [
    {
     "data": {
      "text/plain": [
       "[0, 1, 0, 0, 1]"
      ]
     },
     "execution_count": 17,
     "metadata": {},
     "output_type": "execute_result"
    }
   ],
   "source": [
    "all_lables[:5]"
   ]
  },
  {
   "cell_type": "code",
   "execution_count": null,
   "id": "05eb1976",
   "metadata": {},
   "outputs": [],
   "source": []
  },
  {
   "cell_type": "markdown",
   "id": "a2e7e54a-548d-4bf3-81aa-357ab249f41a",
   "metadata": {},
   "source": [
    "## 토큰화\n",
    "1. 형태소 단위 token화(분절)를 먼저 한다.\n",
    "    - konlpy로 token화 한 뒤 다시 한 문장으로 만든다.\n",
    "2. 1에서 처리한 corpus를 BPE 로 token화\n",
    "   \n",
    "### 전처리 함수\n",
    "\n",
    "#### 형태소 단위 분절"
   ]
  },
  {
   "cell_type": "code",
   "execution_count": 21,
   "id": "d02e792b",
   "metadata": {},
   "outputs": [],
   "source": [
    "import string\n",
    "import re\n",
    "from konlpy.tag import Okt\n",
    "okt = Okt()\n",
    "\n",
    "# 전처리 = cleansing + 정규화 (normalizing)\n",
    "def text_preprocessing(text):\n",
    "    '''\n",
    "    1. 영문 -> 소문자로 변환\n",
    "    2. 구두점 제거\n",
    "    3. 형태소 기반 토큰화\n",
    "    4. 행태소 기반 토큰화한 뒤 다시 하나의 문자열로 묶어서 반환.\n",
    "    '''\n",
    "    text = text.lower()\n",
    "    #구두점 제거 (stop word(불용어))\n",
    "    text = re.sub(f\"[{string.punctuation}]\",\"\",text)\n",
    "    #정규화\n",
    "    tokens = okt.morphs(text, stem=True) #stem: 원형복원. norm=True\n",
    "    return ' '.join(tokens) #[\"단어\", \"단어\", ...] -> str \"단어 단어 단어\"\n"
   ]
  },
  {
   "cell_type": "code",
   "execution_count": null,
   "id": "a6490aaf",
   "metadata": {},
   "outputs": [
    {
     "data": {
      "text/plain": [
       "'재미없다 진심 1 이훨 나 캐스팅 두 못 한 듯'"
      ]
     },
     "execution_count": 22,
     "metadata": {},
     "output_type": "execute_result"
    }
   ],
   "source": [
    "text_preprocessing(all_inputs[101])\n"
   ]
  },
  {
   "cell_type": "code",
   "execution_count": 25,
   "id": "a3b07624",
   "metadata": {},
   "outputs": [
    {
     "name": "stdout",
     "output_type": "stream",
     "text": [
      "전처리 걸린시간(초): 221.4404067993164\n"
     ]
    }
   ],
   "source": [
    "s = time.time()\n",
    "train_texts = corpus.train.texts\n",
    "train_inputs = [text_preprocessing(txt) for txt in train_texts]\n",
    "train_labels = corpus.train.labels\n",
    "\n",
    "# test set 전처리\n",
    "test_texts = corpus.test.texts\n",
    "test_inputs = [text_preprocessing(txt) for txt in test_texts]\n",
    "test_labels = corpus.test.labels\n",
    "e = time.time()\n",
    "\n",
    "print('전처리 걸린시간(초):', e-s)\n"
   ]
  },
  {
   "cell_type": "code",
   "execution_count": 29,
   "id": "8cdd1245",
   "metadata": {},
   "outputs": [],
   "source": [
    "import pickle\n",
    "import os\n",
    "\n",
    "os.makedirs('datasets/nsmc', exist_ok=True)\n",
    "with open('datasets/nsmc/preprocessing_trainset.pkl', \"wb\") as fw:\n",
    "    pickle.dump({\"input\":train_inputs, \"output\":train_labels}, fw)\n"
   ]
  },
  {
   "cell_type": "code",
   "execution_count": 30,
   "id": "35f45e2f-f76a-4011-b963-d7feb214cc35",
   "metadata": {},
   "outputs": [],
   "source": [
    "\n",
    "with open(\"datasets/nsmc/preprocessing_testset_pkl\", \"wb\") as fw:\n",
    "    pickle.dump({\"input\":test_inputs, \"output\":test_labels}, fw)"
   ]
  },
  {
   "cell_type": "code",
   "execution_count": 31,
   "id": "6e658962-2fd6-4b1d-b4ef-a38de3ecc847",
   "metadata": {},
   "outputs": [],
   "source": [
    "all_inputs = train_inputs + test_inputs # vocab 만들때 사용"
   ]
  },
  {
   "cell_type": "code",
   "execution_count": null,
   "id": "07c7cad7-23d9-4212-b07a-0e5da2ff73c7",
   "metadata": {},
   "outputs": [],
   "source": []
  },
  {
   "cell_type": "markdown",
   "id": "2e519a68-d3a0-4481-bcf7-b121d8ba813f",
   "metadata": {},
   "source": [
    "### 토큰화\n",
    "- Subword 방식 토큰화 적용\n",
    "- Byte Pair Encoding 방식으로 huggingface tokenizer 사용\n",
    "    - BPE: 토큰을 글자 단위로 나눈뒤 가장 자주 등장하는 글자 쌍(byte paire)를 찾아 합친뒤 어휘사전에 추가한다.\n",
    "    - https://huggingface.co/docs/tokenizers/quicktour\n",
    "    - `pip install tokenizers`"
   ]
  },
  {
   "cell_type": "code",
   "execution_count": 32,
   "id": "0f162bdf-fac9-4468-a264-c656e4b3164d",
   "metadata": {},
   "outputs": [],
   "source": [
    "from tokenizers import Tokenizer\n",
    "from tokenizers.models import BPE #Unigram, WordPiece\n",
    "from tokenizers.pre_tokenizers import Whitespace\n",
    "from tokenizers.trainers import BpeTrainer\n",
    "\n",
    "vocab_size = 30_000  # 어휘사전의 최대 단어수\n",
    "min_frequency = 5 # 사전에 추가할 최소 빈도수\n",
    "\n",
    "tokenizer = Tokenizer(\n",
    "    BPE(unk_token=\"[UNK]\"),\n",
    ")\n",
    "tokenizer.pre_tokenizer = Whitespace()\n",
    "trainer = BpeTrainer(\n",
    "    vocab_size = vocab_size,\n",
    "    min_frequency=min_frequency,\n",
    "    special_tokens=[\"[PAD]\", \"[UNK]\"],\n",
    "    continuing_subword_prefix = \"##\",\n",
    "    # 단어 중간에 나오는 subword일 경우 앞에 ##을 붙인다.\n",
    "    # \"시작하는\" -> \"시작\", \"하는\" => \"시작\", \"##하는\"\n",
    ")\n",
    "tokenizer.train_from_iterator(all_inputs, trainer=trainer) # vocab 생성 == tokenizer학습\n",
    "\n"
   ]
  },
  {
   "cell_type": "code",
   "execution_count": 33,
   "id": "de9b29e1-384a-44e8-ab19-e53f0c1303c7",
   "metadata": {},
   "outputs": [
    {
     "data": {
      "text/plain": [
       "26911"
      ]
     },
     "execution_count": 33,
     "metadata": {},
     "output_type": "execute_result"
    }
   ],
   "source": [
    "# 총 vocab size:\n",
    "tokenizer.get_vocab_size()"
   ]
  },
  {
   "cell_type": "code",
   "execution_count": 34,
   "id": "e998d38b-e762-4fd5-b37f-8f8a2b6f5849",
   "metadata": {},
   "outputs": [],
   "source": [
    "# 저장\n",
    "os.makedirs('saved_models/nsmc', exist_ok=True)\n",
    "tokenizer.save('saved_models/nsmc/tokenizer_bpe.json')\n",
    "\n",
    "# load_tokenizer = Tokenizer.from_file('saved_models/nsmc/tokenizer_bpe.json')"
   ]
  },
  {
   "cell_type": "code",
   "execution_count": 37,
   "id": "8a915424",
   "metadata": {},
   "outputs": [
    {
     "name": "stdout",
     "output_type": "stream",
     "text": [
      "[5438, 5456, 2203, 5549, 6599, 2206, 5443, 5428, 14831, 2203, 9199, 923, 1152, 5635, 5468, 651, 5659, 856, 2128]\n",
      "['정말', '최고', '의', '명작', '성인', '이', '되다', '보다', '이집트', '의', '왕자', '는', '또', '다른', '감동', '그', '자체', '네', '요']\n"
     ]
    }
   ],
   "source": [
    "idx = 1000\n",
    "all_inputs[idx]\n",
    "tokens = tokenizer.encode(all_inputs[idx])\n",
    "print(tokens.ids)\n",
    "print(tokens.tokens)"
   ]
  },
  {
   "cell_type": "code",
   "execution_count": 40,
   "id": "c72f9593",
   "metadata": {},
   "outputs": [
    {
     "data": {
      "text/plain": [
       "([1986, 5899, 5444, 5684, 6111], 0)"
      ]
     },
     "execution_count": 40,
     "metadata": {},
     "output_type": "execute_result"
    }
   ],
   "source": [
    "tokenizer.decode(tokens.ids)\n",
    "tokenizer.encode(train_inputs[0]).ids, train_labels[0]"
   ]
  },
  {
   "cell_type": "code",
   "execution_count": null,
   "id": "59b2b5cf",
   "metadata": {},
   "outputs": [],
   "source": [
    "# Pytorch 사용자 정의 Dataset(Custom Dataset)정의\n",
    "# 1. Dataset 상속\n",
    "# 2. __len__(self) : 총 데이터의 개수 반환\n",
    "# 3. __getitem__(self, index) : index의 x,y를 반환\n"
   ]
  },
  {
   "cell_type": "markdown",
   "id": "09f5c31d-633c-4a31-8f66-dff2ecf8e86a",
   "metadata": {},
   "source": [
    "## Dataset, DataLoader 생성"
   ]
  },
  {
   "cell_type": "code",
   "execution_count": null,
   "id": "ff27280e-dfb7-4947-9192-777e6984286f",
   "metadata": {},
   "outputs": [],
   "source": [
    "import torch\n",
    "from torch.utils.data import Dataset, DataLoader\n",
    "\n",
    "class NSMCDataset(Dataset):\n",
    "    def __init__(self, texts, labels, max_length, tokenizer):\n",
    "        \"\"\"\n",
    "        texts: list - 댓글 목록. 리스트에 댓글들을 담아서 받는다. [\"댓글\", \"댓글\", ...]\n",
    "        labels: list - 댓글 감정(긍/부정) 목록. \n",
    "        max_length: 개별 댓글의 최대 token 개수. 모든 댓글의 토큰수를 max_length에 맞춘다.\n",
    "        tokenizer: Tokenizer\n",
    "        \"\"\"\n",
    "        self.max_length = max_length\n",
    "        self.tokenizer = tokenizer\n",
    "        self.labels = labels\n",
    "        # self.texts : 입력댓글 - token id로 변환된 댓글(문서). 글자수는 max_length에 맞춤.\n",
    "        #              max_length 보다 적으면 [PAD] 추가, max_length보다 많으면 잘라낸다.\n",
    "        self.texts = [self.__pad_token_sequences(tokenizer.encode(txt).ids) for txt in texts]\n",
    "\n",
    "\n",
    "    ###########################################################################################\n",
    "    # id로 구성된 개별 문장 token list를 받아서 패딩 추가 [20, 2, 1] => [20, 2, 1, 0, 0, 0, ..]\n",
    "    # max_lenth에 토큰리스트의 개수를 맞춰주는 함수.\n",
    "    ############################################################################################\n",
    "    def __pad_token_sequences(self, token_sequences):\n",
    "        \"\"\"\n",
    "        id로 구성된 개별 문서(댓글)의 token_id list를 받아서 max_length 길이에 맞추는 메소드\n",
    "        max_length 보다 토큰수가 적으면 [PAD] 추가, 많으면 max_length 크기로 줄인다.\n",
    "            ex) [20, 2, 1] => [20, 2, 1, 0, 0, 0, ..]\n",
    "                [20,30,40,50,60,70,80] => [20,30,40,50,60]\n",
    "        \"\"\"\n",
    "        pad_token_id = self.tokenizer.token_to_id(\"[PAD]\")\n",
    "        seq_len = len(token_sequences) # 입력받은 토큰 개수\n",
    "        result = None\n",
    "        if seq_len > self.max_length: #잘라내기\n",
    "            result = token_sequences[:self.max_length]\n",
    "        else:\n",
    "            result = token_sequences + ([pad_token_id]* (self.max_length - seq_len))\n",
    "\n",
    "        return result\n",
    "\n",
    "        \n",
    "        \n",
    "    def __len__(self):\n",
    "        return len(self.labels) # 총 데이터 개수 반환\n",
    "\n",
    "    def __getitem__(self, idx):\n",
    "        \"\"\"\n",
    "        idx 번째 text와 label을 학습 가능한 type으로 변환해서 반환\n",
    "        Parameter\n",
    "            idx: int 조회할 index\n",
    "        Return\n",
    "            tuple: (torch.LongTensor, torch.FloatTensor) - 댓글 토큰_id 리스트, 정답 Label\n",
    "        \"\"\"\n",
    "        txt = self.texts[idx]\n",
    "        label = self.labels[idx]\n",
    "\n",
    "        return (torch.tensor(txt, dtype=torch.int64), torch.tensor([label], dtype=torch.float32))\n",
    "    "
   ]
  },
  {
   "cell_type": "code",
   "execution_count": 49,
   "id": "9515bb6f-703d-4277-b645-8869267f5297",
   "metadata": {},
   "outputs": [
    {
     "data": {
      "text/plain": [
       "[5, 11, 10, 9, 22]"
      ]
     },
     "execution_count": 49,
     "metadata": {},
     "output_type": "execute_result"
    }
   ],
   "source": [
    "all_inputs_lenth = [len(tokenizer.encode(txt)) for txt in all_inputs]\n",
    "all_inputs_lenth[:5] "
   ]
  },
  {
   "cell_type": "code",
   "execution_count": 44,
   "id": "7a21b85c",
   "metadata": {},
   "outputs": [
    {
     "data": {
      "text/plain": [
       "(0, 87)"
      ]
     },
     "execution_count": 44,
     "metadata": {},
     "output_type": "execute_result"
    }
   ],
   "source": [
    "import numpy as np\n",
    "np.min(all_inputs_lenth), np.max(all_inputs_lenth)\n"
   ]
  },
  {
   "cell_type": "code",
   "execution_count": null,
   "id": "161f63e1-4ba8-4ccc-8c62-422b1f30b431",
   "metadata": {},
   "outputs": [
    {
     "data": {
      "text/plain": [
       "array([29., 41.])"
      ]
     },
     "execution_count": 45,
     "metadata": {},
     "output_type": "execute_result"
    }
   ],
   "source": [
    "np.quantile(all_inputs_lenth, q=[0.9,0.95])\n",
    "# 토큰수가 많은 것 기준으로 90% 이상은 29개 이상. 95%이상은 41개 이상\n",
    "# 전체 중 90%의 토큰수는 29미만, 95%는 41개 미만."
   ]
  },
  {
   "cell_type": "code",
   "execution_count": 61,
   "id": "ee963d58-0008-4fa6-b426-e3e332591f50",
   "metadata": {},
   "outputs": [],
   "source": [
    "MAX_LENGTH = 30\n",
    "trainset = NSMCDataset(train_inputs, train_labels, MAX_LENGTH, tokenizer)\n",
    "testset = NSMCDataset(test_inputs, test_labels, MAX_LENGTH, tokenizer)\n"
   ]
  },
  {
   "cell_type": "code",
   "execution_count": null,
   "id": "eea5f00e-70fa-475b-8e2d-d06d120e3bdf",
   "metadata": {},
   "outputs": [],
   "source": [
    "BATCH_SIZE = 64\n",
    "train_loader = DataLoader(trainset, batch_size=BATCH_SIZE, shuffle=True, drop_last=True)\n",
    "test_loader = DataLoader(testset, batch_size=BATCH_SIZE)"
   ]
  },
  {
   "cell_type": "markdown",
   "id": "42b5f038-b32c-4e4e-82c8-956c7cbe0c4d",
   "metadata": {},
   "source": [
    "# 모델링\n",
    "- Embedding Layer를 이용해 Word Embedding Vector를 추출한다.\n",
    "- LSTM을 이용해 Feature 추출\n",
    "- Linear + Sigmoid로 댓글 긍정일 확률 출력\n",
    "  \n",
    "![outline](figures/rnn/RNN_outline.png)\n",
    "\n",
    "## 모델 정의"
   ]
  },
  {
   "cell_type": "code",
   "execution_count": 63,
   "id": "ac88afd6-5c8f-4ade-b930-86c9425e86e9",
   "metadata": {},
   "outputs": [
    {
     "name": "stdout",
     "output_type": "stream",
     "text": [
      "cpu\n"
     ]
    }
   ],
   "source": [
    "import torch\n",
    "import torch.nn as nn\n",
    "from torchinfo import summary\n",
    "import numpy as np\n",
    "\n",
    "device = \"cuda\" if torch.cuda.is_available() else \"cpu\"\n",
    "print(device)"
   ]
  },
  {
   "cell_type": "code",
   "execution_count": 64,
   "id": "4e9cbbd8-d8b4-4a51-ac7a-5765722f139e",
   "metadata": {},
   "outputs": [],
   "source": [
    "# 모델 정의\n",
    "class NSMCClassifier(nn.Module):\n",
    "\n",
    "    def __init__(self, vocab_size, embedding_dim, hidden_size, num_layers, bidirectional=True, dropout_rate=0.2):\n",
    "        \"\"\"\n",
    "        Args:\n",
    "            vocab_size(int) - 어휘사전의 총 어휘수\n",
    "            embedding_dim(int) - (word) embedding vector의 차원수\n",
    "            hidden_size(int) - LSTM의 hidden state의 feature수\n",
    "            num_layers(int) - LSTM의 layer의 개수\n",
    "            bidirectional(bool) - LSTM의 양방향 여부\n",
    "            dropout_rate(float) - LSTM이 두개 이상의 layer로 구성된 경우 적용할 drouput 비율. \n",
    "                                  Dropout Layer의 dropout 비율\n",
    "        \"\"\"\n",
    "        super().__init__()\n",
    "        # 모델을 구성할 Layer들을 정의 - Embedding, LSTM, Dropout, Linear(추론기기), Sigmoid\n",
    "        self.embedding = nn.Embedding(\n",
    "            num_embeddings=vocab_size,  # 총 단어수->tokenizer에 등록된 총 단어수.\n",
    "            embedding_dim=embedding_dim,# 임베딩 벡터의 차원수.\n",
    "            padding_idx=0               # [PAD]의 토큰 ID(tokenizer.token_to_index(\"[PAD]\"))\n",
    "                                        # padding 토큰은 학습하지 않는다.\n",
    "        )\n",
    "        # embdding layer의 출력 shape: (batch_size:64, seq_length: 문서 토큰수, embedding_dim)\n",
    "\n",
    "        self.lstm = nn.LSTM(\n",
    "            input_size=embedding_dim,  # 개별 토큰(단어)의 feature수(embedding -> LSTM)\n",
    "            hidden_size=hidden_size, \n",
    "            num_layers=num_layers,\n",
    "            bidirectional=bidirectional, \n",
    "            dropout=dropout_rate if num_layers > 1 else 0, # stacked rnn일 경우 설정.\n",
    "        )\n",
    "\n",
    "        self.dropout = nn.Dropout(dropout_rate) # LSTM 과 Linear 사이에 과적합 방지를 위해서 사용.\n",
    "\n",
    "        #lstm의 출력: out, (hidden, cell)\n",
    "        #out: 모든 타임스텝의 hidden state값 - [seq_len, batch, hidden * bidirectional]\n",
    "        # hidden: 마지막 타임스텝의 hidden state(단기기억) [bid * num_layers, batch, hidden]\n",
    "        # cell : 마지막 타임스텝의 cell state(장기기억)\n",
    "\n",
    "        input_features = hidden_size*2 if bidirectional else hidden_size\n",
    "        self.classifier = nn.Linear(input_features  , 1)  #출력 1: 이진분류 -> positive의 확률\n",
    "        self.sigmoid = nn.Sigmoid()  # classifier의 출력값을 확률(0 ~ 1)값으로 변환하는 함수.\n",
    "        \n",
    "    def forward(self, X):\n",
    "        \"\"\"\n",
    "        Args:\n",
    "            X(tensor): 입력 문서 토큰 리스트. shape: [batch_size, seq_length(max_length:문서구성토큰수)] - [64, 30]\n",
    "        \"\"\"\n",
    "        embedding_vectors = self.embedding(X) \n",
    "        # [batch, seq_len] -> embedding -> [batch, seq_len, embedding_dim]\n",
    "        # LSTM - batch_first=False: 입력 shape - [seq_len, batch_size, embedding_dim]\n",
    "        # embedding_vectors의 batch 축과 seq_len 축(값의 위치)을 바꿔준다.\n",
    "        embedding_vectors = embedding_vectors.transpose(1, 0)\n",
    "        out, _ = self.lstm(embedding_vectors)\n",
    "        # out.shape: [seq_len, batch, hidden_size * (2 if bidirectional else 1)]\n",
    "        # classifier(linear)에는 out의 마지막 index(마지막 seq) 값을 입력\n",
    "        output = self.dropout(out[-1])\n",
    "        output = self.classifier(output)\n",
    "        last_output = self.sigmoid(output)\n",
    "        return last_output"
   ]
  },
  {
   "cell_type": "code",
   "execution_count": null,
   "id": "3b9e9004",
   "metadata": {},
   "outputs": [],
   "source": [
    "# ev.transpose(1, 0)\n",
    "# # 파라미터의 순서: index를 이동시킬 축 위치\n",
    "# # 파라미터 값    : 이동할 대상 index의 축 위치\n",
    "# # 1 -> 0, 0 -> 1\n",
    "\n",
    "# ev = [\n",
    "#     [10, 20, 30], \n",
    "#     [40, 50, 60]\n",
    "# ] # shape: (2, 3)\n",
    "# a = ev.transpose(1, 0)\n",
    "# # 10 idx: [0, 0] -> [0, 0]\n",
    "# # 20 idx: [0, 1] -> [1, 0]\n",
    "# # 30 idx: [0, 2] -> [2, 0]\n",
    "# # 40 idx: [1, 0] -> [0, 1]\n",
    "# a = [\n",
    "#     [10, 40]\n",
    "#     [20, 50]\n",
    "#     [30, 60]\n",
    "# ] # shape: (3, 2)\n",
    "\n",
    "# b = a.reshape(3, 2)\n",
    "# [\n",
    "#     [10, 20], \n",
    "#     [30, 40],\n",
    "#     [50, 60]\n",
    "# ]\n"
   ]
  },
  {
   "cell_type": "code",
   "execution_count": null,
   "id": "550c8785",
   "metadata": {},
   "outputs": [],
   "source": []
  },
  {
   "cell_type": "code",
   "execution_count": null,
   "id": "212a6087",
   "metadata": {},
   "outputs": [],
   "source": []
  },
  {
   "cell_type": "markdown",
   "id": "af1a0171-371e-4cb5-9bd5-ad1e3c14480d",
   "metadata": {},
   "source": [
    "## 모델 생성"
   ]
  },
  {
   "cell_type": "code",
   "execution_count": 65,
   "id": "7830d2b5-d5ed-4b53-a442-bebc83077aec",
   "metadata": {},
   "outputs": [
    {
     "name": "stdout",
     "output_type": "stream",
     "text": [
      "NSMCClassifier(\n",
      "  (embedding): Embedding(26911, 100, padding_idx=0)\n",
      "  (lstm): LSTM(100, 64, num_layers=2, dropout=0.3, bidirectional=True)\n",
      "  (dropout): Dropout(p=0.3, inplace=False)\n",
      "  (classifier): Linear(in_features=128, out_features=1, bias=True)\n",
      "  (sigmoid): Sigmoid()\n",
      ")\n"
     ]
    }
   ],
   "source": [
    "VOCAB_SIZE = tokenizer.get_vocab_size() # 총 어휘수\n",
    "EMBEDDING_DIM = 100\n",
    "HIDDEN_SIZE = 64\n",
    "NUM_LAYERS = 2\n",
    "BIDIRECTIONAL=True\n",
    "DROPOUT_RATE = 0.3\n",
    "\n",
    "# 모델의 복잡도를 올린다. => EMBEDDING_DIM, HIDDEN_SIZE, NUM_LAYERS를 크게.\n",
    "# Auto regressive 모델이 아니면 BIDRECTIONAL=True (양방향.)\n",
    "\n",
    "model = NSMCClassifier(\n",
    "    vocab_size=VOCAB_SIZE,\n",
    "    embedding_dim=EMBEDDING_DIM,\n",
    "    hidden_size=HIDDEN_SIZE,\n",
    "    num_layers=NUM_LAYERS,\n",
    "    bidirectional=BIDIRECTIONAL,\n",
    "    dropout_rate=DROPOUT_RATE\n",
    ")\n",
    "model = model.to(device)\n",
    "print(model)"
   ]
  },
  {
   "cell_type": "code",
   "execution_count": 66,
   "id": "ae04a25a-c6dc-4833-883b-54972a16c171",
   "metadata": {},
   "outputs": [
    {
     "data": {
      "text/plain": [
       "==========================================================================================\n",
       "Layer (type:depth-idx)                   Output Shape              Param #\n",
       "==========================================================================================\n",
       "NSMCClassifier                           [64, 1]                   --\n",
       "├─Embedding: 1-1                         [64, 30, 100]             2,691,100\n",
       "├─LSTM: 1-2                              [30, 64, 128]             184,320\n",
       "├─Dropout: 1-3                           [64, 128]                 --\n",
       "├─Linear: 1-4                            [64, 1]                   129\n",
       "├─Sigmoid: 1-5                           [64, 1]                   --\n",
       "==========================================================================================\n",
       "Total params: 2,875,549\n",
       "Trainable params: 2,875,549\n",
       "Non-trainable params: 0\n",
       "Total mult-adds (Units.MEGABYTES): 526.13\n",
       "==========================================================================================\n",
       "Input size (MB): 0.02\n",
       "Forward/backward pass size (MB): 3.50\n",
       "Params size (MB): 11.50\n",
       "Estimated Total Size (MB): 15.02\n",
       "=========================================================================================="
      ]
     },
     "execution_count": 66,
     "metadata": {},
     "output_type": "execute_result"
    }
   ],
   "source": [
    "# summary\n",
    "i = torch.randint(1, 10, (64, MAX_LENGTH)) # int64 타입의 dummy 입력 데이터\n",
    "# 입력 shape: (batch, seq_len)\n",
    "summary(model, input_data=i, device=device)\n",
    "# summary(모델, input_shape) => 내부적으로 입력데이터(float32)를 생성해서 추론"
   ]
  },
  {
   "cell_type": "code",
   "execution_count": null,
   "id": "edbe5b3d-8b2f-4164-9b97-29e6aadced5e",
   "metadata": {},
   "outputs": [],
   "source": []
  },
  {
   "cell_type": "code",
   "execution_count": null,
   "id": "0a8d229e-9a99-4a28-9dfd-9582686ba052",
   "metadata": {},
   "outputs": [],
   "source": []
  },
  {
   "cell_type": "markdown",
   "id": "4bdd5885-8150-4529-ad3a-84931a8824c5",
   "metadata": {},
   "source": [
    "## 학습"
   ]
  },
  {
   "cell_type": "markdown",
   "id": "a48a1bf6-d8eb-42d0-996e-f975e93888af",
   "metadata": {},
   "source": [
    "### Train/Test 함수 정의"
   ]
  },
  {
   "cell_type": "code",
   "execution_count": null,
   "id": "46099bec-eee3-4cef-921b-ce9ee6cf0f0d",
   "metadata": {},
   "outputs": [],
   "source": [
    "# 1 epoch train 하는 함수.\n",
    "def train(model, dataloader, loss_fn, optimizer, device=\"cpu\"):\n",
    "    # 1. 모델을 train모드로 변환\n",
    "    model.train()\n",
    "    # 2. 모델을 device로 이동\n",
    "    model = model.to(device)\n",
    "    total_loss = 0.0  # step별 loss를 누적\n",
    "    # step 단위로 모델 학습 (batch)\n",
    "    for X, y in dataloader:\n",
    "        # 1. X, y를 device로 이동\n",
    "        X, y = X.to(device), y.to(device)\n",
    "        # 2. 추론\n",
    "        pred = model(X)\n",
    "        # 3. loss 계산\n",
    "        loss = loss_fn(pred, y)\n",
    "        # 4. gradient계산\n",
    "        loss.backward()\n",
    "        # 5. 파라미터 업데이트 w.data - w.grad * lr\n",
    "        optimizer.step()\n",
    "        # 6. gradient 초기화\n",
    "        optimizer.zero_grad()\n",
    "        # loss누적\n",
    "        total_loss += loss.item()\n",
    "    # 1 epoch 학습 완료\n",
    "    return total_loss / len(dataloader) # 1 epoch의 train loss를 반환. (total loss/step수)"
   ]
  },
  {
   "cell_type": "code",
   "execution_count": null,
   "id": "4c5eb3ea-78e8-4248-a8ce-d07a4c362d1a",
   "metadata": {},
   "outputs": [],
   "source": [
    "# 1 epoch 평가/검증 함수\n",
    "def test(model, dataloader, loss_fn, device=\"cpu\"):\n",
    "    # 1. 모델을 eval 모드로 변경, model의 device 이동\n",
    "    model.eval()\n",
    "    model = model.to(device)\n",
    "    # loss, accuracy\n",
    "    total_loss = 0.0\n",
    "    total_acc = 0.0\n",
    "    with torch.no_grad():\n",
    "        for X, y in dataloader: \n",
    "            # 1 step 처리.\n",
    "            # 1. X, y를 device 이동.\n",
    "            X, y = X.to(device), y.to(device)\n",
    "            # y = y.reshape(-1, 1)\n",
    "            # 2. 추론\n",
    "            pred_proba = model(X)  # 양성일 확률\n",
    "            pred_label = (pred_proba > 0.5).type(torch.int32) \n",
    "            total_loss += loss_fn(pred_proba, y).item()\n",
    "            total_acc += (pred_label == y).sum().item()\n",
    "        \n",
    "        # return loss, acc\n",
    "        return total_loss / len(dataloader),  total_acc /len(dataloader.dataset)"
   ]
  },
  {
   "cell_type": "code",
   "execution_count": null,
   "id": "8de42da4-8991-4bcb-9ce9-18155459dec2",
   "metadata": {},
   "outputs": [],
   "source": []
  },
  {
   "cell_type": "markdown",
   "id": "4c8853d0-b137-47bb-8f0d-fc4f05700cf2",
   "metadata": {},
   "source": [
    "### Train"
   ]
  },
  {
   "cell_type": "code",
   "execution_count": 69,
   "id": "cd806dda-5058-4c44-a3f4-28cadc8a90d0",
   "metadata": {},
   "outputs": [],
   "source": [
    "LR = 0.0001\n",
    "EPOCHS = 3\n",
    "loss_fn = nn.BCELoss()\n",
    "optimizer = torch.optim.Adam(model.parameters(), lr=LR)"
   ]
  },
  {
   "cell_type": "code",
   "execution_count": 71,
   "id": "816e18c2-17bf-4621-b630-b47e16c34bf4",
   "metadata": {},
   "outputs": [
    {
     "name": "stdout",
     "output_type": "stream",
     "text": [
      "[0/3] train loss: 0.43578337270939804, val loss: 0.42131307578224053, val acc: 0.80478\n",
      "[1/3] train loss: 0.39164698574846235, val loss: 0.3972018604616985, val acc: 0.8187\n",
      "[2/3] train loss: 0.365767106331163, val loss: 0.38362003786637044, val acc: 0.82544\n",
      "483.2132902145386\n"
     ]
    }
   ],
   "source": [
    "import time \n",
    "\n",
    "s = time.time()\n",
    "train_loss_list = []\n",
    "val_loss_list = []\n",
    "val_acc_list = []\n",
    "for epoch in range(EPOCHS):\n",
    "    train_loss = train(model, train_loader, loss_fn, optimizer, device)\n",
    "    val_loss, val_acc = test(model, test_loader, loss_fn, device)\n",
    "    train_loss_list.append(train_loss)\n",
    "    val_loss_list.append(val_loss)\n",
    "    val_acc_list.append(val_acc)\n",
    "    print(f\"[{epoch}/{EPOCHS}] train loss: {train_loss}, val loss: {val_loss}, val acc: {val_acc}\")\n",
    "e = time.time()\n",
    "print(e-s)"
   ]
  },
  {
   "cell_type": "code",
   "execution_count": 72,
   "id": "e2b6ec21-1d3c-48c2-b7c3-314daea6576c",
   "metadata": {},
   "outputs": [
    {
     "data": {
      "text/plain": [
       "torch.Size([64])"
      ]
     },
     "execution_count": 72,
     "metadata": {},
     "output_type": "execute_result"
    }
   ],
   "source": [
    "next(iter(train_loader))[1].shape"
   ]
  },
  {
   "cell_type": "markdown",
   "id": "32690441-482a-46b1-b91b-b85329d2141f",
   "metadata": {},
   "source": [
    "## 모델저장"
   ]
  },
  {
   "cell_type": "code",
   "execution_count": 73,
   "id": "80c16618-1517-4371-8e37-ae3cf03428b0",
   "metadata": {},
   "outputs": [],
   "source": [
    "torch.save(model, 'saved_models/nsmc/model.pt')"
   ]
  },
  {
   "cell_type": "code",
   "execution_count": null,
   "id": "2e2d41e8-0715-4f50-aa37-11a8e142706a",
   "metadata": {},
   "outputs": [],
   "source": [
    "#모델 로드\n",
    "# torch.load('saved_models/nsmc/model.pt', weights_only=False)"
   ]
  },
  {
   "cell_type": "markdown",
   "id": "a3de7ed5-f7f6-4206-b16f-f8535a03405c",
   "metadata": {},
   "source": [
    "# 서비스"
   ]
  },
  {
   "cell_type": "markdown",
   "id": "827bdaa3-008d-4a93-aee6-0877e829ef32",
   "metadata": {},
   "source": [
    "## 전처리 함수들"
   ]
  },
  {
   "cell_type": "code",
   "execution_count": 78,
   "id": "1a2661a9-3964-4117-b273-e5d8bd4194b3",
   "metadata": {},
   "outputs": [],
   "source": [
    "from konlpy.tag import Okt\n",
    "\n",
    "morph_tokenizer = Okt()\n",
    "def text_preprocessing(text):\n",
    "    \n",
    "    text = text.lower()\n",
    "    text = re.sub(f\"[{string.punctuation}]+\", ' ', text)\n",
    "    return ' '.join(morph_tokenizer.morphs(text, stem=True))"
   ]
  },
  {
   "cell_type": "code",
   "execution_count": 77,
   "id": "315603df-159b-4317-9fb4-7897546b7cf7",
   "metadata": {},
   "outputs": [],
   "source": [
    "def pad_token_sequences(token_sequences, max_length):\n",
    "    \"\"\"padding 처리 메소드.\"\"\"\n",
    "    pad_token = tokenizer.token_to_id('[PAD]')  \n",
    "    seq_length = len(token_sequences)           \n",
    "    result = None\n",
    "    if seq_length > max_length:                 \n",
    "        result = token_sequences[:max_length]\n",
    "    else:                                            \n",
    "        result = token_sequences + ([pad_token] * (max_length - seq_length))\n",
    "    return result"
   ]
  },
  {
   "cell_type": "code",
   "execution_count": 89,
   "id": "8d73070a-0ee5-4f35-996c-b0d11ba08516",
   "metadata": {},
   "outputs": [],
   "source": [
    "def predict_data_preprocessing(text_list):\n",
    "    \"\"\"\n",
    "    모델에 입력할 수있는 input data를 생성\n",
    "    Parameter:\n",
    "        text_list: list - 추론할 댓글리스트\n",
    "    Return\n",
    "        torch.LongTensor - 댓글 token_id tensor\n",
    "    \"\"\"\n",
    "   #cleansing + 정규화\n",
    "    text_list = [text_preprocessing(txt) for txt in text_list]\n",
    "    # text -> 토큰화\n",
    "    token_list = [tokenizer.encode(txt).ids for txt in text_list]\n",
    "    # 토큰 리스트의 크기(size)를 max_length에 맞추기\n",
    "    token_list = [pad_token_sequences(token, MAX_LENGTH) for token in token_list]\n",
    "    return torch.tensor(token_list, dtype=torch.int64)\n",
    "    "
   ]
  },
  {
   "cell_type": "code",
   "execution_count": null,
   "id": "c4fc191e",
   "metadata": {},
   "outputs": [],
   "source": []
  },
  {
   "cell_type": "markdown",
   "id": "a1e19997-6b61-446f-ac72-376cd34ee495",
   "metadata": {},
   "source": [
    "## 추론"
   ]
  },
  {
   "cell_type": "code",
   "execution_count": null,
   "id": "5de602bf",
   "metadata": {},
   "outputs": [
    {
     "data": {
      "text/plain": [
       "'이 걸 영화 라고 만들다'"
      ]
     },
     "execution_count": 74,
     "metadata": {},
     "output_type": "execute_result"
    }
   ],
   "source": [
    "text_preprocessing(\"이걸 영화라고 만들었냐\")"
   ]
  },
  {
   "cell_type": "code",
   "execution_count": 87,
   "id": "52661dcf",
   "metadata": {},
   "outputs": [
    {
     "data": {
      "text/plain": [
       "[2206,\n",
       " 3648,\n",
       " 5474,\n",
       " 9261,\n",
       " 3454,\n",
       " 4028,\n",
       " 1,\n",
       " 1,\n",
       " 0,\n",
       " 0,\n",
       " 0,\n",
       " 0,\n",
       " 0,\n",
       " 0,\n",
       " 0,\n",
       " 0,\n",
       " 0,\n",
       " 0,\n",
       " 0,\n",
       " 0,\n",
       " 0,\n",
       " 0,\n",
       " 0,\n",
       " 0,\n",
       " 0,\n",
       " 0,\n",
       " 0,\n",
       " 0,\n",
       " 0,\n",
       " 0]"
      ]
     },
     "execution_count": 87,
     "metadata": {},
     "output_type": "execute_result"
    }
   ],
   "source": [
    "pad_token_sequences(tokenizer.encode('이걸영화라고만듬?>').ids, MAX_LENGTH)"
   ]
  },
  {
   "cell_type": "code",
   "execution_count": 90,
   "id": "a6fb00ab-60d0-45f2-bb16-505a5f5cc056",
   "metadata": {},
   "outputs": [],
   "source": [
    "comment_list = [\"아 진짜 재미없다.\", \"여기 식당 먹을만 해요\", \"이걸 영화라고 만들었냐?\", \"기대 안하고 봐서 그런지 괜찮은데.\", \"이걸 영화라고 만들었나?\", \"아! 뭐야 진짜.\", \"재미있는데.\", \"연기 짱 좋아. 한번 더 볼 의향도 있다.\", \"뭐 그럭저럭\"]\n",
    "\n",
    "input_tensor = predict_data_preprocessing(comment_list)"
   ]
  },
  {
   "cell_type": "code",
   "execution_count": 103,
   "id": "499c330d-69ff-43fb-9ee9-ad1c6054f9a3",
   "metadata": {},
   "outputs": [],
   "source": [
    "# GPT version\n",
    "def predict(model, comment_list:torch.tensor, input_tensor:torch.tensor, device=\"cpu\"):\n",
    "    \"\"\"\n",
    "    model로 input_tensor를 추론해서 긍정/부정적인 댓글인지 출력\n",
    "    출력 형식:\n",
    "        comment(댓글) label 확률\n",
    "        \"아 재미없다.\" 부정 0.9 (부정적인 댓글일 확률)\n",
    "        \"재미있다\" 긍정 0.87 (긍정적인 댓글일 확률)\n",
    "\n",
    "    NSMCClassifier 모델로 input_tensor를 추론해서 긍정/부정적인 댓글인지 출력\n",
    "    comment_list: 원본 댓글 텍스트 리스트\n",
    "    input_tensor: [batch_size, seq_len] 형태의 입력 tensor\n",
    "    \"\"\"\n",
    "    model.eval()\n",
    "    input_tensor = input_tensor.to(device)\n",
    "    model = model.to(device)\n",
    "\n",
    "    with torch.no_grad():\n",
    "        probs = model(input_tensor).squeeze(1)  # [batch_size]\n",
    "\n",
    "        for i, comment in enumerate(comment_list):\n",
    "            pos_prob = probs[i].item()\n",
    "            neg_prob = 1 - pos_prob\n",
    "            label = \"긍정\" if pos_prob > 0.5 else \"부정\"\n",
    "            confidence = round(max(pos_prob, neg_prob), 2)\n",
    "            print(f'\"{comment}\" {label} {confidence:.2f}')\n",
    "            print(f'\"{comment}\" {label} {confidence:.2f}')"
   ]
  },
  {
   "cell_type": "code",
   "execution_count": null,
   "id": "d138a0d6",
   "metadata": {},
   "outputs": [],
   "source": [
    "def predict(model, comment_list:torch.tensor, input_tensor:torch.tensor, device=\"cpu\"):\n",
    "    \"\"\"\n",
    "    model로 input_tensor를 추론해서 긍정/부정적인 댓글인지 출력\n",
    "    출력 형식:\n",
    "        comment(댓글) label 확률\n",
    "        \"아 재미없다.\" 부정 0.9 (부정적인 댓글일 확률)\n",
    "        \"재미있다\" 긍정 0.87 (긍정적인 댓글일 확률)\n",
    "    \"\"\"\n",
    "    model.eval()\n",
    "    model = model.to(device)\n",
    "    input_tensor = input_tensor.to(device)\n",
    "\n",
    "    with torch.no_grad():\n",
    "        pred = model(input_tensor) #shape : (batch, 1) -> pos일 확률\n",
    "\n",
    "        for txt, pos_proba in zip(comment_list,pred):\n",
    "            label = \"긍정\" if pos_proba.item() > 0.5 else \"부정\"\n",
    "            proba = pos_proba if pos_proba.item() > 0.5 else 1 - pos_proba.item()\n",
    "            print(txt, label, round(proba, 3), sep='\\t')"
   ]
  },
  {
   "cell_type": "code",
   "execution_count": 102,
   "id": "5273ac02-81f3-4391-b802-f9dca1f8d032",
   "metadata": {},
   "outputs": [
    {
     "name": "stdout",
     "output_type": "stream",
     "text": [
      "아 진짜 재미없다.\t부정\t0.984\n"
     ]
    },
    {
     "ename": "TypeError",
     "evalue": "type Tensor doesn't define __round__ method",
     "output_type": "error",
     "traceback": [
      "\u001b[31m---------------------------------------------------------------------------\u001b[39m",
      "\u001b[31mTypeError\u001b[39m                                 Traceback (most recent call last)",
      "\u001b[36mCell\u001b[39m\u001b[36m \u001b[39m\u001b[32mIn[102]\u001b[39m\u001b[32m, line 1\u001b[39m\n\u001b[32m----> \u001b[39m\u001b[32m1\u001b[39m \u001b[43mpredict\u001b[49m\u001b[43m(\u001b[49m\u001b[43mmodel\u001b[49m\u001b[43m,\u001b[49m\u001b[43m \u001b[49m\u001b[43mcomment_list\u001b[49m\u001b[43m,\u001b[49m\u001b[43m \u001b[49m\u001b[43minput_tensor\u001b[49m\u001b[43m,\u001b[49m\u001b[43m \u001b[49m\u001b[43mdevice\u001b[49m\u001b[43m)\u001b[49m\n",
      "\u001b[36mCell\u001b[39m\u001b[36m \u001b[39m\u001b[32mIn[101]\u001b[39m\u001b[32m, line 20\u001b[39m, in \u001b[36mpredict\u001b[39m\u001b[34m(model, comment_list, input_tensor, device)\u001b[39m\n\u001b[32m     18\u001b[39m label = \u001b[33m\"\u001b[39m\u001b[33m긍정\u001b[39m\u001b[33m\"\u001b[39m \u001b[38;5;28;01mif\u001b[39;00m pos_proba.item() > \u001b[32m0.5\u001b[39m \u001b[38;5;28;01melse\u001b[39;00m \u001b[33m\"\u001b[39m\u001b[33m부정\u001b[39m\u001b[33m\"\u001b[39m\n\u001b[32m     19\u001b[39m proba = pos_proba \u001b[38;5;28;01mif\u001b[39;00m pos_proba.item() > \u001b[32m0.5\u001b[39m \u001b[38;5;28;01melse\u001b[39;00m \u001b[32m1\u001b[39m - pos_proba.item()\n\u001b[32m---> \u001b[39m\u001b[32m20\u001b[39m \u001b[38;5;28mprint\u001b[39m(txt, label, \u001b[38;5;28;43mround\u001b[39;49m\u001b[43m(\u001b[49m\u001b[43mproba\u001b[49m\u001b[43m,\u001b[49m\u001b[43m \u001b[49m\u001b[32;43m3\u001b[39;49m\u001b[43m)\u001b[49m, sep=\u001b[33m'\u001b[39m\u001b[38;5;130;01m\\t\u001b[39;00m\u001b[33m'\u001b[39m)\n",
      "\u001b[31mTypeError\u001b[39m: type Tensor doesn't define __round__ method"
     ]
    }
   ],
   "source": [
    "predict(model, comment_list, input_tensor, device)"
   ]
  },
  {
   "cell_type": "code",
   "execution_count": null,
   "id": "a0510a47-9189-4c2a-a6e9-33b04971f2b6",
   "metadata": {},
   "outputs": [
    {
     "name": "stdout",
     "output_type": "stream",
     "text": [
      "분석하려는 댓글을 입력하세요. 종료하려면 !quit을 입력\n"
     ]
    },
    {
     "ename": "TypeError",
     "evalue": "predict() missing 2 required positional arguments: 'comment_list' and 'input_tensor'",
     "output_type": "error",
     "traceback": [
      "\u001b[31m---------------------------------------------------------------------------\u001b[39m",
      "\u001b[31mTypeError\u001b[39m                                 Traceback (most recent call last)",
      "\u001b[36mCell\u001b[39m\u001b[36m \u001b[39m\u001b[32mIn[104]\u001b[39m\u001b[32m, line 8\u001b[39m\n\u001b[32m      6\u001b[39m     \u001b[38;5;28;01mbreak\u001b[39;00m\n\u001b[32m      7\u001b[39m input_tensor = predict_data_preprocessing([comment])\n\u001b[32m----> \u001b[39m\u001b[32m8\u001b[39m \u001b[43mpredict\u001b[49m\u001b[43m(\u001b[49m\u001b[43minput_tensor\u001b[49m\u001b[43m)\u001b[49m\n",
      "\u001b[31mTypeError\u001b[39m: predict() missing 2 required positional arguments: 'comment_list' and 'input_tensor'"
     ]
    }
   ],
   "source": [
    "print('분석하려는 댓글을 입력하세요. 종료하려면 !quit을 입력')\n",
    "while True:\n",
    "    comment = input(\"댓글:\")\n",
    "    if comment == \"!quit\":\n",
    "        print(\"종료\")\n",
    "        break\n",
    "    comment_list = [comment]\n",
    "    input_tensor = predict_data_preprocessing([comment])\n",
    "    predict(input_tensor, comment_list, input_tensor, device)"
   ]
  },
  {
   "cell_type": "code",
   "execution_count": null,
   "id": "8cff5343",
   "metadata": {},
   "outputs": [],
   "source": []
  }
 ],
 "metadata": {
  "kernelspec": {
   "display_name": "dl",
   "language": "python",
   "name": "python3"
  },
  "language_info": {
   "codemirror_mode": {
    "name": "ipython",
    "version": 3
   },
   "file_extension": ".py",
   "mimetype": "text/x-python",
   "name": "python",
   "nbconvert_exporter": "python",
   "pygments_lexer": "ipython3",
   "version": "3.12.10"
  }
 },
 "nbformat": 4,
 "nbformat_minor": 5
}
