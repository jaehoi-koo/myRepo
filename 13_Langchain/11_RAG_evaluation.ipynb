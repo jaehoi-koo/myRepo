{
 "cells": [
  {
   "cell_type": "markdown",
   "metadata": {},
   "source": [
    "# RAG 평가 개요\n",
    "- RAG 평가란 RAG 시스템이 주어진 입력에 대해 얼마나 효과적으로 관련 정보를 검색하고, 이를 기반으로 정확하고 유의미한 응답을 생성하는지를 측정하는 과정이다. \n",
    "- **평가 요소**\n",
    "    - **검색 단계 평가**\n",
    "        - 입력 질문에 대해 검색된 문서나 정보의 관련성과 정확성을 평가.\n",
    "    - **생성 단계 평가**\n",
    "        - 검색된 정보를 기반으로 생성된 응답의 품질, 정확성등을 평가.\n",
    "- **평가 방법**\n",
    "    - 온/오프라인 평가\n",
    "        1. **오프라인 평가**\n",
    "            - 미리 준비된 데이터셋을 활용하여 RAG 시스템의 성능을 측정한다.\n",
    "        2. **온라인 평가**\n",
    "            - 실제 사용자 트래픽과 피드백을 기반으로 시스템의 실시간 성능을 평가한다.\n",
    "    - 정량적/정성적 평가\n",
    "        1. 정량적 평가\n",
    "            - 자동화된 지표를 사용하여 생성된 텍스트의 품질을 평가한다.\n",
    "        2. 정성적 평가\n",
    "            - 전문가나 일반 사용자가 직접 생성된 응답의 품질을 평가하여 주관적인 지표를 평가한다."
   ]
  },
  {
   "cell_type": "markdown",
   "metadata": {},
   "source": [
    "# [RAGAS](https://www.ragas.io/)\n",
    "- RAGAS는 RAG 파이프라인을 **정량적 으로 평가하는** 오픈소스 프레임 워크이다. \n",
    "- RAGAS 문서: https://docs.ragas.io/en/stable/\n",
    "## 설치\n",
    "- `pip install ragas`"
   ]
  },
  {
   "cell_type": "code",
   "execution_count": 1,
   "metadata": {},
   "outputs": [
    {
     "data": {
      "text/plain": [
       "'0.2.15'"
      ]
     },
     "execution_count": 1,
     "metadata": {},
     "output_type": "execute_result"
    }
   ],
   "source": [
    "import ragas\n",
    "\n",
    "ragas.__version__"
   ]
  },
  {
   "cell_type": "markdown",
   "metadata": {},
   "source": [
    "## RAGAS 평가 지표 개요\n",
    "![ragas_score](figures/ragas_score.png)\n",
    "- **Generation**\n",
    "    - llm 모델이 생성한 답변에 대한 평가 지표들.\n",
    "    - **Faithfulness(신뢰성)**\n",
    "        -  생성된 답변과 검색된 문서(context)간의 관련성을 평가하는 지표\n",
    "        -  생성된 답변이 주어진 문맥(context)에 얼마나 충실한지를 평가하는 지표로 할루시네이션에 대한 평가로 볼 수있다.\n",
    "    - **Answer relevancy(답변 적합성)**\n",
    "        - 생성된 답변과 사용자의 질문간의 관련성을 평가하는 지표\n",
    "        - 생성된 답변이 사용자의 질문과 얼마나 관련성이 있는지를 평가하는 지표.\n",
    "- **Retrieval**\n",
    "    -  질문에 대해 검색한 문서(context)들에 대한 평가\n",
    "    -  **Context Precision(문맥 정밀도)**\n",
    "        -  검색된 문서(context)들 중 질문과 관련 있는 것들이 **얼마나 상위 순위에 위치하는지** 평가하는 지표.\n",
    "    -  **Context Recall(문맥 재현률)**\n",
    "        -  검색된 문서(context)가 정답(ground-truth)의 정보를 얼마나 포함하고 있는지 평가하는 지표.\n",
    "- 이러한 지표들은 RAG 파이프라인의 성능을 다각도로 평가하는 데 활용된다.\n",
    "![RAGAS_score2](figures/RAGAS_score2.png)"
   ]
  },
  {
   "cell_type": "markdown",
   "metadata": {},
   "source": [
    "## 주요 평가지표\n",
    "### Generation 평가\n",
    "- LLM이 생성한 답변에 대한 평가\n",
    "  \n",
    "#### Faithfulness (신뢰성)\n",
    "- 생성된 답변이 얼마나 주어진 검색 문서들(context)를 잘 반영해서 생성되었는지 평가한다. 할루시네이션에 대한 평가라고 할 수 있다. \n",
    "- 점수범위: **0 ~ 1** (1에 가까울수록 좋음)\n",
    "- 답변에 포함된 모든 주장이 context에서 얼마나 추출 가능한지를 확인한다.\n",
    "\n",
    "##### 평가 방법\n",
    "1. Answer에서 주장 구문(claim statement)들을 생성(추출)한다. (주장이란, 질문(user input)과 관련된 내용)\n",
    "    - 예) \n",
    "        - **질문**: 한국의 수도는 어디이고 인구는 얼마나 되나요? \n",
    "        - **LLM 답변**: 한국의 수도는 서울이고 인구수는 3000만명이다. \n",
    "        - **주장(claim)**: \n",
    "            1. 한국의 수도는 서울이다.\n",
    "            2. 인구수는 3000만명이다.\n",
    "2. 각 주장들을 context로 부터 추론 가능한지 판단한다. 이를 바탕으로 faithfulness 점수를 계산한다.\n",
    "    - 예)\n",
    "        - context: 한국은 동아시아에 위치하고 있는 나라다. 한국의 수도는 서울이다. .... 한국의 인구는 5000만명이고 서울에 1000만이 살고 있다.\n",
    "        - 위 context에서 추론 가능한 주장: \n",
    "            - 한국의 수도는 서울이다. -> context에서 추론가능한 주장.\n",
    "            - 한국의 인구는 3000만명이다. -> context에서 추론 불가능한 주장.\n",
    "3. **Faithfulness score** 를 계산한다. 총 주장 수 중에서 context로 부터 추론가능한 주장의 개수.    \n",
    "    - 예)\n",
    "        - Faithfulness Score = $\\cfrac{1}{2} = 0.5$ (두 개의 주장 중 한 개의 주장만 context에서 유추할 수있다.)\n",
    "    - LLM 답변에서 주장을 추출 하는 것과 각 주장이 context에서 추론 가능한 지를 판단하는 것은 LLM 을 활용한다.\n",
    "- 공식\n",
    "    $$\n",
    "    \\text{Faithfulness Score}\\;=\\;\\cfrac{\\text{주어진\\;context\\;에서\\;추론할\\;수\\;있는\\;주장의\\;개수}}{\\text{총\\;주장\\;개수}}\n",
    "    $$"
   ]
  },
  {
   "cell_type": "code",
   "execution_count": null,
   "metadata": {},
   "outputs": [],
   "source": []
  },
  {
   "cell_type": "markdown",
   "metadata": {},
   "source": [
    "#### Answer relevancy (답변 적합성)\n",
    "- 생성된 답변이 질문(user input)에 얼마나 잘 부합하는 지를 평가한다.\n",
    "- 점수 범위: -1~1 (1에 가까울수록 좋음)\n",
    "- LLM이 생성한 답변을 기반으로 질문들을 생성한다. 이렇게 생성한 질문들과 실제 질문(user input)의 embedding vector 간의 **코사인 유사도**를 측정한다.\n",
    "\n",
    "##### 평가방법\n",
    "1. LLM이 생성한 답변을 기반으로 질문들을 생성한다.\n",
    "    - 예) \n",
    "        - **LLM** 답변: 한국의 수도는 서울이고 인구수는 3000만명이다. \n",
    "        - **생성된 질문**: \n",
    "            1. 한국의 수도는 어디이고 인구는 얼마나 되나요?\n",
    "            2. 한국의 수도는 어디인가요?\n",
    "            3. 한국의 인구는 얼마나 되나요?\n",
    "2. 실제 질문과 생성한 질문간의 코사인 유사도를 측정한다. 그 평균이 최종 점수가 된다.\n",
    "    - 예)\n",
    "        - **실제 질문**: 한국의 수도는 어디이고 인구는 얼마나 되나요?\n",
    "        - **생성된 질문**: \n",
    "            1. 한국의 수도는 어디이고 인구는 얼마나 되나요?\n",
    "            2. 한국의 수도는 어디인가요?\n",
    "            3. 한국의 인구는 얼마나 되나요?\n",
    "- 공식\n",
    "  $$\n",
    "    \\cfrac{1}{N} \\sum_{i=1}^{N} \\text{cosine\\_similarity}(q_{\\text{user}_{_i}}, q_{\\text{generated}})\n",
    "  $$"
   ]
  },
  {
   "cell_type": "code",
   "execution_count": null,
   "metadata": {},
   "outputs": [],
   "source": []
  },
  {
   "cell_type": "markdown",
   "metadata": {},
   "source": [
    "### Retrieval 평가\n",
    "User input에 대해 Vector store에서 검색한 context에 대한 평가\n",
    "\n",
    "#### Context Precision\n",
    "- 사용자가 질문(query)에 대해 검색된 문서들이 답변 생성에 얼마나 유용한지를 평가한다.\n",
    "- 검색된 K개의 문서(context)들 중 **질문과 관련 있는 문서들이 얼마나 상위 순위**에 있는 지로 평가.\n",
    "- 점수 범위: 0~1 (1에 가까울수록 좋음)\n",
    "\n",
    "\n",
    "##### 평가방법\n",
    "\n",
    "- 공식\n",
    "$$\n",
    " \\text{Context\\;Precision@K} = \\frac{\\sum_{k=1}^{K} \\left( \\text{Precision@k} \\times v_k \\right)}{\\ 상위\\;K개\\;결과에서의\\;관련\\;항목\\;수}\n",
    "$$\n",
    "$$\n",
    " \\text{Precision@k} = \\frac{\\text{True\\;positive@k}}{(\\text{True\\;positive@k} + \\text{False\\;positive@k})} \\\\\n",
    "$$\n",
    "- $\\text{True Positive@k}$: 상위 k개의 문서 중 질문과 관련있는 문서의 개수\n",
    "- $\\text{False Positive@k}$: 상위 k개의 문서 중 질문과 관련없는 문서의 개수\n",
    "- $\\text{Precision@k}$: 상위 k개의 문서 중 질문과 관련된 문서들이 차지하는 비율\n",
    "- K: 검색한 context(문서)의 개수(chuck 수)\n",
    "- $v_k$: 질문과의 context간의 관련성 여부로 0 또는 1. (0: 관련 없음, 1: 관련 있음)\n",
    "\n",
    "##### 예시\n",
    "- 질문과 context 관련성 예\n",
    "    - 질문: 한국의 수도는 어디이고 인구는 얼마나 되나요?\n",
    "    - 높은 정밀도 context(관련성 높은 문서의 예)\n",
    "        - 한국의 수도는 서울이고 인구는 5000명 입니다. \n",
    "        - 한국의 수도는 서울입니다.\n",
    "        - 한국은 동아시아에 위치해 있는 국가로 수도는 서울입니다.\n",
    "        - 한국의 인구는 5000만명 입니다.\n",
    "    - 낮은 정밀도 context(관련성 낮은 문서의 예)\n",
    "        - 한국은 동아시아에 위치한 국가입니다.\n",
    "        - 한국의 K-pop은 전 세계적으로 유명합니다.\n",
    "        - 비빔밥, 불고기는 한국의 대표적인 음식입니다.\n",
    "    - **높은 정밀도의 context이 상위 순위에 위치했으면 높은 점수를 받는다.**\n",
    "- 점수 계산의 예\n",
    "  - 상위 5개의 검색 결과 중 1번째, 3번째, 4번째 문서가 관련이 있다고 가정\n",
    "    ```bash\n",
    "    Precision@1 = 1/1 = 1.0    # True positive@1/(True positive@1 + False positive@1).  1/1(1번 문서 계산 시에는 1개 문서만 있으므로 분모가 1이 된다.)\n",
    "    Precision@2 = 1/2 = 0.5     \n",
    "    Precision@3 = 2/3 ≈ 0.67    \n",
    "    Precision@4 = 3/4 = 0.75\n",
    "    Precision@5 = 3/5 = 0.6\n",
    "    ```\n",
    "- vk의 값\n",
    "    - 1번째: $v_1 = 1$\n",
    "    - 2번째: $v_2 = 0$\n",
    "    - 3번째: $v_3 = 1$\n",
    "    - 4번째: $v_4 = 1$\n",
    "    - 5번째: $v_5 = 0$\n",
    "\n",
    "- Context Precision@5\n",
    "$$\n",
    "\\text{Context\\;Precision@5} = \\frac{(1.0 \\times 1) + (0.5 \\times 0) + (0.67 \\times 1) + (0.75 \\times 1) + (0.6 \\times 0)}{3} = \\frac{1.0 + 0 + 0.67 + 0.75 + 0}{3} ≈ 0.807\n",
    "$$"
   ]
  },
  {
   "cell_type": "code",
   "execution_count": null,
   "metadata": {},
   "outputs": [],
   "source": []
  },
  {
   "cell_type": "markdown",
   "metadata": {},
   "source": [
    "#### Context Recall (문맥 재현률)\n",
    "- 검색된 문서(context)가 얼마나 정답(ground-truth)의 정보를 포함있는 지 평가하는 지표\n",
    "- 점수 범위: 0~1 (1에 가까울수록 좋음)\n",
    "- **정답(ground truth)의 각 주장(claim)이 검색된 context와 얼마나 일치**하는지 계산함.\n",
    "\n",
    "##### 평가방법\n",
    "1. **정답**에서 주장 문장(claim statement)들을 생성(추출)한다.\n",
    "    - 예) \n",
    "        - **정답**: 한국의 수도는 서울이고 인구수는 5000만명이다. \n",
    "        - **주장(claim)**: \n",
    "            1. 한국의 수도는 서울이다.\n",
    "            2. 인구수는 5000만명이다.\n",
    "2. 각 주장 문장(claim statement)의 정보를 검색된 context들에서 찾을 수 있는지 판별한다. 이를 바탕으로 context recall 점수를 계산한다.\n",
    "    - 예)\n",
    "        - context: 한국은 동아시아에 위치하고 있는 나라다. 한국의 수도는 서울이다.\n",
    "        - 위 context에서 추론 가능한 주장: \n",
    "            - 한국의 수도는 서울이다. -> context에서 찾을 수 있다.\n",
    "            - 한국의 인구는 5000만명이다. -> context에서 찾을 수 없다.\n",
    "3. **Context Recall Score** 를 계산한다. 총 주장 수 중에서 context로 부터 찾을 수 있는 주장의 개수.\n",
    "    - 예)\n",
    "        - Context Recall Score = $\\cfrac{1}{2} = 0.5$ (두 개의 주장 중 한 개의 주장만 context에서 찾을 수 있다.)\n",
    "\n",
    "- 공식\n",
    "    $$\n",
    "    \\text{Context Recall Score}\\;=\\;\\cfrac{\\text{GT의\\;주장\\;중\\;주어진\\;context\\;에서\\;찾을\\;수\\;있는\\;주장의\\;개수}}{\\text{GT의\\;총\\;주장\\;개수}}\n",
    "    $$ "
   ]
  },
  {
   "cell_type": "markdown",
   "metadata": {},
   "source": [
    "# RAGAS 평가 실습"
   ]
  },
  {
   "cell_type": "code",
   "execution_count": 2,
   "metadata": {},
   "outputs": [],
   "source": [
    "# %pip install ragas"
   ]
  },
  {
   "cell_type": "code",
   "execution_count": 3,
   "metadata": {},
   "outputs": [],
   "source": [
    "from langchain_openai import ChatOpenAI, OpenAIEmbeddings\n",
    "from dotenv import load_dotenv\n",
    "\n",
    "load_dotenv()\n",
    "\n",
    "model = ChatOpenAI(model=\"gpt-4.1-mini\")\n",
    "embedding_model = OpenAIEmbeddings(\n",
    "    model=\"text-embedding-3-large\"\n",
    ")\n"
   ]
  },
  {
   "cell_type": "code",
   "execution_count": 4,
   "metadata": {},
   "outputs": [
    {
     "name": "stdout",
     "output_type": "stream",
     "text": [
      "244\n"
     ]
    }
   ],
   "source": [
    "## ChromaDB와 연결 하고 vector store 생성\n",
    "from langchain_chroma import Chroma\n",
    "\n",
    "COLLECTION_NAME = 'olympic_info'\n",
    "PERSIST_DIRECTORY = 'vector_store/chroma/olympic_info'\n",
    "\n",
    "vector_store = Chroma(\n",
    "    embedding_function=embedding_model,\n",
    "    collection_name=COLLECTION_NAME,\n",
    "    persist_directory=PERSIST_DIRECTORY\n",
    ")\n",
    "print(vector_store._collection.count())"
   ]
  },
  {
   "cell_type": "code",
   "execution_count": 5,
   "metadata": {},
   "outputs": [],
   "source": [
    "from langchain_community.document_loaders import TextLoader\n",
    "from langchain.text_splitter import RecursiveCharacterTextSplitter\n",
    "\n",
    "loader = TextLoader(\"data/olympic.txt\", encoding=\"utf-8\")\n",
    "splitter = RecursiveCharacterTextSplitter(chunk_size=500, chunk_overlap=50)\n",
    "\n",
    "docs = loader.load_and_split(splitter)\n",
    "# vector_store.add_documents(docs)"
   ]
  },
  {
   "cell_type": "code",
   "execution_count": 6,
   "metadata": {},
   "outputs": [
    {
     "name": "stdout",
     "output_type": "stream",
     "text": [
      "244\n"
     ]
    }
   ],
   "source": [
    "print(vector_store._collection.count())"
   ]
  },
  {
   "cell_type": "markdown",
   "metadata": {},
   "source": [
    "## RAG Chain 구성\n",
    "- Vector Store 연결\n",
    "- Chain 응답 결과\n",
    "    - 평가를 위해 **Vector Store에서 검색한 context**들과 **LLM 응답**이 출력되도록 chain을 구성한다."
   ]
  },
  {
   "cell_type": "code",
   "execution_count": 7,
   "metadata": {},
   "outputs": [],
   "source": [
    "from langchain.prompts import PromptTemplate\n",
    "from langchain_core.runnables import RunnablePassthrough, RunnableLambda\n",
    "from langchain_core.output_parsers import StrOutputParser\n",
    "from langchain_core.documents import Document\n",
    "\n",
    "retriever = vector_store.as_retriever()\n",
    "\n",
    "template = \"\"\"# Instruction:\n",
    "당신은 정확한 정보 제공을 우선시하는 인공지능 어시스턴트입니다.\n",
    "주어진 Context에 포함된 정보만 사용해서 질문에 답변하세요.\n",
    "Context에 질문에 대한 명확한 정보가 있는 경우 그 내용을 바탕으로 답변하세요.\n",
    "Context에 질문에 대한 명확한 정보없을 경우 \"정보가 부족해서 답을 알 수 없습니다.\" 라고 대답합니다.\n",
    "절대 Context에 없는 내용을 추측하거나 일반 상식을 이용해 답을 만들어서 대답하지 않습니다.\n",
    "\n",
    "# Context:\n",
    "{context}\n",
    "\n",
    "# 질문:\n",
    "{query}\n",
    "\"\"\"\n",
    "prompt_template = PromptTemplate(template=template)"
   ]
  },
  {
   "cell_type": "code",
   "execution_count": 8,
   "metadata": {},
   "outputs": [],
   "source": [
    "def format_docs(src_dict:dict)->str:\n",
    "    \"\"\"\n",
    "    Vector_store에 조회한 문서들에서 내용(page_content)만 추출해서 str으로 합쳐서 반환.\n",
    "    \n",
    "    Args:\n",
    "        src_dict(dict): {\"context\":list[Document],  \"query\":\"사용자질문\"}\n",
    "    Returns:\n",
    "        str: 각 문서의 내용을 \"\\n\\n\"으로 연결한 string\n",
    "    \"\"\"\n",
    "    docs = src_dict[\"context\"]\n",
    "    return \"\\n\\n\".join(doc.page_content for doc in docs)\n",
    "\n",
    "def format_docs_list(src_dict:dict)->list[str]:\n",
    "    \"\"\"\n",
    "    Vector_store에 조회한 문서들에서 내용(page_content)만 추출해서 list로 묶어서 반환.\n",
    "    \n",
    "    Args:\n",
    "        src_dict(dict): {\"context\":list[Document],  \"query\":\"사용자질문\"}\n",
    "    Returns:\n",
    "        list[str]: 각 문서의 내용을 담은 list\n",
    "    \"\"\"\n",
    "    return [doc.page_content for doc in src_dict[\"context\"]]"
   ]
  },
  {
   "cell_type": "code",
   "execution_count": 9,
   "metadata": {},
   "outputs": [],
   "source": [
    "# docs = retriever.invoke(\"올림픽 논란\")\n",
    "# docs\n",
    "# format_docs({\"context\":docs})\n",
    "# format_docs_list({\"context\":docs})"
   ]
  },
  {
   "cell_type": "code",
   "execution_count": 10,
   "metadata": {},
   "outputs": [],
   "source": [
    "# 평가를 위한 Rag Chain을 구성\n",
    "## chain의 응답: LLM 응답, Retriever가 검색한 context들 \n",
    "rag_chain = (\n",
    "    RunnablePassthrough()  # dict | dict 를 LCEL로 연결하기 위해 하는일 없는 Runnable(RunnablePassthrough) 을 추가\n",
    "    | {\"context\":retriever, \"query\":RunnablePassthrough()} # retrieve\n",
    "    | {\n",
    "        \"source_context\":format_docs_list, # list[Document] -> list[str]\n",
    "        \"llm_answer\": {\n",
    "                        \"context\":format_docs, # list[Document] -> str(문서\\n\\n문서\\n\\n...)\n",
    "                        \"query\": lambda x : x[\"query\"]    # query만 추출\n",
    "                    } | prompt_template | model | StrOutputParser()\n",
    "    } # 응답처리 - 입력: {\"context\":검색문서들, \"query\":\"사용자질문\"} \n",
    "      #          - 출력: {\"source_context\":검색한 문서들(list[str]), \"llm_answer\":LLM응답(str)}\n",
    "      #             -> 응답처리 출력이 chain의 최종 출력\n",
    "    \n",
    ")"
   ]
  },
  {
   "cell_type": "code",
   "execution_count": 11,
   "metadata": {},
   "outputs": [],
   "source": [
    "user_input = \"국제 올림픽 위원회에 대해서 설명해주세요.\"\n",
    "response = rag_chain.invoke(user_input)"
   ]
  },
  {
   "cell_type": "code",
   "execution_count": 12,
   "metadata": {},
   "outputs": [
    {
     "name": "stdout",
     "output_type": "stream",
     "text": [
      "<class 'dict'> dict_keys(['source_context', 'llm_answer'])\n"
     ]
    }
   ],
   "source": [
    "print(type(response), response.keys())"
   ]
  },
  {
   "cell_type": "code",
   "execution_count": 13,
   "metadata": {},
   "outputs": [
    {
     "name": "stdout",
     "output_type": "stream",
     "text": [
      "국제올림픽위원회(IOC)는 모든 올림픽 활동을 통솔하는 단체로, 올림픽 개최 도시 선정, 계획 감독, 종목 변경, 스폰서 및 방송권 계약 체결 등의 권리를 가지고 있습니다. 올림픽 활동이란 많은 국가, 국제 경기 연맹과 협회, 미디어 파트너를 맺고 선수, 직원, 심판 등 모든 사람과 기관이 올림픽 헌장을 지키는 것을 의미합니다.\n"
     ]
    }
   ],
   "source": [
    "llm_answer = response['llm_answer']\n",
    "print(llm_answer)"
   ]
  },
  {
   "cell_type": "code",
   "execution_count": 14,
   "metadata": {},
   "outputs": [
    {
     "data": {
      "text/plain": [
       "['국제 올림픽 위원회\\n올림픽 활동이란 많은 수의 국가, 국제 경기 연맹과 협회 • 미디어 파트너를 맺기 • 선수, 직원, 심판, 모든 사람과 기관이 올림픽 헌장을 지키는 것을 말한다. 국제올림픽위원회(IOC)는 모든 올림픽 활동을 통솔하는 단체로서, 올림픽 개최 도시 선정, 계획 감독, 종목 변경, 스폰서 및 방송권 계약 체결 등의 권리가 있다. 올림픽 활동은 크게 세 가지로 구성된다.\\n- 국제경기연맹(IF)은 국제적인 규모의 경기를 관리, 감독하는 기구이다. 예를 들어서 국제 축구 연맹(FIFA)는 축구를 주관하며, 국제 배구 연맹(FIVB)은 배구를 주관하는 기구이다. 올림픽에는 현재 35개의 국제경기연맹이 있고 각 종목을 대표한다. (이 중에는 올림픽 종목은 아니지만 IOC의 승인을 받은 연맹도 있다.)',\n",
       " '국제 올림픽 위원회\\n올림픽 활동이란 많은 수의 국가, 국제 경기 연맹과 협회 • 미디어 파트너를 맺기 • 선수, 직원, 심판, 모든 사람과 기관이 올림픽 헌장을 지키는 것을 말한다. 국제올림픽위원회(IOC)는 모든 올림픽 활동을 통솔하는 단체로서, 올림픽 개최 도시 선정, 계획 감독, 종목 변경, 스폰서 및 방송권 계약 체결 등의 권리가 있다. 올림픽 활동은 크게 세 가지로 구성된다.\\n- 국제경기연맹(IF)은 국제적인 규모의 경기를 관리, 감독하는 기구이다. 예를 들어서 국제 축구 연맹(FIFA)는 축구를 주관하며, 국제 배구 연맹(FIVB)은 배구를 주관하는 기구이다. 올림픽에는 현재 35개의 국제경기연맹이 있고 각 종목을 대표한다. (이 중에는 올림픽 종목은 아니지만 IOC의 승인을 받은 연맹도 있다.)',\n",
       " '국제 올림픽 위원회\\n올림픽 활동이란 많은 수의 국가, 국제 경기 연맹과 협회 • 미디어 파트너를 맺기 • 선수, 직원, 심판, 모든 사람과 기관이 올림픽 헌장을 지키는 것을 말한다. 국제올림픽위원회(IOC)는 모든 올림픽 활동을 통솔하는 단체로서, 올림픽 개최 도시 선정, 계획 감독, 종목 변경, 스폰서 및 방송권 계약 체결 등의 권리가 있다. 올림픽 활동은 크게 세 가지로 구성된다.\\n- 국제경기연맹(IF)은 국제적인 규모의 경기를 관리, 감독하는 기구이다. 예를 들어서 국제 축구 연맹(FIFA)는 축구를 주관하며, 국제 배구 연맹(FIVB)은 배구를 주관하는 기구이다. 올림픽에는 현재 35개의 국제경기연맹이 있고 각 종목을 대표한다. (이 중에는 올림픽 종목은 아니지만 IOC의 승인을 받은 연맹도 있다.)',\n",
       " '국제 올림픽 위원회\\n올림픽 활동이란 많은 수의 국가, 국제 경기 연맹과 협회 • 미디어 파트너를 맺기 • 선수, 직원, 심판, 모든 사람과 기관이 올림픽 헌장을 지키는 것을 말한다. 국제올림픽위원회(IOC)는 모든 올림픽 활동을 통솔하는 단체로서, 올림픽 개최 도시 선정, 계획 감독, 종목 변경, 스폰서 및 방송권 계약 체결 등의 권리가 있다. 올림픽 활동은 크게 세 가지로 구성된다.\\n- 국제경기연맹(IF)은 국제적인 규모의 경기를 관리, 감독하는 기구이다. 예를 들어서 국제 축구 연맹(FIFA)는 축구를 주관하며, 국제 배구 연맹(FIVB)은 배구를 주관하는 기구이다. 올림픽에는 현재 35개의 국제경기연맹이 있고 각 종목을 대표한다. (이 중에는 올림픽 종목은 아니지만 IOC의 승인을 받은 연맹도 있다.)']"
      ]
     },
     "execution_count": 14,
     "metadata": {},
     "output_type": "execute_result"
    }
   ],
   "source": [
    "context = response[\"source_context\"]\n",
    "context"
   ]
  },
  {
   "cell_type": "markdown",
   "metadata": {},
   "source": [
    "## 평가"
   ]
  },
  {
   "cell_type": "code",
   "execution_count": 15,
   "metadata": {},
   "outputs": [],
   "source": [
    "# 평가데이터셋: user_input, response(정답)\n",
    "user_input = \"국제 올림픽 위원회에 대해 설명해주세요.\"\n",
    "reference = \"국제올림픽위원회(IOC)는 올림픽 활동을 통솔하는 기구로, 올림픽 개최 도시 선정, 계획 감독, 종목 변경, 스폰서 및 방송권 계약 체결 등의 역할을 수행한다.\"\n",
    "\n",
    "resp = rag_chain.invoke(user_input)\n",
    "retrieved_context = resp['source_context']  # RAG에서 검색된 문서\n",
    "response = resp['llm_answer']  # RAG의 답변"
   ]
  },
  {
   "cell_type": "code",
   "execution_count": 16,
   "metadata": {},
   "outputs": [],
   "source": [
    "from ragas import SingleTurnSample, EvaluationDataset\n",
    "\n",
    "# RAGAS의 평가 데이터셋의 구성\n",
    "# - user_input: 사용자 입력(질문)\n",
    "# - retrieved_context: RAG에서 검색한 context(문서)들\n",
    "# - response: llm의 출력(응답)\n",
    "# - reference: 정답.\n",
    "\n",
    "eval_sample1 = SingleTurnSample(  # 1개의 평가 데이터을 생성할 때 사용.\n",
    "    user_input=user_input,\n",
    "    retrieved_contexts=retrieved_context,\n",
    "    response=response,\n",
    "    reference=reference\n",
    ")\n",
    "# 평가용 Dataset을 생성\n",
    "eval_dataset = EvaluationDataset(samples=[eval_sample1])"
   ]
  },
  {
   "cell_type": "code",
   "execution_count": 17,
   "metadata": {},
   "outputs": [
    {
     "data": {
      "text/plain": [
       "EvaluationDataset(features=['user_input', 'retrieved_contexts', 'response', 'reference'], len=1)"
      ]
     },
     "execution_count": 17,
     "metadata": {},
     "output_type": "execute_result"
    }
   ],
   "source": [
    "eval_dataset"
   ]
  },
  {
   "cell_type": "code",
   "execution_count": 18,
   "metadata": {},
   "outputs": [
    {
     "data": {
      "text/html": [
       "<div>\n",
       "<style scoped>\n",
       "    .dataframe tbody tr th:only-of-type {\n",
       "        vertical-align: middle;\n",
       "    }\n",
       "\n",
       "    .dataframe tbody tr th {\n",
       "        vertical-align: top;\n",
       "    }\n",
       "\n",
       "    .dataframe thead th {\n",
       "        text-align: right;\n",
       "    }\n",
       "</style>\n",
       "<table border=\"1\" class=\"dataframe\">\n",
       "  <thead>\n",
       "    <tr style=\"text-align: right;\">\n",
       "      <th></th>\n",
       "      <th>user_input</th>\n",
       "      <th>retrieved_contexts</th>\n",
       "      <th>response</th>\n",
       "      <th>reference</th>\n",
       "    </tr>\n",
       "  </thead>\n",
       "  <tbody>\n",
       "    <tr>\n",
       "      <th>0</th>\n",
       "      <td>국제 올림픽 위원회에 대해 설명해주세요.</td>\n",
       "      <td>[국제 올림픽 위원회\\n올림픽 활동이란 많은 수의 국가, 국제 경기 연맹과 협회 •...</td>\n",
       "      <td>국제 올림픽 위원회(IOC)는 모든 올림픽 활동을 통솔하는 단체입니다. 올림픽 개최...</td>\n",
       "      <td>국제올림픽위원회(IOC)는 올림픽 활동을 통솔하는 기구로, 올림픽 개최 도시 선정,...</td>\n",
       "    </tr>\n",
       "  </tbody>\n",
       "</table>\n",
       "</div>"
      ],
      "text/plain": [
       "               user_input                                 retrieved_contexts  \\\n",
       "0  국제 올림픽 위원회에 대해 설명해주세요.  [국제 올림픽 위원회\\n올림픽 활동이란 많은 수의 국가, 국제 경기 연맹과 협회 •...   \n",
       "\n",
       "                                            response  \\\n",
       "0  국제 올림픽 위원회(IOC)는 모든 올림픽 활동을 통솔하는 단체입니다. 올림픽 개최...   \n",
       "\n",
       "                                           reference  \n",
       "0  국제올림픽위원회(IOC)는 올림픽 활동을 통솔하는 기구로, 올림픽 개최 도시 선정,...  "
      ]
     },
     "execution_count": 18,
     "metadata": {},
     "output_type": "execute_result"
    }
   ],
   "source": [
    "# eval_dataset을 DataFrame으로 변환\n",
    "eval_dataset.to_pandas()"
   ]
  },
  {
   "cell_type": "code",
   "execution_count": 19,
   "metadata": {},
   "outputs": [
    {
     "data": {
      "text/plain": [
       "True"
      ]
     },
     "execution_count": 19,
     "metadata": {},
     "output_type": "execute_result"
    }
   ],
   "source": [
    "##########################\n",
    "# 평가\n",
    "from ragas.metrics import (\n",
    "    LLMContextRecall, # Context recall을 계산하는 **평가함수**\n",
    "    LLMContextPrecisionWithReference, # Context Precision\n",
    "    Faithfulness,     # Faithfulness \n",
    "    AnswerRelevancy,  # AnswerRelevancy\n",
    ")\n",
    "from ragas import evaluate\n",
    "from ragas.llms import LangchainLLMWrapper\n",
    "from ragas.embeddings import LangchainEmbeddingsWrapper\n",
    "# Langchain으로 생성된 LLM 모델, 임베딩모델 객체를 RAGAS에서 사용할 있도록 wrapping하는 클래스.\n",
    "# 모든 평가 지표들이 LLM 모델을 사용한다. \n",
    "\n",
    "from langchain_openai import ChatOpenAI, OpenAIEmbeddings\n",
    "from dotenv import load_dotenv\n",
    "load_dotenv()"
   ]
  },
  {
   "cell_type": "code",
   "execution_count": 20,
   "metadata": {},
   "outputs": [
    {
     "data": {
      "application/vnd.jupyter.widget-view+json": {
       "model_id": "464d22ccade0450cba16508088aedfed",
       "version_major": 2,
       "version_minor": 0
      },
      "text/plain": [
       "Evaluating:   0%|          | 0/4 [00:00<?, ?it/s]"
      ]
     },
     "metadata": {},
     "output_type": "display_data"
    }
   ],
   "source": [
    "# 평가 함수(객체)에 넣어줄 LLM 모델, Embedding 모델 생성.\n",
    "llm_model = ChatOpenAI(model=\"gpt-4.1-mini\")\n",
    "e_model = OpenAIEmbeddings(model=\"text-embedding-3-large\")\n",
    "\n",
    "eval_model = LangchainLLMWrapper(llm_model)\n",
    "eval_embedding_model = LangchainEmbeddingsWrapper(e_model)\n",
    "\n",
    "## 평가지표 객체를 생성 -> 리스트에 묶어준다.\n",
    "metrics = [\n",
    "    LLMContextRecall(llm=eval_model),\n",
    "    LLMContextPrecisionWithReference(llm=eval_model),\n",
    "    Faithfulness(llm=eval_model),\n",
    "    AnswerRelevancy(llm=eval_model)\n",
    "]\n",
    "\n",
    "# 평가지표 객체를 이용해서 평가\n",
    "eval_result = evaluate(dataset=eval_dataset, metrics=metrics)"
   ]
  },
  {
   "cell_type": "code",
   "execution_count": 21,
   "metadata": {},
   "outputs": [
    {
     "name": "stdout",
     "output_type": "stream",
     "text": [
      "<class 'ragas.dataset_schema.EvaluationResult'>\n"
     ]
    },
    {
     "data": {
      "text/plain": [
       "{'context_recall': 1.0000, 'llm_context_precision_with_reference': 1.0000, 'faithfulness': 1.0000, 'answer_relevancy': 0.8455}"
      ]
     },
     "execution_count": 21,
     "metadata": {},
     "output_type": "execute_result"
    }
   ],
   "source": [
    "# context recall: 검색 context와 정답간의 연관성\n",
    "# context precision: 검색 context와 사용자 질문간의 연관성\n",
    "# faithfulness: LLM 답변과 검색 context간의 연관성\n",
    "# answer relevancy: LLM 답변과 사용자 질문간의 연관성.\n",
    "print(type(eval_result))\n",
    "eval_result"
   ]
  },
  {
   "cell_type": "code",
   "execution_count": null,
   "metadata": {},
   "outputs": [],
   "source": []
  },
  {
   "cell_type": "code",
   "execution_count": 22,
   "metadata": {},
   "outputs": [
    {
     "data": {
      "text/html": [
       "<div>\n",
       "<style scoped>\n",
       "    .dataframe tbody tr th:only-of-type {\n",
       "        vertical-align: middle;\n",
       "    }\n",
       "\n",
       "    .dataframe tbody tr th {\n",
       "        vertical-align: top;\n",
       "    }\n",
       "\n",
       "    .dataframe thead th {\n",
       "        text-align: right;\n",
       "    }\n",
       "</style>\n",
       "<table border=\"1\" class=\"dataframe\">\n",
       "  <thead>\n",
       "    <tr style=\"text-align: right;\">\n",
       "      <th></th>\n",
       "      <th>user_input</th>\n",
       "      <th>retrieved_contexts</th>\n",
       "      <th>response</th>\n",
       "      <th>reference</th>\n",
       "      <th>context_recall</th>\n",
       "      <th>llm_context_precision_with_reference</th>\n",
       "      <th>faithfulness</th>\n",
       "      <th>answer_relevancy</th>\n",
       "    </tr>\n",
       "  </thead>\n",
       "  <tbody>\n",
       "    <tr>\n",
       "      <th>0</th>\n",
       "      <td>국제 올림픽 위원회에 대해 설명해주세요.</td>\n",
       "      <td>[국제 올림픽 위원회\\n올림픽 활동이란 많은 수의 국가, 국제 경기 연맹과 협회 •...</td>\n",
       "      <td>국제 올림픽 위원회(IOC)는 모든 올림픽 활동을 통솔하는 단체입니다. 올림픽 개최...</td>\n",
       "      <td>국제올림픽위원회(IOC)는 올림픽 활동을 통솔하는 기구로, 올림픽 개최 도시 선정,...</td>\n",
       "      <td>1.0</td>\n",
       "      <td>1.0</td>\n",
       "      <td>1.0</td>\n",
       "      <td>0.845543</td>\n",
       "    </tr>\n",
       "  </tbody>\n",
       "</table>\n",
       "</div>"
      ],
      "text/plain": [
       "               user_input                                 retrieved_contexts  \\\n",
       "0  국제 올림픽 위원회에 대해 설명해주세요.  [국제 올림픽 위원회\\n올림픽 활동이란 많은 수의 국가, 국제 경기 연맹과 협회 •...   \n",
       "\n",
       "                                            response  \\\n",
       "0  국제 올림픽 위원회(IOC)는 모든 올림픽 활동을 통솔하는 단체입니다. 올림픽 개최...   \n",
       "\n",
       "                                           reference  context_recall  \\\n",
       "0  국제올림픽위원회(IOC)는 올림픽 활동을 통솔하는 기구로, 올림픽 개최 도시 선정,...             1.0   \n",
       "\n",
       "   llm_context_precision_with_reference  faithfulness  answer_relevancy  \n",
       "0                                   1.0           1.0          0.845543  "
      ]
     },
     "execution_count": 22,
     "metadata": {},
     "output_type": "execute_result"
    }
   ],
   "source": [
    "eval_result.to_pandas()"
   ]
  },
  {
   "cell_type": "markdown",
   "metadata": {},
   "source": [
    "# 평가 데이터 셋 만들기\n",
    "\n",
    "1. 문서를 Loading하고 split하여 Context 들을 만든다.\n",
    "2. Context들 중 평가에 사용할 것을 Random하게 선택한다.\n",
    "3. 선택된 context를 기반으로 LLM 모델을 이용해서 질문과 답변을 생성한다. \n",
    "4. 생성된 질문과 답변을 검토하여 품질을 높인다. \n",
    "   - 질문과 답변 자체가 맞는지 검사한다.\n",
    "   - 나올만한 질문인 지 확인한다.\n",
    "\n",
    "- **생성된 질문-답변의 질이 낮으면 좋은 평가를 할 수 없다.**\n",
    "    - 질문-답변 생성시 사용하는 LLM 모델은 성능이 좋은 것을 사용해야 한다. \n",
    "    - 생성된 질문-답변을 사람이 검토해서 품질을 더 높여야 한다.\n",
    "\n",
    "## 데이터셋에 포함될 내용\n",
    "- Dataset을 생성할 때는 다음 항목이 들어가야 한다.\n",
    "    -  **user_input**: 질문. `string`\n",
    "    -  **reference**: 정답. `string`\n",
    "    -  qa_context : context. `str` - QA를 만들 때 어떤 context를 사용했는지 값. 생성된 데이터셋을 확인하기 위한 것으로 **평가시에는 사용하지 않는다.**\n",
    "-  평가할 때 추가할 것\n",
    "    - **response**: RAG 시스템에서 질문에 대해 LLM 모델이 생성한 답변. `string`\n",
    "    - **retrieved_contexts**: RAG 시스템에서 질문에 대해 Vector DB에서 검색한 context들. `list(string)`"
   ]
  },
  {
   "cell_type": "code",
   "execution_count": 23,
   "metadata": {},
   "outputs": [
    {
     "data": {
      "text/plain": [
       "True"
      ]
     },
     "execution_count": 23,
     "metadata": {},
     "output_type": "execute_result"
    }
   ],
   "source": [
    "from langchain_community.document_loaders import TextLoader\n",
    "from langchain_text_splitters import RecursiveCharacterTextSplitter\n",
    "from langchain_chroma import Chroma\n",
    "\n",
    "from langchain_openai import ChatOpenAI, OpenAIEmbeddings\n",
    "from langchain.prompts import PromptTemplate\n",
    "from langchain_core.output_parsers import JsonOutputParser,StrOutputParser\n",
    "\n",
    "# from langchain import hub\n",
    "from langchain_core.runnables import RunnablePassthrough, RunnableLambda\n",
    "from langchain_core.documents import Document\n",
    "\n",
    "from ragas import EvaluationDataset, RunConfig, evaluate\n",
    "from ragas.metrics import (\n",
    "    LLMContextRecall, Faithfulness, LLMContextPrecisionWithReference, AnswerRelevancy\n",
    ")\n",
    "from ragas.llms import LangchainLLMWrapper\n",
    "from ragas.embeddings import LangchainEmbeddingsWrapper\n",
    "\n",
    "from pydantic import BaseModel, Field\n",
    "\n",
    "import random\n",
    "import pandas as pd\n",
    "\n",
    "from dotenv import load_dotenv\n",
    "\n",
    "load_dotenv()"
   ]
  },
  {
   "cell_type": "code",
   "execution_count": 24,
   "metadata": {},
   "outputs": [],
   "source": [
    "# Context 를 바탕으로 질문과 답변을 생성\n",
    "# 생성된 질문을 rag_chain에 넣어서 context와 llm 응답을 생성."
   ]
  },
  {
   "cell_type": "code",
   "execution_count": 25,
   "metadata": {},
   "outputs": [
    {
     "data": {
      "text/plain": [
       "61"
      ]
     },
     "execution_count": 25,
     "metadata": {},
     "output_type": "execute_result"
    }
   ],
   "source": [
    "# context 생성\n",
    "DOC_PATH = \"data/olympic.txt\"\n",
    "\n",
    "loader = TextLoader(DOC_PATH, encoding='utf-8')\n",
    "# Vector DB에 저장한 context와 동일하게 chunking(split)을 한다.\n",
    "splitter = RecursiveCharacterTextSplitter(chunk_size=500, chunk_overlap=50)\n",
    "\n",
    "docs = loader.load_and_split(splitter)\n",
    "len(docs) #list[Document]"
   ]
  },
  {
   "cell_type": "code",
   "execution_count": 26,
   "metadata": {},
   "outputs": [
    {
     "data": {
      "text/plain": [
       "['올림픽에 참가하는 나라는 UN에 등록된 국가의 수 193개보다 많다. 다른 국제조직이 개최하는 대회들은 정치적 주권국으로 참가를 제한하는 반면, IOC는 그에 상관없이 올림픽에 모든 공동체들이 참가할 수 있도록 한다. 이는 연합체나 공동체에서 국가올림픽위원회(NOC)를 만드는 것을 허용한다는 의미이다. 예를 들면 푸에르토리코, 버뮤다, 홍콩과 같은 곳도 올림픽에서 다른 나라와 스포츠 경쟁을 합법적으로 할 수 있다.',\n",
       " \"이라크는 경기를 끝낸 선수들이 있었지만 탄자니아가 이끄는 올림픽 보이콧에 가세했다. 중화민국(타이완)도 1976년 몬트리올 올림픽 참가를 보이콧했는데, 그 이유는 중화인민공화국(중국)이 몬트리올 올림픽 조직위원회에게 타이완을 '중화민국'의 이름으로 참가하지 못하도록 압박을 가했기 때문이다. 타이완은 이것에 반발해서 중화민국의 국기와 중화민국의 국가를 계속 쓸 것이라고 밝혔다. 타이완은 1984년까지 올림픽에 참가하지 않았으며 그 후 참가할 때는 중화 타이베이 올림픽기와 특별한 찬가를 사용한다. 1980년과 1984년 올림픽 때는 냉전의 당사국들이 각각 반대진영에서 개최된 올림픽에 불참했다. 1980년에 열린 모스크바 올림픽 때는 소련의 아프가니스탄 침공에 대한 항의의 표시로 미국을 비롯한 65개국이 불참해서 1956년 이후 가장 적은 국가의 수인 81개국만 참가하는 대회가 되었다. 1984년에 열린 L.A 올림픽때는 루마니아와 유고슬라비아를 제외한 소련과 동구권의 14개 국가가\",\n",
       " '2002년에 열린 제114차 IOC 총회에서는 하계 올림픽 종목은 최대 28부문 301개 경기에 10,500명이 참가하는 것으로 제한하기로 결정했다.그 후 3년 뒤인 제117차 IOC 총회에서는 정식종목이었던 야구와 소프트볼을 정식 종목에서 제외시킨다. 이 결과에 대한 이견이 없었으므로 2012년 올림픽 때는 26개부문에서 경기가 열린다. 2016년과 2020년 올림픽 때는 럭비와 골프가 추가되어 다시 28개부문에서 경기가 열린다.\\n프로 NHL선수들은 1998년부터 아이스 하키종목에 출전할 수 있게 되었다. (나가노 올림픽 결승전 러시아 vs 체코).',\n",
       " '현대 올림픽에서는 프로 선수의 참가 불허가 많은 분쟁을 가져왔다. 1912년 하계 올림픽의 근대 5종 경기와 10종 경기에서 우승한 짐 소프는 올림픽에 나가기 전에 준프로야구선수로 활동했다는 게 나중에 밝혀져 메달이 박탈되었다. 소프는 후에 동정적 여론의 힘을 업고 1983년에 메달을 돌려받게 된다. 1936년 동계 올림픽 때 스위스와 오스트리아 스키선수들은 돈을 벌기 위해 스포츠를 했는데 이러한 행동이 아마추어 정신에 위배된다고 결정되어 그들은 스키종목에 참가할 수 없었다.',\n",
       " '올림픽에서 약물 복용 양성 반응이 나와서 메달을 박탈당한 첫 번째 사례로는 1968년 하계 올림픽의 근대 5종 경기에 출전해 동메달을 딴 한스 군나르 리렌바르가 있다. 그는 경기 후 도핑검사 결과 알코올을 복용한 것으로 확인되어 메달을 박탈당했다. 도핑 양성 반응으로 메달을 박탈당한 것으로 가장 유명한 사람은 1988년 하계 올림픽 육상 100m 경기에서 금메달을 땄으나 도핑 검사 결과 스타노졸롤을 복용한 것으로 확인돼 금메달을 박탈당한 캐나다 선수인 벤 존슨이 있다. 이에 따라 금메달은 2위를 했던 칼 루이스가 대신 받았다.']"
      ]
     },
     "execution_count": 26,
     "metadata": {},
     "output_type": "execute_result"
    }
   ],
   "source": [
    "# docs 중에서 평가데이터를 생성할 때 사용할 문서 K개를 추출\n",
    "#### 실제 평가 데이터셋을 생성할 때는 모든 문서를 다 사용. \n",
    "total_samples = 5 # 5개 context만 사용\n",
    "\n",
    "index_list = list(range(len(docs)))\n",
    "random.shuffle(index_list)\n",
    "\n",
    "eval_context = [] # 추출한 context들을 담을 리스트\n",
    "while len(eval_context) < total_samples:\n",
    "    index = index_list.pop()\n",
    "    context = docs[index].page_content\n",
    "    if len(context) > 200: # 200글자 이상인 것만 사용.\n",
    "        eval_context.append(context)\n",
    "\n",
    "eval_context"
   ]
  },
  {
   "cell_type": "code",
   "execution_count": 27,
   "metadata": {},
   "outputs": [],
   "source": [
    "# Context -> 질문과 답변을 생성하는 Chain\n",
    "# JsonOutputParser를 사용.\n",
    "## 스키마 생성.\n",
    "### LLM으로 부터 응답받을 값들을 설계.\n",
    "class EvalSchema(BaseModel):\n",
    "    user_input: str = Field(..., description=\"사용자 질문\") # 스키마 변수에 대한 설정. `...` 시작: 필수\n",
    "    reference: str = Field(..., description=\"user_input(사용자 질문)에 대한 정답\")\n",
    "    qa_context: str = Field(..., description=\"질문, 답변 쌍을 만들때 참조한 context. 입력된 context를 수정하지 않고 그대로 넣는다.\")\n",
    "\n",
    "parser = JsonOutputParser(pydantic_object=EvalSchema)\n",
    "\n",
    "template = \"\"\"# Instruction:\n",
    "당신은 RAG 평가를 위해 질문과 정답 쌍을 생성하는 인공지능 비서입니다.\n",
    "다음 [Context] 에 문서가 주어지면 해당 문서를 기반으로 {num_questions}개 질문-정답 쌍을 생성하세요. \n",
    "\n",
    "질문과 정답을 생성한 후 Output Indicator의 format으로 출력합니다.\n",
    "질문은 반드시 Context 문서에 있는 정보를 바탕으로 생성해야 합니다. Context에 없는 내용을 가지고 질문-정답을 절대 만들면 안됩니다.\n",
    "올림픽에 관심있는 일반 사용자 관점의 자연스러운 질문을 작성합니다.\n",
    "질문은 간결하게 작성합니다.\n",
    "하나의 질문에는 한 가지씩만 내용만 작성합니다.\n",
    "질문을 만들 때 \"제공된 문맥에서\", \"문서에 설명된 대로\", \"주어진 문서에 따라\" 또는 이와 유사한 말을 하지 마세요.\n",
    "정답은 반드시 Context에 있는 정보를 바탕으로 작성합니다. 없는 내용을 추가하지 않습니다.\n",
    "질문과 정답을 만들고 그 내용이 Context에 있는 항목인지 다시 한번 확인합니다.\n",
    "생성된 질문-답변 쌍은 반드시 dictionary 형태로 정의하고 list로 묶어서 반환해야 합니다.\n",
    "질문-답변 쌍은 반드시 {num_questions}개를 만들어야 합니다.\n",
    "\n",
    "#Context:\n",
    "{context}\n",
    "\n",
    "Output Indicator:\n",
    "{format_instructions}\n",
    "\"\"\"\n",
    "\n",
    "prompt_template = PromptTemplate(\n",
    "    template=template, \n",
    "    partial_variables={\"format_instructions\": parser.get_format_instructions()}\n",
    ")\n",
    "eval_model = ChatOpenAI(model=\"gpt-4.1\")\n",
    "eval_dataset_chain = prompt_template | eval_model | parser"
   ]
  },
  {
   "cell_type": "code",
   "execution_count": 28,
   "metadata": {},
   "outputs": [
    {
     "data": {
      "text/plain": [
       "[{'user_input': '올림픽 참가 국가는 UN 회원국보다 많나요?',\n",
       "  'reference': '네, 올림픽에 참가하는 나라는 UN에 등록된 국가의 수인 193개보다 많습니다.',\n",
       "  'qa_context': '올림픽에 참가하는 나라는 UN에 등록된 국가의 수 193개보다 많다. 다른 국제조직이 개최하는 대회들은 정치적 주권국으로 참가를 제한하는 반면, IOC는 그에 상관없이 올림픽에 모든 공동체들이 참가할 수 있도록 한다. 이는 연합체나 공동체에서 국가올림픽위원회(NOC)를 만드는 것을 허용한다는 의미이다. 예를 들면 푸에르토리코, 버뮤다, 홍콩과 같은 곳도 올림픽에서 다른 나라와 스포츠 경쟁을 합법적으로 할 수 있다.'},\n",
       " {'user_input': '올림픽에서는 주권 국가가 아닌 곳도 참가할 수 있나요?',\n",
       "  'reference': '네, 올림픽에서는 주권 국가가 아닌 연합체나 공동체도 국가올림픽위원회(NOC)를 만들어 참가할 수 있습니다.',\n",
       "  'qa_context': '올림픽에 참가하는 나라는 UN에 등록된 국가의 수 193개보다 많다. 다른 국제조직이 개최하는 대회들은 정치적 주권국으로 참가를 제한하는 반면, IOC는 그에 상관없이 올림픽에 모든 공동체들이 참가할 수 있도록 한다. 이는 연합체나 공동체에서 국가올림픽위원회(NOC)를 만드는 것을 허용한다는 의미이다. 예를 들면 푸에르토리코, 버뮤다, 홍콩과 같은 곳도 올림픽에서 다른 나라와 스포츠 경쟁을 합법적으로 할 수 있다.'},\n",
       " {'user_input': '푸에르토리코나 홍콩도 올림픽에 참가할 수 있나요?',\n",
       "  'reference': '네, 푸에르토리코, 버뮤다, 홍콩과 같은 곳도 올림픽에서 다른 나라와 스포츠 경쟁을 합법적으로 할 수 있습니다.',\n",
       "  'qa_context': '올림픽에 참가하는 나라는 UN에 등록된 국가의 수 193개보다 많다. 다른 국제조직이 개최하는 대회들은 정치적 주권국으로 참가를 제한하는 반면, IOC는 그에 상관없이 올림픽에 모든 공동체들이 참가할 수 있도록 한다. 이는 연합체나 공동체에서 국가올림픽위원회(NOC)를 만드는 것을 허용한다는 의미이다. 예를 들면 푸에르토리코, 버뮤다, 홍콩과 같은 곳도 올림픽에서 다른 나라와 스포츠 경쟁을 합법적으로 할 수 있다.'}]"
      ]
     },
     "execution_count": 28,
     "metadata": {},
     "output_type": "execute_result"
    }
   ],
   "source": [
    "eval_dataset_chain.invoke({\"context\":eval_context[0], \"num_questions\":3})"
   ]
  },
  {
   "cell_type": "code",
   "execution_count": 29,
   "metadata": {},
   "outputs": [],
   "source": [
    "# context당 5개씩 질문을 생성\n",
    "eval_dataset_list = []\n",
    "num_questions = 5\n",
    "for context in eval_context:\n",
    "    eval_data = eval_dataset_chain.invoke({\"context\":context, \"num_questions\":num_questions})\n",
    "    eval_dataset_list.extend(eval_data)"
   ]
  },
  {
   "cell_type": "code",
   "execution_count": 30,
   "metadata": {},
   "outputs": [
    {
     "data": {
      "text/plain": [
       "25"
      ]
     },
     "execution_count": 30,
     "metadata": {},
     "output_type": "execute_result"
    }
   ],
   "source": [
    "len(eval_dataset_list)"
   ]
  },
  {
   "cell_type": "code",
   "execution_count": 31,
   "metadata": {},
   "outputs": [
    {
     "data": {
      "text/plain": [
       "{'user_input': 'IOC가 올림픽 참가국을 선정하는 방식은 다른 국제대회와 어떻게 다른가요?',\n",
       " 'reference': 'IOC는 정치적 주권 없이도 공동체가 참가할 수 있도록 허용하지만, 다른 국제조직들은 정치적 주권국으로만 참가를 제한합니다.',\n",
       " 'qa_context': '올림픽에 참가하는 나라는 UN에 등록된 국가의 수 193개보다 많다. 다른 국제조직이 개최하는 대회들은 정치적 주권국으로 참가를 제한하는 반면, IOC는 그에 상관없이 올림픽에 모든 공동체들이 참가할 수 있도록 한다. 이는 연합체나 공동체에서 국가올림픽위원회(NOC)를 만드는 것을 허용한다는 의미이다. 예를 들면 푸에르토리코, 버뮤다, 홍콩과 같은 곳도 올림픽에서 다른 나라와 스포츠 경쟁을 합법적으로 할 수 있다.'}"
      ]
     },
     "execution_count": 31,
     "metadata": {},
     "output_type": "execute_result"
    }
   ],
   "source": [
    "################# 생성된 질문 쌍을 반드시 검토 해야 한다.#################\n",
    "eval_dataset_list[3]"
   ]
  },
  {
   "cell_type": "code",
   "execution_count": 32,
   "metadata": {},
   "outputs": [
    {
     "data": {
      "text/html": [
       "<div>\n",
       "<style scoped>\n",
       "    .dataframe tbody tr th:only-of-type {\n",
       "        vertical-align: middle;\n",
       "    }\n",
       "\n",
       "    .dataframe tbody tr th {\n",
       "        vertical-align: top;\n",
       "    }\n",
       "\n",
       "    .dataframe thead th {\n",
       "        text-align: right;\n",
       "    }\n",
       "</style>\n",
       "<table border=\"1\" class=\"dataframe\">\n",
       "  <thead>\n",
       "    <tr style=\"text-align: right;\">\n",
       "      <th></th>\n",
       "      <th>user_input</th>\n",
       "      <th>reference</th>\n",
       "      <th>qa_context</th>\n",
       "    </tr>\n",
       "  </thead>\n",
       "  <tbody>\n",
       "    <tr>\n",
       "      <th>0</th>\n",
       "      <td>올림픽에 참가하는 나라 수가 UN에 등록된 국가 수보다 많은 이유는 무엇인가요?</td>\n",
       "      <td>IOC는 정치적 주권국에만 참가를 제한하지 않고, 모든 공동체의 참가를 허용하기 때...</td>\n",
       "      <td>올림픽에 참가하는 나라는 UN에 등록된 국가의 수 193개보다 많다. 다른 국제조직...</td>\n",
       "    </tr>\n",
       "    <tr>\n",
       "      <th>1</th>\n",
       "      <td>올림픽 참가를 허용하는 조건은 무엇인가요?</td>\n",
       "      <td>연합체나 공동체에서 국가올림픽위원회(NOC)를 만들면 올림픽 참가가 허용됩니다.</td>\n",
       "      <td>올림픽에 참가하는 나라는 UN에 등록된 국가의 수 193개보다 많다. 다른 국제조직...</td>\n",
       "    </tr>\n",
       "    <tr>\n",
       "      <th>2</th>\n",
       "      <td>푸에르토리코, 버뮤다, 홍콩이 올림픽에 참가할 수 있는 근거는 무엇인가요?</td>\n",
       "      <td>이들 지역은 국가올림픽위원회(NOC)를 설립해 올림픽 참가가 허용됩니다.</td>\n",
       "      <td>올림픽에 참가하는 나라는 UN에 등록된 국가의 수 193개보다 많다. 다른 국제조직...</td>\n",
       "    </tr>\n",
       "    <tr>\n",
       "      <th>3</th>\n",
       "      <td>IOC가 올림픽 참가국을 선정하는 방식은 다른 국제대회와 어떻게 다른가요?</td>\n",
       "      <td>IOC는 정치적 주권 없이도 공동체가 참가할 수 있도록 허용하지만, 다른 국제조직들...</td>\n",
       "      <td>올림픽에 참가하는 나라는 UN에 등록된 국가의 수 193개보다 많다. 다른 국제조직...</td>\n",
       "    </tr>\n",
       "    <tr>\n",
       "      <th>4</th>\n",
       "      <td>올림픽에서 푸에르토리코, 버뮤다, 홍콩은 어떻게 다른 나라와 경쟁할 수 있나요?</td>\n",
       "      <td>이들 지역은 국가올림픽위원회(NOC)를 설립해 합법적으로 다른 나라와 스포츠 경쟁을...</td>\n",
       "      <td>올림픽에 참가하는 나라는 UN에 등록된 국가의 수 193개보다 많다. 다른 국제조직...</td>\n",
       "    </tr>\n",
       "  </tbody>\n",
       "</table>\n",
       "</div>"
      ],
      "text/plain": [
       "                                     user_input  \\\n",
       "0  올림픽에 참가하는 나라 수가 UN에 등록된 국가 수보다 많은 이유는 무엇인가요?   \n",
       "1                       올림픽 참가를 허용하는 조건은 무엇인가요?   \n",
       "2     푸에르토리코, 버뮤다, 홍콩이 올림픽에 참가할 수 있는 근거는 무엇인가요?   \n",
       "3     IOC가 올림픽 참가국을 선정하는 방식은 다른 국제대회와 어떻게 다른가요?   \n",
       "4  올림픽에서 푸에르토리코, 버뮤다, 홍콩은 어떻게 다른 나라와 경쟁할 수 있나요?   \n",
       "\n",
       "                                           reference  \\\n",
       "0  IOC는 정치적 주권국에만 참가를 제한하지 않고, 모든 공동체의 참가를 허용하기 때...   \n",
       "1       연합체나 공동체에서 국가올림픽위원회(NOC)를 만들면 올림픽 참가가 허용됩니다.   \n",
       "2           이들 지역은 국가올림픽위원회(NOC)를 설립해 올림픽 참가가 허용됩니다.   \n",
       "3  IOC는 정치적 주권 없이도 공동체가 참가할 수 있도록 허용하지만, 다른 국제조직들...   \n",
       "4  이들 지역은 국가올림픽위원회(NOC)를 설립해 합법적으로 다른 나라와 스포츠 경쟁을...   \n",
       "\n",
       "                                          qa_context  \n",
       "0  올림픽에 참가하는 나라는 UN에 등록된 국가의 수 193개보다 많다. 다른 국제조직...  \n",
       "1  올림픽에 참가하는 나라는 UN에 등록된 국가의 수 193개보다 많다. 다른 국제조직...  \n",
       "2  올림픽에 참가하는 나라는 UN에 등록된 국가의 수 193개보다 많다. 다른 국제조직...  \n",
       "3  올림픽에 참가하는 나라는 UN에 등록된 국가의 수 193개보다 많다. 다른 국제조직...  \n",
       "4  올림픽에 참가하는 나라는 UN에 등록된 국가의 수 193개보다 많다. 다른 국제조직...  "
      ]
     },
     "execution_count": 32,
     "metadata": {},
     "output_type": "execute_result"
    }
   ],
   "source": [
    "# DataFrame으로 생성\n",
    "import pandas as pd\n",
    "eval_df = pd.DataFrame(eval_dataset_list)\n",
    "eval_df.head()"
   ]
  },
  {
   "cell_type": "code",
   "execution_count": 33,
   "metadata": {},
   "outputs": [
    {
     "name": "stdout",
     "output_type": "stream",
     "text": [
      "<class 'pandas.core.frame.DataFrame'>\n",
      "RangeIndex: 25 entries, 0 to 24\n",
      "Data columns (total 3 columns):\n",
      " #   Column      Non-Null Count  Dtype \n",
      "---  ------      --------------  ----- \n",
      " 0   user_input  25 non-null     object\n",
      " 1   reference   25 non-null     object\n",
      " 2   qa_context  25 non-null     object\n",
      "dtypes: object(3)\n",
      "memory usage: 732.0+ bytes\n"
     ]
    }
   ],
   "source": [
    "eval_df.info()"
   ]
  },
  {
   "cell_type": "code",
   "execution_count": 34,
   "metadata": {},
   "outputs": [],
   "source": [
    "#### 평가할 RAG chain(rag_chain)을 이용해서 context 문서들과 llm 응답을 받아서 \n",
    "##        평가 데이터셋을 완성.\n",
    "# user_input -> (rag_chain) -> {llm_answer, source_context}\n",
    "context_list = []  # source_context들을 저장할 리스트\n",
    "response_list = [] # llm_answer드을 저장할 리스트\n",
    "\n",
    "for user_input in eval_df['user_input']:\n",
    "    resp = rag_chain.invoke(user_input)\n",
    "    context_list.append(resp['source_context'])\n",
    "    response_list.append(resp['llm_answer'])"
   ]
  },
  {
   "cell_type": "code",
   "execution_count": 35,
   "metadata": {},
   "outputs": [
    {
     "data": {
      "text/plain": [
       "(25, 25)"
      ]
     },
     "execution_count": 35,
     "metadata": {},
     "output_type": "execute_result"
    }
   ],
   "source": [
    "len(context_list), len(response_list)"
   ]
  },
  {
   "cell_type": "code",
   "execution_count": 36,
   "metadata": {},
   "outputs": [
    {
     "data": {
      "text/plain": [
       "'올림픽에 참가하는 나라 수가 UN에 등록된 국가 수보다 많은 이유는 무엇인가요?'"
      ]
     },
     "execution_count": 36,
     "metadata": {},
     "output_type": "execute_result"
    }
   ],
   "source": [
    "eval_df.loc[0, 'user_input']"
   ]
  },
  {
   "cell_type": "code",
   "execution_count": 37,
   "metadata": {},
   "outputs": [
    {
     "data": {
      "text/plain": [
       "'올림픽에 참가하는 나라 수가 UN에 등록된 국가 수보다 많은 이유는 IOC가 정치적 주권국으로 참가를 제한하지 않고, 모든 공동체들이 참가할 수 있도록 허용하기 때문입니다. 즉, 연합체나 공동체에서 국가올림픽위원회(NOC)를 만드는 것을 허용하여 푸에르토리코, 버뮤다, 홍콩과 같은 곳도 별도의 참가자로 올림픽에 출전할 수 있기 때문입니다.'"
      ]
     },
     "execution_count": 37,
     "metadata": {},
     "output_type": "execute_result"
    }
   ],
   "source": [
    "response_list[0]"
   ]
  },
  {
   "cell_type": "code",
   "execution_count": 38,
   "metadata": {},
   "outputs": [
    {
     "data": {
      "text/plain": [
       "['올림픽에 참가하는 나라는 UN에 등록된 국가의 수 193개보다 많다. 다른 국제조직이 개최하는 대회들은 정치적 주권국으로 참가를 제한하는 반면, IOC는 그에 상관없이 올림픽에 모든 공동체들이 참가할 수 있도록 한다. 이는 연합체나 공동체에서 국가올림픽위원회(NOC)를 만드는 것을 허용한다는 의미이다. 예를 들면 푸에르토리코, 버뮤다, 홍콩과 같은 곳도 올림픽에서 다른 나라와 스포츠 경쟁을 합법적으로 할 수 있다.',\n",
       " '올림픽에 참가하는 나라는 UN에 등록된 국가의 수 193개보다 많다. 다른 국제조직이 개최하는 대회들은 정치적 주권국으로 참가를 제한하는 반면, IOC는 그에 상관없이 올림픽에 모든 공동체들이 참가할 수 있도록 한다. 이는 연합체나 공동체에서 국가올림픽위원회(NOC)를 만드는 것을 허용한다는 의미이다. 예를 들면 푸에르토리코, 버뮤다, 홍콩과 같은 곳도 올림픽에서 다른 나라와 스포츠 경쟁을 합법적으로 할 수 있다.',\n",
       " '올림픽에 참가하는 나라는 UN에 등록된 국가의 수 193개보다 많다. 다른 국제조직이 개최하는 대회들은 정치적 주권국으로 참가를 제한하는 반면, IOC는 그에 상관없이 올림픽에 모든 공동체들이 참가할 수 있도록 한다. 이는 연합체나 공동체에서 국가올림픽위원회(NOC)를 만드는 것을 허용한다는 의미이다. 예를 들면 푸에르토리코, 버뮤다, 홍콩과 같은 곳도 올림픽에서 다른 나라와 스포츠 경쟁을 합법적으로 할 수 있다.',\n",
       " '올림픽에 참가하는 나라는 UN에 등록된 국가의 수 193개보다 많다. 다른 국제조직이 개최하는 대회들은 정치적 주권국으로 참가를 제한하는 반면, IOC는 그에 상관없이 올림픽에 모든 공동체들이 참가할 수 있도록 한다. 이는 연합체나 공동체에서 국가올림픽위원회(NOC)를 만드는 것을 허용한다는 의미이다. 예를 들면 푸에르토리코, 버뮤다, 홍콩과 같은 곳도 올림픽에서 다른 나라와 스포츠 경쟁을 합법적으로 할 수 있다.']"
      ]
     },
     "execution_count": 38,
     "metadata": {},
     "output_type": "execute_result"
    }
   ],
   "source": [
    "context_list[0]"
   ]
  },
  {
   "cell_type": "code",
   "execution_count": 39,
   "metadata": {},
   "outputs": [],
   "source": [
    "eval_df['response'] = response_list\n",
    "eval_df['retrieved_contexts'] = context_list"
   ]
  },
  {
   "cell_type": "code",
   "execution_count": 40,
   "metadata": {},
   "outputs": [
    {
     "data": {
      "text/html": [
       "<div>\n",
       "<style scoped>\n",
       "    .dataframe tbody tr th:only-of-type {\n",
       "        vertical-align: middle;\n",
       "    }\n",
       "\n",
       "    .dataframe tbody tr th {\n",
       "        vertical-align: top;\n",
       "    }\n",
       "\n",
       "    .dataframe thead th {\n",
       "        text-align: right;\n",
       "    }\n",
       "</style>\n",
       "<table border=\"1\" class=\"dataframe\">\n",
       "  <thead>\n",
       "    <tr style=\"text-align: right;\">\n",
       "      <th></th>\n",
       "      <th>user_input</th>\n",
       "      <th>reference</th>\n",
       "      <th>qa_context</th>\n",
       "      <th>response</th>\n",
       "      <th>retrieved_contexts</th>\n",
       "    </tr>\n",
       "  </thead>\n",
       "  <tbody>\n",
       "    <tr>\n",
       "      <th>0</th>\n",
       "      <td>올림픽에 참가하는 나라 수가 UN에 등록된 국가 수보다 많은 이유는 무엇인가요?</td>\n",
       "      <td>IOC는 정치적 주권국에만 참가를 제한하지 않고, 모든 공동체의 참가를 허용하기 때...</td>\n",
       "      <td>올림픽에 참가하는 나라는 UN에 등록된 국가의 수 193개보다 많다. 다른 국제조직...</td>\n",
       "      <td>올림픽에 참가하는 나라 수가 UN에 등록된 국가 수보다 많은 이유는 IOC가 정치적...</td>\n",
       "      <td>[올림픽에 참가하는 나라는 UN에 등록된 국가의 수 193개보다 많다. 다른 국제조...</td>\n",
       "    </tr>\n",
       "    <tr>\n",
       "      <th>1</th>\n",
       "      <td>올림픽 참가를 허용하는 조건은 무엇인가요?</td>\n",
       "      <td>연합체나 공동체에서 국가올림픽위원회(NOC)를 만들면 올림픽 참가가 허용됩니다.</td>\n",
       "      <td>올림픽에 참가하는 나라는 UN에 등록된 국가의 수 193개보다 많다. 다른 국제조직...</td>\n",
       "      <td>올림픽 참가를 허용하는 조건은 정치적 주권국 여부와 상관없이, 연합체나 공동체에서 ...</td>\n",
       "      <td>[올림픽에 참가하는 나라는 UN에 등록된 국가의 수 193개보다 많다. 다른 국제조...</td>\n",
       "    </tr>\n",
       "    <tr>\n",
       "      <th>2</th>\n",
       "      <td>푸에르토리코, 버뮤다, 홍콩이 올림픽에 참가할 수 있는 근거는 무엇인가요?</td>\n",
       "      <td>이들 지역은 국가올림픽위원회(NOC)를 설립해 올림픽 참가가 허용됩니다.</td>\n",
       "      <td>올림픽에 참가하는 나라는 UN에 등록된 국가의 수 193개보다 많다. 다른 국제조직...</td>\n",
       "      <td>푸에르토리코, 버뮤다, 홍콩이 올림픽에 참가할 수 있는 근거는 IOC가 정치적 주권...</td>\n",
       "      <td>[올림픽에 참가하는 나라는 UN에 등록된 국가의 수 193개보다 많다. 다른 국제조...</td>\n",
       "    </tr>\n",
       "    <tr>\n",
       "      <th>3</th>\n",
       "      <td>IOC가 올림픽 참가국을 선정하는 방식은 다른 국제대회와 어떻게 다른가요?</td>\n",
       "      <td>IOC는 정치적 주권 없이도 공동체가 참가할 수 있도록 허용하지만, 다른 국제조직들...</td>\n",
       "      <td>올림픽에 참가하는 나라는 UN에 등록된 국가의 수 193개보다 많다. 다른 국제조직...</td>\n",
       "      <td>IOC는 올림픽 참가국을 정치적 주권국 여부에 상관없이 모든 공동체들이 참여할 수 ...</td>\n",
       "      <td>[올림픽에 참가하는 나라는 UN에 등록된 국가의 수 193개보다 많다. 다른 국제조...</td>\n",
       "    </tr>\n",
       "    <tr>\n",
       "      <th>4</th>\n",
       "      <td>올림픽에서 푸에르토리코, 버뮤다, 홍콩은 어떻게 다른 나라와 경쟁할 수 있나요?</td>\n",
       "      <td>이들 지역은 국가올림픽위원회(NOC)를 설립해 합법적으로 다른 나라와 스포츠 경쟁을...</td>\n",
       "      <td>올림픽에 참가하는 나라는 UN에 등록된 국가의 수 193개보다 많다. 다른 국제조직...</td>\n",
       "      <td>올림픽에서 푸에르토리코, 버뮤다, 홍콩은 국가올림픽위원회(NOC)를 만들 수 있도록...</td>\n",
       "      <td>[올림픽에 참가하는 나라는 UN에 등록된 국가의 수 193개보다 많다. 다른 국제조...</td>\n",
       "    </tr>\n",
       "  </tbody>\n",
       "</table>\n",
       "</div>"
      ],
      "text/plain": [
       "                                     user_input  \\\n",
       "0  올림픽에 참가하는 나라 수가 UN에 등록된 국가 수보다 많은 이유는 무엇인가요?   \n",
       "1                       올림픽 참가를 허용하는 조건은 무엇인가요?   \n",
       "2     푸에르토리코, 버뮤다, 홍콩이 올림픽에 참가할 수 있는 근거는 무엇인가요?   \n",
       "3     IOC가 올림픽 참가국을 선정하는 방식은 다른 국제대회와 어떻게 다른가요?   \n",
       "4  올림픽에서 푸에르토리코, 버뮤다, 홍콩은 어떻게 다른 나라와 경쟁할 수 있나요?   \n",
       "\n",
       "                                           reference  \\\n",
       "0  IOC는 정치적 주권국에만 참가를 제한하지 않고, 모든 공동체의 참가를 허용하기 때...   \n",
       "1       연합체나 공동체에서 국가올림픽위원회(NOC)를 만들면 올림픽 참가가 허용됩니다.   \n",
       "2           이들 지역은 국가올림픽위원회(NOC)를 설립해 올림픽 참가가 허용됩니다.   \n",
       "3  IOC는 정치적 주권 없이도 공동체가 참가할 수 있도록 허용하지만, 다른 국제조직들...   \n",
       "4  이들 지역은 국가올림픽위원회(NOC)를 설립해 합법적으로 다른 나라와 스포츠 경쟁을...   \n",
       "\n",
       "                                          qa_context  \\\n",
       "0  올림픽에 참가하는 나라는 UN에 등록된 국가의 수 193개보다 많다. 다른 국제조직...   \n",
       "1  올림픽에 참가하는 나라는 UN에 등록된 국가의 수 193개보다 많다. 다른 국제조직...   \n",
       "2  올림픽에 참가하는 나라는 UN에 등록된 국가의 수 193개보다 많다. 다른 국제조직...   \n",
       "3  올림픽에 참가하는 나라는 UN에 등록된 국가의 수 193개보다 많다. 다른 국제조직...   \n",
       "4  올림픽에 참가하는 나라는 UN에 등록된 국가의 수 193개보다 많다. 다른 국제조직...   \n",
       "\n",
       "                                            response  \\\n",
       "0  올림픽에 참가하는 나라 수가 UN에 등록된 국가 수보다 많은 이유는 IOC가 정치적...   \n",
       "1  올림픽 참가를 허용하는 조건은 정치적 주권국 여부와 상관없이, 연합체나 공동체에서 ...   \n",
       "2  푸에르토리코, 버뮤다, 홍콩이 올림픽에 참가할 수 있는 근거는 IOC가 정치적 주권...   \n",
       "3  IOC는 올림픽 참가국을 정치적 주권국 여부에 상관없이 모든 공동체들이 참여할 수 ...   \n",
       "4  올림픽에서 푸에르토리코, 버뮤다, 홍콩은 국가올림픽위원회(NOC)를 만들 수 있도록...   \n",
       "\n",
       "                                  retrieved_contexts  \n",
       "0  [올림픽에 참가하는 나라는 UN에 등록된 국가의 수 193개보다 많다. 다른 국제조...  \n",
       "1  [올림픽에 참가하는 나라는 UN에 등록된 국가의 수 193개보다 많다. 다른 국제조...  \n",
       "2  [올림픽에 참가하는 나라는 UN에 등록된 국가의 수 193개보다 많다. 다른 국제조...  \n",
       "3  [올림픽에 참가하는 나라는 UN에 등록된 국가의 수 193개보다 많다. 다른 국제조...  \n",
       "4  [올림픽에 참가하는 나라는 UN에 등록된 국가의 수 193개보다 많다. 다른 국제조...  "
      ]
     },
     "execution_count": 40,
     "metadata": {},
     "output_type": "execute_result"
    }
   ],
   "source": [
    "eval_df.head()"
   ]
  },
  {
   "cell_type": "code",
   "execution_count": 41,
   "metadata": {},
   "outputs": [
    {
     "data": {
      "text/plain": [
       "EvaluationDataset(features=['user_input', 'retrieved_contexts', 'response', 'reference'], len=25)"
      ]
     },
     "execution_count": 41,
     "metadata": {},
     "output_type": "execute_result"
    }
   ],
   "source": [
    "###################################\n",
    "#  RAGAS 의 EvaluationDataset 생성\n",
    "###################################\n",
    "# feature로 \"user_input\", \"response\", \"retrieved_contexts\", \"referece\"를 가진 DataFrame으로부터\n",
    "#     EvaluationDataset생성\n",
    "evaludation_dataset = EvaluationDataset.from_pandas(eval_df)\n",
    "evaludation_dataset"
   ]
  },
  {
   "cell_type": "code",
   "execution_count": 42,
   "metadata": {},
   "outputs": [
    {
     "data": {
      "application/vnd.jupyter.widget-view+json": {
       "model_id": "35df3f7da9d842b09a90bb8fda227d75",
       "version_major": 2,
       "version_minor": 0
      },
      "text/plain": [
       "Evaluating:   0%|          | 0/100 [00:00<?, ?it/s]"
      ]
     },
     "metadata": {},
     "output_type": "display_data"
    }
   ],
   "source": [
    "#################################\n",
    "# 평가\n",
    "#################################\n",
    "eval_llm = LangchainLLMWrapper(ChatOpenAI(model=\"gpt-4.1-mini\"))\n",
    "eval_embedding = LangchainEmbeddingsWrapper(OpenAIEmbeddings(model=\"text-embedding-3-large\"))\n",
    "metrics = [\n",
    "    LLMContextPrecisionWithReference(llm=eval_llm),\n",
    "    LLMContextRecall(llm=eval_llm),\n",
    "    Faithfulness(llm=eval_llm),\n",
    "    AnswerRelevancy(llm=eval_llm, embeddings=eval_embedding)\n",
    "]\n",
    "\n",
    "eval_result = evaluate(dataset=evaludation_dataset, metrics=metrics)"
   ]
  },
  {
   "cell_type": "code",
   "execution_count": 43,
   "metadata": {},
   "outputs": [
    {
     "data": {
      "text/plain": [
       "{'llm_context_precision_with_reference': 0.9000, 'context_recall': 0.9200, 'faithfulness': 0.9100, 'answer_relevancy': 0.5937}"
      ]
     },
     "execution_count": 43,
     "metadata": {},
     "output_type": "execute_result"
    }
   ],
   "source": [
    "eval_result"
   ]
  },
  {
   "cell_type": "code",
   "execution_count": 44,
   "metadata": {},
   "outputs": [
    {
     "data": {
      "text/html": [
       "<div>\n",
       "<style scoped>\n",
       "    .dataframe tbody tr th:only-of-type {\n",
       "        vertical-align: middle;\n",
       "    }\n",
       "\n",
       "    .dataframe tbody tr th {\n",
       "        vertical-align: top;\n",
       "    }\n",
       "\n",
       "    .dataframe thead th {\n",
       "        text-align: right;\n",
       "    }\n",
       "</style>\n",
       "<table border=\"1\" class=\"dataframe\">\n",
       "  <thead>\n",
       "    <tr style=\"text-align: right;\">\n",
       "      <th></th>\n",
       "      <th>user_input</th>\n",
       "      <th>retrieved_contexts</th>\n",
       "      <th>response</th>\n",
       "      <th>reference</th>\n",
       "      <th>llm_context_precision_with_reference</th>\n",
       "      <th>context_recall</th>\n",
       "      <th>faithfulness</th>\n",
       "      <th>answer_relevancy</th>\n",
       "    </tr>\n",
       "  </thead>\n",
       "  <tbody>\n",
       "    <tr>\n",
       "      <th>0</th>\n",
       "      <td>올림픽에 참가하는 나라 수가 UN에 등록된 국가 수보다 많은 이유는 무엇인가요?</td>\n",
       "      <td>[올림픽에 참가하는 나라는 UN에 등록된 국가의 수 193개보다 많다. 다른 국제조...</td>\n",
       "      <td>올림픽에 참가하는 나라 수가 UN에 등록된 국가 수보다 많은 이유는 IOC가 정치적...</td>\n",
       "      <td>IOC는 정치적 주권국에만 참가를 제한하지 않고, 모든 공동체의 참가를 허용하기 때...</td>\n",
       "      <td>1.0</td>\n",
       "      <td>1.0</td>\n",
       "      <td>1.000000</td>\n",
       "      <td>0.946972</td>\n",
       "    </tr>\n",
       "    <tr>\n",
       "      <th>1</th>\n",
       "      <td>올림픽 참가를 허용하는 조건은 무엇인가요?</td>\n",
       "      <td>[올림픽에 참가하는 나라는 UN에 등록된 국가의 수 193개보다 많다. 다른 국제조...</td>\n",
       "      <td>올림픽 참가를 허용하는 조건은 정치적 주권국 여부와 상관없이, 연합체나 공동체에서 ...</td>\n",
       "      <td>연합체나 공동체에서 국가올림픽위원회(NOC)를 만들면 올림픽 참가가 허용됩니다.</td>\n",
       "      <td>1.0</td>\n",
       "      <td>1.0</td>\n",
       "      <td>1.000000</td>\n",
       "      <td>0.799976</td>\n",
       "    </tr>\n",
       "    <tr>\n",
       "      <th>2</th>\n",
       "      <td>푸에르토리코, 버뮤다, 홍콩이 올림픽에 참가할 수 있는 근거는 무엇인가요?</td>\n",
       "      <td>[올림픽에 참가하는 나라는 UN에 등록된 국가의 수 193개보다 많다. 다른 국제조...</td>\n",
       "      <td>푸에르토리코, 버뮤다, 홍콩이 올림픽에 참가할 수 있는 근거는 IOC가 정치적 주권...</td>\n",
       "      <td>이들 지역은 국가올림픽위원회(NOC)를 설립해 올림픽 참가가 허용됩니다.</td>\n",
       "      <td>1.0</td>\n",
       "      <td>1.0</td>\n",
       "      <td>1.000000</td>\n",
       "      <td>0.615239</td>\n",
       "    </tr>\n",
       "    <tr>\n",
       "      <th>3</th>\n",
       "      <td>IOC가 올림픽 참가국을 선정하는 방식은 다른 국제대회와 어떻게 다른가요?</td>\n",
       "      <td>[올림픽에 참가하는 나라는 UN에 등록된 국가의 수 193개보다 많다. 다른 국제조...</td>\n",
       "      <td>IOC는 올림픽 참가국을 정치적 주권국 여부에 상관없이 모든 공동체들이 참여할 수 ...</td>\n",
       "      <td>IOC는 정치적 주권 없이도 공동체가 참가할 수 있도록 허용하지만, 다른 국제조직들...</td>\n",
       "      <td>1.0</td>\n",
       "      <td>1.0</td>\n",
       "      <td>0.750000</td>\n",
       "      <td>0.626562</td>\n",
       "    </tr>\n",
       "    <tr>\n",
       "      <th>4</th>\n",
       "      <td>올림픽에서 푸에르토리코, 버뮤다, 홍콩은 어떻게 다른 나라와 경쟁할 수 있나요?</td>\n",
       "      <td>[올림픽에 참가하는 나라는 UN에 등록된 국가의 수 193개보다 많다. 다른 국제조...</td>\n",
       "      <td>올림픽에서 푸에르토리코, 버뮤다, 홍콩은 국가올림픽위원회(NOC)를 만들 수 있도록...</td>\n",
       "      <td>이들 지역은 국가올림픽위원회(NOC)를 설립해 합법적으로 다른 나라와 스포츠 경쟁을...</td>\n",
       "      <td>1.0</td>\n",
       "      <td>1.0</td>\n",
       "      <td>1.000000</td>\n",
       "      <td>0.511126</td>\n",
       "    </tr>\n",
       "    <tr>\n",
       "      <th>5</th>\n",
       "      <td>이라크가 올림픽 보이콧에 가담한 이유는 무엇인가요?</td>\n",
       "      <td>[이라크는 경기를 끝낸 선수들이 있었지만 탄자니아가 이끄는 올림픽 보이콧에 가세했다...</td>\n",
       "      <td>이라크가 올림픽 보이콧에 가담한 이유는 탄자니아가 이끄는 올림픽 보이콧에 동참했기 ...</td>\n",
       "      <td>이라크는 탄자니아가 이끄는 올림픽 보이콧에 가세했습니다.</td>\n",
       "      <td>1.0</td>\n",
       "      <td>1.0</td>\n",
       "      <td>0.666667</td>\n",
       "      <td>0.678504</td>\n",
       "    </tr>\n",
       "    <tr>\n",
       "      <th>6</th>\n",
       "      <td>1976년 몬트리올 올림픽에서 타이완이 보이콧한 이유는 무엇인가요?</td>\n",
       "      <td>[이라크는 경기를 끝낸 선수들이 있었지만 탄자니아가 이끄는 올림픽 보이콧에 가세했다...</td>\n",
       "      <td>1976년 몬트리올 올림픽에서 타이완(중화민국)이 보이콧한 이유는 중화인민공화국(중...</td>\n",
       "      <td>중화인민공화국(중국)이 몬트리올 올림픽 조직위원회에게 타이완을 '중화민국'의 이름으...</td>\n",
       "      <td>1.0</td>\n",
       "      <td>1.0</td>\n",
       "      <td>0.833333</td>\n",
       "      <td>0.654526</td>\n",
       "    </tr>\n",
       "    <tr>\n",
       "      <th>7</th>\n",
       "      <td>타이완은 현재 어떤 명칭과 상징으로 올림픽에 참가하나요?</td>\n",
       "      <td>[이라크는 경기를 끝낸 선수들이 있었지만 탄자니아가 이끄는 올림픽 보이콧에 가세했다...</td>\n",
       "      <td>타이완은 현재 올림픽에 '중화 타이베이'라는 명칭과 중화 타이베이 올림픽기, 그리고...</td>\n",
       "      <td>타이완은 중화 타이베이 올림픽기와 특별한 찬가를 사용하여 참가합니다.</td>\n",
       "      <td>1.0</td>\n",
       "      <td>1.0</td>\n",
       "      <td>1.000000</td>\n",
       "      <td>0.788834</td>\n",
       "    </tr>\n",
       "    <tr>\n",
       "      <th>8</th>\n",
       "      <td>1980년 모스크바 올림픽에서 불참한 국가는 몇 개국인가요?</td>\n",
       "      <td>[열린 L.A 올림픽때는 루마니아와 유고슬라비아를 제외한 소련과 동구권의 14개 국...</td>\n",
       "      <td>정보가 부족해서 답을 알 수 없습니다.</td>\n",
       "      <td>미국을 비롯한 65개국이 불참했습니다.</td>\n",
       "      <td>0.0</td>\n",
       "      <td>0.0</td>\n",
       "      <td>1.000000</td>\n",
       "      <td>0.000000</td>\n",
       "    </tr>\n",
       "    <tr>\n",
       "      <th>9</th>\n",
       "      <td>1984년 L.A 올림픽에서 소련과 동구권 국가 중 참가한 국가는 어디인가요?</td>\n",
       "      <td>[열린 L.A 올림픽때는 루마니아와 유고슬라비아를 제외한 소련과 동구권의 14개 국...</td>\n",
       "      <td>1984년 L.A 올림픽에서 소련과 동구권 국가 중 참가한 국가는 루마니아와 유고슬...</td>\n",
       "      <td>루마니아와 유고슬라비아가 참가했습니다.</td>\n",
       "      <td>1.0</td>\n",
       "      <td>1.0</td>\n",
       "      <td>1.000000</td>\n",
       "      <td>0.745931</td>\n",
       "    </tr>\n",
       "    <tr>\n",
       "      <th>10</th>\n",
       "      <td>2012년 올림픽에서는 몇 개 부문에서 경기가 열렸나요?</td>\n",
       "      <td>[올림픽 경기 종목\\n올림픽 경기 종목은 총 33개부문 52개 종목에서 약 400개...</td>\n",
       "      <td>2012년 올림픽의 구체적인 경기 부문 수에 대한 정보는 Context에 없습니다....</td>\n",
       "      <td>2012년 올림픽에서는 26개 부문에서 경기가 열렸습니다.</td>\n",
       "      <td>1.0</td>\n",
       "      <td>1.0</td>\n",
       "      <td>1.000000</td>\n",
       "      <td>0.000000</td>\n",
       "    </tr>\n",
       "    <tr>\n",
       "      <th>11</th>\n",
       "      <td>야구와 소프트볼이 하계 올림픽 정식 종목에서 제외된 결정은 언제 이루어졌나요?</td>\n",
       "      <td>[2002년에 열린 제114차 IOC 총회에서는 하계 올림픽 종목은 최대 28부문 ...</td>\n",
       "      <td>야구와 소프트볼이 하계 올림픽 정식 종목에서 제외된 결정은 2005년에 열린 제11...</td>\n",
       "      <td>야구와 소프트볼이 정식 종목에서 제외된 결정은 제117차 IOC 총회에서 이루어졌습니다.</td>\n",
       "      <td>1.0</td>\n",
       "      <td>1.0</td>\n",
       "      <td>0.500000</td>\n",
       "      <td>0.618805</td>\n",
       "    </tr>\n",
       "    <tr>\n",
       "      <th>12</th>\n",
       "      <td>2016년과 2020년 올림픽에서 추가된 종목은 무엇인가요?</td>\n",
       "      <td>[결국 5개 중 2개(가라테와 스쿼시) 가 최종 후보로 올라왔으나 가라테와 스쿼시 ...</td>\n",
       "      <td>2016년과 2020년 하계 올림픽에서 추가된 종목은 골프와 7인제 럭비입니다.</td>\n",
       "      <td>2016년과 2020년 올림픽에서는 럭비와 골프가 추가되었습니다.</td>\n",
       "      <td>1.0</td>\n",
       "      <td>1.0</td>\n",
       "      <td>1.000000</td>\n",
       "      <td>0.717052</td>\n",
       "    </tr>\n",
       "    <tr>\n",
       "      <th>13</th>\n",
       "      <td>프로 NHL 선수들은 언제부터 올림픽 아이스 하키에 출전할 수 있었나요?</td>\n",
       "      <td>[현대 올림픽에서는 프로 선수의 참가 불허가 많은 분쟁을 가져왔다. 1912년 하계...</td>\n",
       "      <td>프로 NHL 선수들은 1998년부터 올림픽 아이스 하키 종목에 출전할 수 있었습니다.</td>\n",
       "      <td>프로 NHL 선수들은 1998년부터 올림픽 아이스 하키에 출전할 수 있게 되었습니다.</td>\n",
       "      <td>0.5</td>\n",
       "      <td>1.0</td>\n",
       "      <td>1.000000</td>\n",
       "      <td>0.746794</td>\n",
       "    </tr>\n",
       "    <tr>\n",
       "      <th>14</th>\n",
       "      <td>하계 올림픽 종목 수와 참가 인원은 어떻게 제한되었나요?</td>\n",
       "      <td>[2002년에 열린 제114차 IOC 총회에서는 하계 올림픽 종목은 최대 28부문 ...</td>\n",
       "      <td>2002년에 열린 제114차 IOC 총회에서는 하계 올림픽 종목을 최대 28부문, ...</td>\n",
       "      <td>하계 올림픽 종목은 최대 28부문 301개 경기에 10,500명이 참가하는 것으로 ...</td>\n",
       "      <td>1.0</td>\n",
       "      <td>1.0</td>\n",
       "      <td>1.000000</td>\n",
       "      <td>0.397275</td>\n",
       "    </tr>\n",
       "    <tr>\n",
       "      <th>15</th>\n",
       "      <td>짐 소프의 올림픽 메달이 박탈된 이유는 무엇인가요?</td>\n",
       "      <td>[현대 올림픽에서는 프로 선수의 참가 불허가 많은 분쟁을 가져왔다. 1912년 하계...</td>\n",
       "      <td>짐 소프의 올림픽 메달이 박탈된 이유는 올림픽에 나가기 전에 준프로야구선수로 활동했...</td>\n",
       "      <td>짐 소프는 올림픽에 나가기 전에 준프로야구선수로 활동했다는 사실이 밝혀져 메달이 박...</td>\n",
       "      <td>1.0</td>\n",
       "      <td>1.0</td>\n",
       "      <td>1.000000</td>\n",
       "      <td>0.501027</td>\n",
       "    </tr>\n",
       "    <tr>\n",
       "      <th>16</th>\n",
       "      <td>짐 소프는 박탈당했던 올림픽 메달을 언제 되찾았나요?</td>\n",
       "      <td>[현대 올림픽에서는 프로 선수의 참가 불허가 많은 분쟁을 가져왔다. 1912년 하계...</td>\n",
       "      <td>짐 소프는 1983년에 박탈당했던 올림픽 메달을 돌려받았습니다.</td>\n",
       "      <td>짐 소프는 1983년에 메달을 돌려받게 되었습니다.</td>\n",
       "      <td>1.0</td>\n",
       "      <td>1.0</td>\n",
       "      <td>1.000000</td>\n",
       "      <td>0.491907</td>\n",
       "    </tr>\n",
       "    <tr>\n",
       "      <th>17</th>\n",
       "      <td>1936년 동계 올림픽에서 스위스와 오스트리아 스키선수들은 왜 참가할 수 없었나요?</td>\n",
       "      <td>[쿠베르탱이 말했던 원래 이념과는 반대로 올림픽이 정치 혹은 체제 선전의 장으로 이...</td>\n",
       "      <td>정보가 부족해서 답을 알 수 없습니다.</td>\n",
       "      <td>스위스와 오스트리아의 스키선수들은 돈을 벌기 위해 스포츠를 했다는 이유로 아마추어 ...</td>\n",
       "      <td>0.0</td>\n",
       "      <td>0.0</td>\n",
       "      <td>0.000000</td>\n",
       "      <td>0.000000</td>\n",
       "    </tr>\n",
       "    <tr>\n",
       "      <th>18</th>\n",
       "      <td>현대 올림픽에서 프로 선수의 참가가 왜 논란이 되었나요?</td>\n",
       "      <td>[현대 올림픽에서는 프로 선수의 참가 불허가 많은 분쟁을 가져왔다. 1912년 하계...</td>\n",
       "      <td>현대 올림픽에서 프로 선수의 참가가 논란이 된 이유는 프로 선수의 참가가 아마추어 ...</td>\n",
       "      <td>현대 올림픽에서 프로 선수의 참가가 불허되어 많은 분쟁이 발생했습니다.</td>\n",
       "      <td>1.0</td>\n",
       "      <td>1.0</td>\n",
       "      <td>1.000000</td>\n",
       "      <td>0.660811</td>\n",
       "    </tr>\n",
       "    <tr>\n",
       "      <th>19</th>\n",
       "      <td>1912년 하계 올림픽에서 짐 소프가 우승한 종목은 무엇인가요?</td>\n",
       "      <td>[현대 올림픽에서는 프로 선수의 참가 불허가 많은 분쟁을 가져왔다. 1912년 하계...</td>\n",
       "      <td>1912년 하계 올림픽에서 짐 소프는 근대 5종 경기와 10종 경기에서 우승했습니다.</td>\n",
       "      <td>짐 소프는 1912년 하계 올림픽의 근대 5종 경기와 10종 경기에서 우승했습니다.</td>\n",
       "      <td>1.0</td>\n",
       "      <td>1.0</td>\n",
       "      <td>1.000000</td>\n",
       "      <td>0.441672</td>\n",
       "    </tr>\n",
       "    <tr>\n",
       "      <th>20</th>\n",
       "      <td>올림픽에서 약물 복용으로 메달을 박탈당한 첫 번째 사례는 누구인가요?</td>\n",
       "      <td>[올림픽에서 약물 복용 양성 반응이 나와서 메달을 박탈당한 첫 번째 사례로는 196...</td>\n",
       "      <td>올림픽에서 약물 복용 양성 반응이 나와서 메달을 박탈당한 첫 번째 사례는 1968년...</td>\n",
       "      <td>1968년 하계 올림픽 근대 5종 경기에서 동메달을 딴 한스 군나르 리렌바르가 첫 ...</td>\n",
       "      <td>1.0</td>\n",
       "      <td>1.0</td>\n",
       "      <td>1.000000</td>\n",
       "      <td>0.748109</td>\n",
       "    </tr>\n",
       "    <tr>\n",
       "      <th>21</th>\n",
       "      <td>한스 군나르 리렌바르는 어떤 약물로 인해 메달을 박탈당했나요?</td>\n",
       "      <td>[올림픽에서 약물 복용 양성 반응이 나와서 메달을 박탈당한 첫 번째 사례로는 196...</td>\n",
       "      <td>한스 군나르 리렌바르는 도핑검사 결과 알코올을 복용한 것으로 확인되어 메달을 박탈당...</td>\n",
       "      <td>한스 군나르 리렌바르는 알코올을 복용한 것이 확인되어 메달을 박탈당했습니다.</td>\n",
       "      <td>1.0</td>\n",
       "      <td>1.0</td>\n",
       "      <td>1.000000</td>\n",
       "      <td>0.434657</td>\n",
       "    </tr>\n",
       "    <tr>\n",
       "      <th>22</th>\n",
       "      <td>1988년 하계 올림픽 육상 100m에서 금메달을 따고 박탈당한 선수는 누구인가요?</td>\n",
       "      <td>[올림픽에서 약물 복용 양성 반응이 나와서 메달을 박탈당한 첫 번째 사례로는 196...</td>\n",
       "      <td>1988년 하계 올림픽 육상 100m에서 금메달을 따고 도핑 검사에서 스타노졸롤 복...</td>\n",
       "      <td>1988년 하계 올림픽 육상 100m 경기에서 금메달을 땄으나 박탈당한 선수는 캐나...</td>\n",
       "      <td>1.0</td>\n",
       "      <td>1.0</td>\n",
       "      <td>1.000000</td>\n",
       "      <td>0.728628</td>\n",
       "    </tr>\n",
       "    <tr>\n",
       "      <th>23</th>\n",
       "      <td>벤 존슨이 도핑으로 인해 박탈당한 금메달은 누구에게 돌아갔나요?</td>\n",
       "      <td>[올림픽에서 약물 복용 양성 반응이 나와서 메달을 박탈당한 첫 번째 사례로는 196...</td>\n",
       "      <td>벤 존슨이 도핑으로 인해 박탈당한 금메달은 2위를 했던 칼 루이스에게 돌아갔습니다.</td>\n",
       "      <td>벤 존슨이 박탈당한 금메달은 2위를 했던 칼 루이스에게 돌아갔습니다.</td>\n",
       "      <td>1.0</td>\n",
       "      <td>1.0</td>\n",
       "      <td>1.000000</td>\n",
       "      <td>1.000000</td>\n",
       "    </tr>\n",
       "    <tr>\n",
       "      <th>24</th>\n",
       "      <td>벤 존슨이 도핑 검사를 통해 복용이 확인된 약물은 무엇인가요?</td>\n",
       "      <td>[올림픽에서 약물 복용 양성 반응이 나와서 메달을 박탈당한 첫 번째 사례로는 196...</td>\n",
       "      <td>벤 존슨이 도핑 검사 결과 복용이 확인된 약물은 스타노졸롤입니다.</td>\n",
       "      <td>벤 존슨은 도핑 검사 결과 스타노졸롤을 복용한 것으로 확인되었습니다.</td>\n",
       "      <td>1.0</td>\n",
       "      <td>1.0</td>\n",
       "      <td>1.000000</td>\n",
       "      <td>0.988894</td>\n",
       "    </tr>\n",
       "  </tbody>\n",
       "</table>\n",
       "</div>"
      ],
      "text/plain": [
       "                                        user_input  \\\n",
       "0     올림픽에 참가하는 나라 수가 UN에 등록된 국가 수보다 많은 이유는 무엇인가요?   \n",
       "1                          올림픽 참가를 허용하는 조건은 무엇인가요?   \n",
       "2        푸에르토리코, 버뮤다, 홍콩이 올림픽에 참가할 수 있는 근거는 무엇인가요?   \n",
       "3        IOC가 올림픽 참가국을 선정하는 방식은 다른 국제대회와 어떻게 다른가요?   \n",
       "4     올림픽에서 푸에르토리코, 버뮤다, 홍콩은 어떻게 다른 나라와 경쟁할 수 있나요?   \n",
       "5                     이라크가 올림픽 보이콧에 가담한 이유는 무엇인가요?   \n",
       "6            1976년 몬트리올 올림픽에서 타이완이 보이콧한 이유는 무엇인가요?   \n",
       "7                  타이완은 현재 어떤 명칭과 상징으로 올림픽에 참가하나요?   \n",
       "8                1980년 모스크바 올림픽에서 불참한 국가는 몇 개국인가요?   \n",
       "9      1984년 L.A 올림픽에서 소련과 동구권 국가 중 참가한 국가는 어디인가요?   \n",
       "10                 2012년 올림픽에서는 몇 개 부문에서 경기가 열렸나요?   \n",
       "11     야구와 소프트볼이 하계 올림픽 정식 종목에서 제외된 결정은 언제 이루어졌나요?   \n",
       "12               2016년과 2020년 올림픽에서 추가된 종목은 무엇인가요?   \n",
       "13        프로 NHL 선수들은 언제부터 올림픽 아이스 하키에 출전할 수 있었나요?   \n",
       "14                 하계 올림픽 종목 수와 참가 인원은 어떻게 제한되었나요?   \n",
       "15                    짐 소프의 올림픽 메달이 박탈된 이유는 무엇인가요?   \n",
       "16                   짐 소프는 박탈당했던 올림픽 메달을 언제 되찾았나요?   \n",
       "17  1936년 동계 올림픽에서 스위스와 오스트리아 스키선수들은 왜 참가할 수 없었나요?   \n",
       "18                 현대 올림픽에서 프로 선수의 참가가 왜 논란이 되었나요?   \n",
       "19             1912년 하계 올림픽에서 짐 소프가 우승한 종목은 무엇인가요?   \n",
       "20          올림픽에서 약물 복용으로 메달을 박탈당한 첫 번째 사례는 누구인가요?   \n",
       "21              한스 군나르 리렌바르는 어떤 약물로 인해 메달을 박탈당했나요?   \n",
       "22  1988년 하계 올림픽 육상 100m에서 금메달을 따고 박탈당한 선수는 누구인가요?   \n",
       "23             벤 존슨이 도핑으로 인해 박탈당한 금메달은 누구에게 돌아갔나요?   \n",
       "24              벤 존슨이 도핑 검사를 통해 복용이 확인된 약물은 무엇인가요?   \n",
       "\n",
       "                                   retrieved_contexts  \\\n",
       "0   [올림픽에 참가하는 나라는 UN에 등록된 국가의 수 193개보다 많다. 다른 국제조...   \n",
       "1   [올림픽에 참가하는 나라는 UN에 등록된 국가의 수 193개보다 많다. 다른 국제조...   \n",
       "2   [올림픽에 참가하는 나라는 UN에 등록된 국가의 수 193개보다 많다. 다른 국제조...   \n",
       "3   [올림픽에 참가하는 나라는 UN에 등록된 국가의 수 193개보다 많다. 다른 국제조...   \n",
       "4   [올림픽에 참가하는 나라는 UN에 등록된 국가의 수 193개보다 많다. 다른 국제조...   \n",
       "5   [이라크는 경기를 끝낸 선수들이 있었지만 탄자니아가 이끄는 올림픽 보이콧에 가세했다...   \n",
       "6   [이라크는 경기를 끝낸 선수들이 있었지만 탄자니아가 이끄는 올림픽 보이콧에 가세했다...   \n",
       "7   [이라크는 경기를 끝낸 선수들이 있었지만 탄자니아가 이끄는 올림픽 보이콧에 가세했다...   \n",
       "8   [열린 L.A 올림픽때는 루마니아와 유고슬라비아를 제외한 소련과 동구권의 14개 국...   \n",
       "9   [열린 L.A 올림픽때는 루마니아와 유고슬라비아를 제외한 소련과 동구권의 14개 국...   \n",
       "10  [올림픽 경기 종목\\n올림픽 경기 종목은 총 33개부문 52개 종목에서 약 400개...   \n",
       "11  [2002년에 열린 제114차 IOC 총회에서는 하계 올림픽 종목은 최대 28부문 ...   \n",
       "12  [결국 5개 중 2개(가라테와 스쿼시) 가 최종 후보로 올라왔으나 가라테와 스쿼시 ...   \n",
       "13  [현대 올림픽에서는 프로 선수의 참가 불허가 많은 분쟁을 가져왔다. 1912년 하계...   \n",
       "14  [2002년에 열린 제114차 IOC 총회에서는 하계 올림픽 종목은 최대 28부문 ...   \n",
       "15  [현대 올림픽에서는 프로 선수의 참가 불허가 많은 분쟁을 가져왔다. 1912년 하계...   \n",
       "16  [현대 올림픽에서는 프로 선수의 참가 불허가 많은 분쟁을 가져왔다. 1912년 하계...   \n",
       "17  [쿠베르탱이 말했던 원래 이념과는 반대로 올림픽이 정치 혹은 체제 선전의 장으로 이...   \n",
       "18  [현대 올림픽에서는 프로 선수의 참가 불허가 많은 분쟁을 가져왔다. 1912년 하계...   \n",
       "19  [현대 올림픽에서는 프로 선수의 참가 불허가 많은 분쟁을 가져왔다. 1912년 하계...   \n",
       "20  [올림픽에서 약물 복용 양성 반응이 나와서 메달을 박탈당한 첫 번째 사례로는 196...   \n",
       "21  [올림픽에서 약물 복용 양성 반응이 나와서 메달을 박탈당한 첫 번째 사례로는 196...   \n",
       "22  [올림픽에서 약물 복용 양성 반응이 나와서 메달을 박탈당한 첫 번째 사례로는 196...   \n",
       "23  [올림픽에서 약물 복용 양성 반응이 나와서 메달을 박탈당한 첫 번째 사례로는 196...   \n",
       "24  [올림픽에서 약물 복용 양성 반응이 나와서 메달을 박탈당한 첫 번째 사례로는 196...   \n",
       "\n",
       "                                             response  \\\n",
       "0   올림픽에 참가하는 나라 수가 UN에 등록된 국가 수보다 많은 이유는 IOC가 정치적...   \n",
       "1   올림픽 참가를 허용하는 조건은 정치적 주권국 여부와 상관없이, 연합체나 공동체에서 ...   \n",
       "2   푸에르토리코, 버뮤다, 홍콩이 올림픽에 참가할 수 있는 근거는 IOC가 정치적 주권...   \n",
       "3   IOC는 올림픽 참가국을 정치적 주권국 여부에 상관없이 모든 공동체들이 참여할 수 ...   \n",
       "4   올림픽에서 푸에르토리코, 버뮤다, 홍콩은 국가올림픽위원회(NOC)를 만들 수 있도록...   \n",
       "5   이라크가 올림픽 보이콧에 가담한 이유는 탄자니아가 이끄는 올림픽 보이콧에 동참했기 ...   \n",
       "6   1976년 몬트리올 올림픽에서 타이완(중화민국)이 보이콧한 이유는 중화인민공화국(중...   \n",
       "7   타이완은 현재 올림픽에 '중화 타이베이'라는 명칭과 중화 타이베이 올림픽기, 그리고...   \n",
       "8                               정보가 부족해서 답을 알 수 없습니다.   \n",
       "9   1984년 L.A 올림픽에서 소련과 동구권 국가 중 참가한 국가는 루마니아와 유고슬...   \n",
       "10  2012년 올림픽의 구체적인 경기 부문 수에 대한 정보는 Context에 없습니다....   \n",
       "11  야구와 소프트볼이 하계 올림픽 정식 종목에서 제외된 결정은 2005년에 열린 제11...   \n",
       "12       2016년과 2020년 하계 올림픽에서 추가된 종목은 골프와 7인제 럭비입니다.   \n",
       "13    프로 NHL 선수들은 1998년부터 올림픽 아이스 하키 종목에 출전할 수 있었습니다.   \n",
       "14  2002년에 열린 제114차 IOC 총회에서는 하계 올림픽 종목을 최대 28부문, ...   \n",
       "15  짐 소프의 올림픽 메달이 박탈된 이유는 올림픽에 나가기 전에 준프로야구선수로 활동했...   \n",
       "16                짐 소프는 1983년에 박탈당했던 올림픽 메달을 돌려받았습니다.   \n",
       "17                              정보가 부족해서 답을 알 수 없습니다.   \n",
       "18  현대 올림픽에서 프로 선수의 참가가 논란이 된 이유는 프로 선수의 참가가 아마추어 ...   \n",
       "19    1912년 하계 올림픽에서 짐 소프는 근대 5종 경기와 10종 경기에서 우승했습니다.   \n",
       "20  올림픽에서 약물 복용 양성 반응이 나와서 메달을 박탈당한 첫 번째 사례는 1968년...   \n",
       "21  한스 군나르 리렌바르는 도핑검사 결과 알코올을 복용한 것으로 확인되어 메달을 박탈당...   \n",
       "22  1988년 하계 올림픽 육상 100m에서 금메달을 따고 도핑 검사에서 스타노졸롤 복...   \n",
       "23     벤 존슨이 도핑으로 인해 박탈당한 금메달은 2위를 했던 칼 루이스에게 돌아갔습니다.   \n",
       "24               벤 존슨이 도핑 검사 결과 복용이 확인된 약물은 스타노졸롤입니다.   \n",
       "\n",
       "                                            reference  \\\n",
       "0   IOC는 정치적 주권국에만 참가를 제한하지 않고, 모든 공동체의 참가를 허용하기 때...   \n",
       "1        연합체나 공동체에서 국가올림픽위원회(NOC)를 만들면 올림픽 참가가 허용됩니다.   \n",
       "2            이들 지역은 국가올림픽위원회(NOC)를 설립해 올림픽 참가가 허용됩니다.   \n",
       "3   IOC는 정치적 주권 없이도 공동체가 참가할 수 있도록 허용하지만, 다른 국제조직들...   \n",
       "4   이들 지역은 국가올림픽위원회(NOC)를 설립해 합법적으로 다른 나라와 스포츠 경쟁을...   \n",
       "5                     이라크는 탄자니아가 이끄는 올림픽 보이콧에 가세했습니다.   \n",
       "6   중화인민공화국(중국)이 몬트리올 올림픽 조직위원회에게 타이완을 '중화민국'의 이름으...   \n",
       "7              타이완은 중화 타이베이 올림픽기와 특별한 찬가를 사용하여 참가합니다.   \n",
       "8                               미국을 비롯한 65개국이 불참했습니다.   \n",
       "9                               루마니아와 유고슬라비아가 참가했습니다.   \n",
       "10                   2012년 올림픽에서는 26개 부문에서 경기가 열렸습니다.   \n",
       "11  야구와 소프트볼이 정식 종목에서 제외된 결정은 제117차 IOC 총회에서 이루어졌습니다.   \n",
       "12               2016년과 2020년 올림픽에서는 럭비와 골프가 추가되었습니다.   \n",
       "13    프로 NHL 선수들은 1998년부터 올림픽 아이스 하키에 출전할 수 있게 되었습니다.   \n",
       "14  하계 올림픽 종목은 최대 28부문 301개 경기에 10,500명이 참가하는 것으로 ...   \n",
       "15  짐 소프는 올림픽에 나가기 전에 준프로야구선수로 활동했다는 사실이 밝혀져 메달이 박...   \n",
       "16                       짐 소프는 1983년에 메달을 돌려받게 되었습니다.   \n",
       "17  스위스와 오스트리아의 스키선수들은 돈을 벌기 위해 스포츠를 했다는 이유로 아마추어 ...   \n",
       "18            현대 올림픽에서 프로 선수의 참가가 불허되어 많은 분쟁이 발생했습니다.   \n",
       "19     짐 소프는 1912년 하계 올림픽의 근대 5종 경기와 10종 경기에서 우승했습니다.   \n",
       "20  1968년 하계 올림픽 근대 5종 경기에서 동메달을 딴 한스 군나르 리렌바르가 첫 ...   \n",
       "21         한스 군나르 리렌바르는 알코올을 복용한 것이 확인되어 메달을 박탈당했습니다.   \n",
       "22  1988년 하계 올림픽 육상 100m 경기에서 금메달을 땄으나 박탈당한 선수는 캐나...   \n",
       "23             벤 존슨이 박탈당한 금메달은 2위를 했던 칼 루이스에게 돌아갔습니다.   \n",
       "24             벤 존슨은 도핑 검사 결과 스타노졸롤을 복용한 것으로 확인되었습니다.   \n",
       "\n",
       "    llm_context_precision_with_reference  context_recall  faithfulness  \\\n",
       "0                                    1.0             1.0      1.000000   \n",
       "1                                    1.0             1.0      1.000000   \n",
       "2                                    1.0             1.0      1.000000   \n",
       "3                                    1.0             1.0      0.750000   \n",
       "4                                    1.0             1.0      1.000000   \n",
       "5                                    1.0             1.0      0.666667   \n",
       "6                                    1.0             1.0      0.833333   \n",
       "7                                    1.0             1.0      1.000000   \n",
       "8                                    0.0             0.0      1.000000   \n",
       "9                                    1.0             1.0      1.000000   \n",
       "10                                   1.0             1.0      1.000000   \n",
       "11                                   1.0             1.0      0.500000   \n",
       "12                                   1.0             1.0      1.000000   \n",
       "13                                   0.5             1.0      1.000000   \n",
       "14                                   1.0             1.0      1.000000   \n",
       "15                                   1.0             1.0      1.000000   \n",
       "16                                   1.0             1.0      1.000000   \n",
       "17                                   0.0             0.0      0.000000   \n",
       "18                                   1.0             1.0      1.000000   \n",
       "19                                   1.0             1.0      1.000000   \n",
       "20                                   1.0             1.0      1.000000   \n",
       "21                                   1.0             1.0      1.000000   \n",
       "22                                   1.0             1.0      1.000000   \n",
       "23                                   1.0             1.0      1.000000   \n",
       "24                                   1.0             1.0      1.000000   \n",
       "\n",
       "    answer_relevancy  \n",
       "0           0.946972  \n",
       "1           0.799976  \n",
       "2           0.615239  \n",
       "3           0.626562  \n",
       "4           0.511126  \n",
       "5           0.678504  \n",
       "6           0.654526  \n",
       "7           0.788834  \n",
       "8           0.000000  \n",
       "9           0.745931  \n",
       "10          0.000000  \n",
       "11          0.618805  \n",
       "12          0.717052  \n",
       "13          0.746794  \n",
       "14          0.397275  \n",
       "15          0.501027  \n",
       "16          0.491907  \n",
       "17          0.000000  \n",
       "18          0.660811  \n",
       "19          0.441672  \n",
       "20          0.748109  \n",
       "21          0.434657  \n",
       "22          0.728628  \n",
       "23          1.000000  \n",
       "24          0.988894  "
      ]
     },
     "execution_count": 44,
     "metadata": {},
     "output_type": "execute_result"
    }
   ],
   "source": [
    "eval_result.to_pandas()"
   ]
  },
  {
   "cell_type": "markdown",
   "metadata": {},
   "source": [
    "# 생성한 평가 데이터셋을 Huggingface에 저장/로드"
   ]
  },
  {
   "cell_type": "code",
   "execution_count": 45,
   "metadata": {},
   "outputs": [],
   "source": [
    "# %pip install transformers"
   ]
  },
  {
   "cell_type": "code",
   "execution_count": 46,
   "metadata": {},
   "outputs": [],
   "source": [
    "from huggingface_hub import login\n",
    "import os\n",
    "HF_KEY = os.getenv(\"HUGGINGFACE_API_KEY\")\n",
    "login(HF_KEY)"
   ]
  },
  {
   "cell_type": "code",
   "execution_count": 47,
   "metadata": {},
   "outputs": [
    {
     "data": {
      "text/plain": [
       "Dataset({\n",
       "    features: ['user_input', 'reference', 'qa_context', 'response', 'retrieved_contexts'],\n",
       "    num_rows: 25\n",
       "})"
      ]
     },
     "execution_count": 47,
     "metadata": {},
     "output_type": "execute_result"
    }
   ],
   "source": [
    "# %pip install datasets\n",
    "from datasets import Dataset\n",
    "eval_dataset = Dataset.from_pandas(eval_df)\n",
    "eval_dataset"
   ]
  },
  {
   "cell_type": "code",
   "execution_count": 48,
   "metadata": {},
   "outputs": [
    {
     "data": {
      "application/vnd.jupyter.widget-view+json": {
       "model_id": "648279ce14bb4e4b8dfa6f6f906fe2e2",
       "version_major": 2,
       "version_minor": 0
      },
      "text/plain": [
       "Uploading the dataset shards:   0%|          | 0/1 [00:00<?, ?it/s]"
      ]
     },
     "metadata": {},
     "output_type": "display_data"
    },
    {
     "data": {
      "application/vnd.jupyter.widget-view+json": {
       "model_id": "4b49cc575ee64560b23bdf30467f5a9d",
       "version_major": 2,
       "version_minor": 0
      },
      "text/plain": [
       "Creating parquet from Arrow format:   0%|          | 0/1 [00:00<?, ?ba/s]"
      ]
     },
     "metadata": {},
     "output_type": "display_data"
    },
    {
     "data": {
      "application/vnd.jupyter.widget-view+json": {
       "model_id": "c7ecb4a563964bd59e00d9f98fce5e77",
       "version_major": 2,
       "version_minor": 0
      },
      "text/plain": [
       "Uploading...:   0%|          | 0.00/22.4k [00:00<?, ?B/s]"
      ]
     },
     "metadata": {},
     "output_type": "display_data"
    },
    {
     "data": {
      "text/plain": [
       "CommitInfo(commit_url='https://huggingface.co/datasets/playdatakoo/wiki_olympic_rag_eval_dataset/commit/0ec40a2d593a3bad037ed5d9ddaf8a1ddf947583', commit_message='Upload dataset', commit_description='', oid='0ec40a2d593a3bad037ed5d9ddaf8a1ddf947583', pr_url=None, repo_url=RepoUrl('https://huggingface.co/datasets/playdatakoo/wiki_olympic_rag_eval_dataset', endpoint='https://huggingface.co', repo_type='dataset', repo_id='playdatakoo/wiki_olympic_rag_eval_dataset'), pr_revision=None, pr_num=None)"
      ]
     },
     "execution_count": 48,
     "metadata": {},
     "output_type": "execute_result"
    }
   ],
   "source": [
    "# huggingface에  upload\n",
    "eval_dataset.push_to_hub(\"wiki_olympic_rag_eval_dataset\") # dataset_id : 계정/id"
   ]
  },
  {
   "cell_type": "code",
   "execution_count": 94,
   "metadata": {},
   "outputs": [
    {
     "data": {
      "application/vnd.jupyter.widget-view+json": {
       "model_id": "86b7fe22c04341d49a7be3b1f6d8e737",
       "version_major": 2,
       "version_minor": 0
      },
      "text/plain": [
       "README.md:   0%|          | 0.00/535 [00:00<?, ?B/s]"
      ]
     },
     "metadata": {},
     "output_type": "display_data"
    },
    {
     "name": "stderr",
     "output_type": "stream",
     "text": [
      "c:\\Users\\Playdata\\miniconda3\\envs\\lang_env\\Lib\\site-packages\\huggingface_hub\\file_download.py:143: UserWarning: `huggingface_hub` cache-system uses symlinks by default to efficiently store duplicated files but your machine does not support them in C:\\Users\\Playdata\\.cache\\huggingface\\hub\\datasets--kgmyh--wiki_olympic_rag_eval_dataset. Caching files will still work but in a degraded version that might require more space on your disk. This warning can be disabled by setting the `HF_HUB_DISABLE_SYMLINKS_WARNING` environment variable. For more details, see https://huggingface.co/docs/huggingface_hub/how-to-cache#limitations.\n",
      "To support symlinks on Windows, you either need to activate Developer Mode or to run Python as an administrator. In order to activate developer mode, see this article: https://docs.microsoft.com/en-us/windows/apps/get-started/enable-your-device-for-development\n",
      "  warnings.warn(message)\n"
     ]
    },
    {
     "data": {
      "application/vnd.jupyter.widget-view+json": {
       "model_id": "512fdcdd672f4349872d6304321e7f7e",
       "version_major": 2,
       "version_minor": 0
      },
      "text/plain": [
       "train-00000-of-00001.parquet:   0%|          | 0.00/33.9k [00:00<?, ?B/s]"
      ]
     },
     "metadata": {},
     "output_type": "display_data"
    },
    {
     "data": {
      "application/vnd.jupyter.widget-view+json": {
       "model_id": "d8cf7ac2defe4c24a365afd0670444a2",
       "version_major": 2,
       "version_minor": 0
      },
      "text/plain": [
       "Generating train split:   0%|          | 0/25 [00:00<?, ? examples/s]"
      ]
     },
     "metadata": {},
     "output_type": "display_data"
    },
    {
     "data": {
      "text/plain": [
       "DatasetDict({\n",
       "    train: Dataset({\n",
       "        features: ['user_input', 'reference', 'qa_context', 'response', 'retrieved_contexts'],\n",
       "        num_rows: 25\n",
       "    })\n",
       "})"
      ]
     },
     "execution_count": 94,
     "metadata": {},
     "output_type": "execute_result"
    }
   ],
   "source": [
    "from datasets import load_dataset\n",
    "\n",
    "# Login using e.g. `huggingface-cli login` to access this dataset\n",
    "load_eval_dataset = load_dataset(\"kgmyh/wiki_olympic_rag_eval_dataset\")\n",
    "load_eval_dataset"
   ]
  },
  {
   "cell_type": "code",
   "execution_count": null,
   "metadata": {},
   "outputs": [],
   "source": []
  },
  {
   "cell_type": "code",
   "execution_count": null,
   "metadata": {},
   "outputs": [],
   "source": []
  }
 ],
 "metadata": {
  "kernelspec": {
   "display_name": "lang_env",
   "language": "python",
   "name": "python3"
  },
  "language_info": {
   "codemirror_mode": {
    "name": "ipython",
    "version": 3
   },
   "file_extension": ".py",
   "mimetype": "text/x-python",
   "name": "python",
   "nbconvert_exporter": "python",
   "pygments_lexer": "ipython3",
   "version": "3.12.11"
  }
 },
 "nbformat": 4,
 "nbformat_minor": 4
}
