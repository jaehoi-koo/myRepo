{
 "cells": [
  {
   "cell_type": "markdown",
   "id": "91454f7e-7c69-4a5a-98dd-66cb8cfd724d",
   "metadata": {},
   "source": [
    "# Package 설치"
   ]
  },
  {
   "cell_type": "code",
   "execution_count": null,
   "id": "7044cc34-f820-455f-9813-de7641809699",
   "metadata": {},
   "outputs": [
    {
     "name": "stdout",
     "output_type": "stream",
     "text": [
      "Note: you may need to restart the kernel to use updated packages.\n"
     ]
    },
    {
     "name": "stderr",
     "output_type": "stream",
     "text": [
      "  error: subprocess-exited-with-error\n",
      "  \n",
      "  × python setup.py egg_info did not run successfully.\n",
      "  │ exit code: 1\n",
      "  ╰─> [48 lines of output]\n",
      "      Traceback (most recent call last):\n",
      "        File \u001b[35m\"<string>\"\u001b[0m, line \u001b[35m2\u001b[0m, in \u001b[35m<module>\u001b[0m\n",
      "          \u001b[31mexec\u001b[0m\u001b[1;31m(compile('''\u001b[0m\n",
      "          \u001b[31m~~~~\u001b[0m\u001b[1;31m^^^^^^^^^^^^\u001b[0m\n",
      "          \u001b[1;31m# This is <pip-setuptools-caller> -- a caller that pip uses to run setup.py\u001b[0m\n",
      "          \u001b[1;31m^^^^^^^^^^^^^^^^^^^^^^^^^^^^^^^^^^^^^^^^^^^^^^^^^^^^^^^^^^^^^^^^^^^^^^^^^^^\u001b[0m\n",
      "          ...<32 lines>...\n",
      "          \u001b[1;31mexec(compile(setup_py_code, filename, \"exec\"))\u001b[0m\n",
      "          \u001b[1;31m^^^^^^^^^^^^^^^^^^^^^^^^^^^^^^^^^^^^^^^^^^^^^^\u001b[0m\n",
      "          \u001b[1;31m''' % ('C:\\\\Users\\\\FORYOUCOM\\\\AppData\\\\Local\\\\Temp\\\\pip-install-z4in16yl\\\\sentencepiece_f78d1e68e08843b09d4629612029e17e\\\\setup.py',), \"<pip-setuptools-caller>\", \"exec\"))\u001b[0m\n",
      "          \u001b[1;31m^^^^^^^^^^^^^^^^^^^^^^^^^^^^^^^^^^^^^^^^^^^^^^^^^^^^^^^^^^^^^^^^^^^^^^^^^^^^^^^^^^^^^^^^^^^^^^^^^^^^^^^^^^^^^^^^^^^^^^^^^^^^^^^^^^^^^^^^^^^^^^^^^^^^^^^^^^^^^^^^^^^^^^^^^^\u001b[0m\n",
      "        File \u001b[35m\"<pip-setuptools-caller>\"\u001b[0m, line \u001b[35m35\u001b[0m, in \u001b[35m<module>\u001b[0m\n",
      "        File \u001b[35m\"C:\\Users\\FORYOUCOM\\AppData\\Local\\Temp\\pip-install-z4in16yl\\sentencepiece_f78d1e68e08843b09d4629612029e17e\\setup.py\"\u001b[0m, line \u001b[35m128\u001b[0m, in \u001b[35m<module>\u001b[0m\n",
      "          \u001b[31msubprocess.check_call\u001b[0m\u001b[1;31m([\u001b[0m\n",
      "          \u001b[31m~~~~~~~~~~~~~~~~~~~~~\u001b[0m\u001b[1;31m^^\u001b[0m\n",
      "              \u001b[1;31m'cmake',\u001b[0m\n",
      "              \u001b[1;31m^^^^^^^^\u001b[0m\n",
      "          ...<6 lines>...\n",
      "              \u001b[1;31m'-DCMAKE_INSTALL_PREFIX=build\\\\root',\u001b[0m\n",
      "              \u001b[1;31m^^^^^^^^^^^^^^^^^^^^^^^^^^^^^^^^^^^^^\u001b[0m\n",
      "          \u001b[1;31m])\u001b[0m\n",
      "          \u001b[1;31m^^\u001b[0m\n",
      "        File \u001b[35m\"c:\\Users\\FORYOUCOM\\miniconda3\\envs\\dlkoo\\Lib\\subprocess.py\"\u001b[0m, line \u001b[35m416\u001b[0m, in \u001b[35mcheck_call\u001b[0m\n",
      "          retcode = call(*popenargs, **kwargs)\n",
      "        File \u001b[35m\"c:\\Users\\FORYOUCOM\\miniconda3\\envs\\dlkoo\\Lib\\subprocess.py\"\u001b[0m, line \u001b[35m397\u001b[0m, in \u001b[35mcall\u001b[0m\n",
      "          with \u001b[31mPopen\u001b[0m\u001b[1;31m(*popenargs, **kwargs)\u001b[0m as p:\n",
      "               \u001b[31m~~~~~\u001b[0m\u001b[1;31m^^^^^^^^^^^^^^^^^^^^^^\u001b[0m\n",
      "        File \u001b[35m\"c:\\Users\\FORYOUCOM\\miniconda3\\envs\\dlkoo\\Lib\\subprocess.py\"\u001b[0m, line \u001b[35m1038\u001b[0m, in \u001b[35m__init__\u001b[0m\n",
      "          \u001b[31mself._execute_child\u001b[0m\u001b[1;31m(args, executable, preexec_fn, close_fds,\u001b[0m\n",
      "          \u001b[31m~~~~~~~~~~~~~~~~~~~\u001b[0m\u001b[1;31m^^^^^^^^^^^^^^^^^^^^^^^^^^^^^^^^^^^^^^^^^\u001b[0m\n",
      "                              \u001b[1;31mpass_fds, cwd, env,\u001b[0m\n",
      "                              \u001b[1;31m^^^^^^^^^^^^^^^^^^^\u001b[0m\n",
      "          ...<5 lines>...\n",
      "                              \u001b[1;31mgid, gids, uid, umask,\u001b[0m\n",
      "                              \u001b[1;31m^^^^^^^^^^^^^^^^^^^^^^\u001b[0m\n",
      "                              \u001b[1;31mstart_new_session, process_group)\u001b[0m\n",
      "                              \u001b[1;31m^^^^^^^^^^^^^^^^^^^^^^^^^^^^^^^^^\u001b[0m\n",
      "        File \u001b[35m\"c:\\Users\\FORYOUCOM\\miniconda3\\envs\\dlkoo\\Lib\\subprocess.py\"\u001b[0m, line \u001b[35m1550\u001b[0m, in \u001b[35m_execute_child\u001b[0m\n",
      "          hp, ht, pid, tid = \u001b[31m_winapi.CreateProcess\u001b[0m\u001b[1;31m(executable, args,\u001b[0m\n",
      "                             \u001b[31m~~~~~~~~~~~~~~~~~~~~~\u001b[0m\u001b[1;31m^^^^^^^^^^^^^^^^^^\u001b[0m\n",
      "                                   \u001b[1;31m# no special security\u001b[0m\n",
      "                                   \u001b[1;31m^^^^^^^^^^^^^^^^^^^^^\u001b[0m\n",
      "          ...<4 lines>...\n",
      "                                   \u001b[1;31mcwd,\u001b[0m\n",
      "                                   \u001b[1;31m^^^^\u001b[0m\n",
      "                                   \u001b[1;31mstartupinfo)\u001b[0m\n",
      "                                   \u001b[1;31m^^^^^^^^^^^^\u001b[0m\n",
      "      \u001b[1;35mFileNotFoundError\u001b[0m: \u001b[35m[WinError 2] 지정된 파일을 찾을 수 없습니다\u001b[0m\n",
      "      [end of output]\n",
      "  \n",
      "  note: This error originates from a subprocess, and is likely not a problem with pip.\n",
      "error: metadata-generation-failed\n",
      "\n",
      "× Encountered error while generating package metadata.\n",
      "╰─> See above for output.\n",
      "\n",
      "note: This is an issue with the package mentioned above, not pip.\n",
      "hint: See above for details.\n"
     ]
    }
   ],
   "source": [
    "%pip install transformers tokenizers datasets accelerate sentencepiece pillow  timm -qU"
   ]
  },
  {
   "cell_type": "code",
   "execution_count": 16,
   "id": "3ded48e6",
   "metadata": {},
   "outputs": [
    {
     "name": "stdout",
     "output_type": "stream",
     "text": [
      "Using GPU: 0\n",
      "CUDA Version: 12.8\n"
     ]
    }
   ],
   "source": [
    "import os\n",
    "gpu = os.environ.get('CUDA_VISIBLE_DEVICES', '0')\n",
    "# 현제 gpu 설정을 확인합니다.\n",
    "if gpu == '':\n",
    "    gpu = '0'\n",
    "\n",
    "# 현재 GPU 설정과 cuda 버전을 출력합니다.\n",
    "import torch\n",
    "print(f\"Using GPU: {gpu}\")\n",
    "print(f\"CUDA Version: {torch.version.cuda}\")"
   ]
  },
  {
   "cell_type": "markdown",
   "id": "e7e2b823-faf7-4894-a1b3-42d6f177cb99",
   "metadata": {},
   "source": [
    "# Hugging Face Pipeline을 이용한 모델 활용\n",
    "\n",
    "- Pipeline은 Transformers 라이브러리의 가장 기본적인 객체로, **전처리 - 추론 -> 후처리** 로 이어지는 일련의 과정을 자동화하여 손쉽게 모델을 사용할 수 있게 해준다.\n",
    "- Task에 따라 다양한 Pipeline 클래스를 제공하며 `pipeline` 함수를 이용해 쉽게 생성할 수 있다.\n",
    "- **task만 지정**해서 기본 제공 모델과 토크나이저를 사용하거나 **직접 모델과 토크나이저를 지정**해 생성할 수 있다.\n",
    "- https://huggingface.co/docs/transformers/pipeline_tutorial\n",
    "\n",
    "![huggingface_pipeline.png](figures/huggingface_pipeline.png)\n",
    "\n",
    "## 지원하는 주요 태스크\n",
    "- https://huggingface.co/docs/transformers/main_classes/pipelines#transformers.pipeline.task\n",
    "### 자연어 처리 태스크\n",
    "- **text-classification**: 텍스트 분류\n",
    "- **text-generation**: 텍스트 생성\n",
    "- **translation**: 번역\n",
    "- **summarization**: 요약\n",
    "- **question-answering**: 질의응답\n",
    "- **fill-mask**: 마스크 토큰 채우기\n",
    "- **token-classification**: 개체명 인식, Pos tagging 같이 개별 토큰에 대한 분류\n",
    "- **feature-extraction**: 특징 추출(context vector)\n",
    "\n",
    "### 영상 처리 태스크\n",
    "- **image-classification**: 이미지 분류\n",
    "- **object-detection**\n",
    "  -  객체 검출 (Object Detection)\n",
    "  -  이미지 안에서 객체들의 위치와 class를 찾아내는 작업\n",
    "- **image-segmentation**\n",
    "  -  이미지 세분화 (Image Segmentation)\n",
    "  -  이미지를 픽셀 단위로 분할하여 각 픽셀이 어떤 객체에 속하는지 분류하는 작업"
   ]
  },
  {
   "cell_type": "markdown",
   "id": "1cca91e0",
   "metadata": {},
   "source": [
    "## 모델 검색\n",
    "![huggingface_model_search.png](figures/huggingface_model_search.png)\n",
    "\n"
   ]
  },
  {
   "cell_type": "markdown",
   "id": "9387713c",
   "metadata": {},
   "source": [
    "## pipeline 함수\n",
    "- 주요파라미터\n",
    "  - **task:** 수행하려는 작업의 유형을 문자열로 지정한다.\n",
    "  - **model:**\n",
    "    - 사용할 사전 학습된 모델의 이름 또는 경로를 지정한다. \n",
    "    - 모델이름(ID)은 `[모델소유자이름]/[모델이름]` 형식이다. Hugging Face에서 제공하는 모델의 경우는 `모델소유자이름`이 생략되어 있다. (ex: \"google/gemma-2-2b\", \"gpt2\")\n",
    "    - 모델을 명시적으로 지정하지 않으면, **task에 맞는 기본 모델이 로드**된다.\n",
    "  - **tokenizer:** 자연어 task에서 사용할 토크나이저를 지정한다. 생략하면 모델과 같이 제공되는(model과 이름이 같은 토크나이저) 토크나이저를 사용한다.\n",
    "  - **framework:** 사용할 딥러닝 프레임워크를 지정한다. 'pt'는 PyTorch(Default), 'tf'는 TensorFlow를 지정한다.\n",
    "  - **device:** Pipeline 모델을 실행할 디바이스를 지정한다. 문자열로 `\"cpu\", \"cuda:1\", \"mps\"`, 또는 GPU 번호를 정수로 지정한다. \n",
    "  - **revision:** 모델의 특정 버전을 지정할 때 사용한다.\n",
    "  - **trust_remote_code:** hub 모델을 직접 다운 받는 것이 아니라 모델을 다운 받는 **코드**를 다운 받아 local에서 실행하는 경우 코드를 실행할 수있게 할 지 여부. (bool)\n",
    "  - **use_fast:** \n",
    "    - 빠른 토크나이저를 사용할지 여부를 지정합니다. 기본값은 True입니다.\n",
    "    - 빠른 토크나이저는 `Rust` 언어로 구현되어 속도가 빠르다. 단 모든 모델에 대해 지원하지 않는다. 지원하지 않을 경우 `use_fast=True`로 설정해도 일반 토크나이저가 사용된다."
   ]
  },
  {
   "cell_type": "markdown",
   "id": "b5ba95b6-785c-42e0-a86f-2d5bac732e33",
   "metadata": {},
   "source": [
    "## Task 별 pipeline 실습\n",
    "\n",
    "### 텍스트 분류"
   ]
  },
  {
   "cell_type": "code",
   "execution_count": 70,
   "id": "c990b8c8-2f00-4c4d-84e8-22150883b111",
   "metadata": {},
   "outputs": [],
   "source": [
    "from transformers import pipeline"
   ]
  },
  {
   "cell_type": "code",
   "execution_count": 7,
   "id": "8a68efdb-1b16-4407-ae51-259f58e6c2d6",
   "metadata": {},
   "outputs": [
    {
     "name": "stderr",
     "output_type": "stream",
     "text": [
      "No model was supplied, defaulted to distilbert/distilbert-base-uncased-finetuned-sst-2-english and revision 714eb0f (https://huggingface.co/distilbert/distilbert-base-uncased-finetuned-sst-2-english).\n",
      "Using a pipeline without specifying a model name and revision in production is not recommended.\n",
      "Device set to use cuda:0\n"
     ]
    }
   ],
   "source": [
    "# 모델과 토크나이저를 로딩해서 pipeline을 생성합니다.\n",
    "pipe = pipeline(task='text-classification', framework='pt')"
   ]
  },
  {
   "cell_type": "code",
   "execution_count": 10,
   "id": "00a21dc8",
   "metadata": {},
   "outputs": [
    {
     "data": {
      "text/plain": [
       "[{'label': 'NEGATIVE', 'score': 0.9997686743736267}]"
      ]
     },
     "execution_count": 10,
     "metadata": {},
     "output_type": "execute_result"
    }
   ],
   "source": [
    "result = pipe(\"I am very unhappy\") # raw -> tokenization -> model inference -> post-processing\n",
    "result"
   ]
  },
  {
   "cell_type": "code",
   "execution_count": 12,
   "id": "fb370b80-23b6-4d80-bf97-e3d873bfb989",
   "metadata": {
    "tags": []
   },
   "outputs": [
    {
     "data": {
      "text/plain": [
       "[{'label': 'POSITIVE', 'score': 0.9998227953910828},\n",
       " {'label': 'POSITIVE', 'score': 0.9998812675476074},\n",
       " {'label': 'POSITIVE', 'score': 0.9998470544815063},\n",
       " {'label': 'NEGATIVE', 'score': 0.9978100657463074},\n",
       " {'label': 'NEGATIVE', 'score': 0.99960857629776},\n",
       " {'label': 'NEGATIVE', 'score': 0.9996129870414734}]"
      ]
     },
     "execution_count": 12,
     "metadata": {},
     "output_type": "execute_result"
    }
   ],
   "source": [
    "data = [ \n",
    "    \"The project was completed successfully.\", \n",
    "    \"She always brings positive energy to the team.\", \n",
    "    \"I am confident that we will achieve our goals.\",\n",
    "    \"The results were not as expected.\", \n",
    "    \"He struggled to meet the deadline.\", \n",
    "    \"The client was dissatisfied with the final product.\" \n",
    "]\n",
    "results = pipe(data)\n",
    "results"
   ]
  },
  {
   "cell_type": "code",
   "execution_count": 14,
   "id": "97d377fa-cc5a-429d-9933-fcb65997d12c",
   "metadata": {},
   "outputs": [
    {
     "name": "stderr",
     "output_type": "stream",
     "text": [
      "Xet Storage is enabled for this repo, but the 'hf_xet' package is not installed. Falling back to regular HTTP download. For better performance, install the package with: `pip install huggingface_hub[hf_xet]` or `pip install hf_xet`\n",
      "Device set to use cuda:0\n"
     ]
    }
   ],
   "source": [
    "# 특정 모델을 사용\n",
    "model=\"distilbert-base-uncased-finetuned-sst-2-english\"\n",
    "#huggingface.co/models 에서 모델을 검색할 수 있습니다.\n",
    "\n",
    "pipe = pipeline(task='text-classification', model=model, tokenizer=model)"
   ]
  },
  {
   "cell_type": "code",
   "execution_count": 15,
   "id": "1bf281ff",
   "metadata": {},
   "outputs": [
    {
     "data": {
      "text/plain": [
       "[{'label': 'POSITIVE', 'score': 0.9998227953910828},\n",
       " {'label': 'POSITIVE', 'score': 0.9998812675476074},\n",
       " {'label': 'POSITIVE', 'score': 0.9998470544815063},\n",
       " {'label': 'NEGATIVE', 'score': 0.9978100657463074},\n",
       " {'label': 'NEGATIVE', 'score': 0.99960857629776},\n",
       " {'label': 'NEGATIVE', 'score': 0.9996129870414734}]"
      ]
     },
     "execution_count": 15,
     "metadata": {},
     "output_type": "execute_result"
    }
   ],
   "source": [
    "pipe(data)"
   ]
  },
  {
   "cell_type": "code",
   "execution_count": 16,
   "id": "5bb9fdee-2a87-48aa-8568-7cb81a75810c",
   "metadata": {},
   "outputs": [
    {
     "data": {
      "text/plain": [
       "[{'label': 'POSITIVE', 'score': 0.9855567812919617},\n",
       " {'label': 'POSITIVE', 'score': 0.7425784468650818},\n",
       " {'label': 'POSITIVE', 'score': 0.6555735468864441},\n",
       " {'label': 'NEGATIVE', 'score': 0.5247911810874939}]"
      ]
     },
     "execution_count": 16,
     "metadata": {},
     "output_type": "execute_result"
    }
   ],
   "source": [
    "kor_texts = [\n",
    "    \"이 영화 정말 재미있어요!\",\n",
    "    \"서비스가 별로였어요.\",\n",
    "    \"제품 품질이 우수합니다.\",\n",
    "    \"따듯하고 부드럽고 제품은 너무 좋습니다. 그런데 배송이 너무 늦네요.\"  # 애매한 것 0.56 정도 나오네.\n",
    "]\n",
    "pipe(kor_texts)"
   ]
  },
  {
   "cell_type": "code",
   "execution_count": 18,
   "id": "cc568631-140c-4d2b-a230-22156cc72e5e",
   "metadata": {},
   "outputs": [
    {
     "name": "stderr",
     "output_type": "stream",
     "text": [
      "Device set to use cuda:0\n"
     ]
    },
    {
     "data": {
      "text/plain": [
       "[{'label': '1', 'score': 0.9897311329841614},\n",
       " {'label': '0', 'score': 0.9969298243522644},\n",
       " {'label': '1', 'score': 0.9640170335769653},\n",
       " {'label': '0', 'score': 0.5669124126434326}]"
      ]
     },
     "execution_count": 18,
     "metadata": {},
     "output_type": "execute_result"
    }
   ],
   "source": [
    "model = 'Copycats/koelectra-base-v3-generalized-sentiment-analysis' \n",
    "pipe = pipeline(task='text-classification', model=model, tokenizer=model)\n",
    "pipe(kor_texts)"
   ]
  },
  {
   "cell_type": "code",
   "execution_count": 19,
   "id": "887bfdad",
   "metadata": {},
   "outputs": [
    {
     "name": "stderr",
     "output_type": "stream",
     "text": [
      "Device set to use cuda:0\n"
     ]
    },
    {
     "data": {
      "text/plain": [
       "[{'label': 'Very Positive', 'score': 0.5016761422157288},\n",
       " {'label': 'Negative', 'score': 0.5245441794395447},\n",
       " {'label': 'Very Positive', 'score': 0.6271341443061829},\n",
       " {'label': 'Very Positive', 'score': 0.5461600422859192}]"
      ]
     },
     "execution_count": 19,
     "metadata": {},
     "output_type": "execute_result"
    }
   ],
   "source": [
    "# Use a pipeline as a high-level helper\n",
    "from transformers import pipeline\n",
    "\n",
    "pipe = pipeline(\"text-classification\", model=\"tabularisai/multilingual-sentiment-analysis\")\n",
    "pipe(kor_texts)"
   ]
  },
  {
   "cell_type": "code",
   "execution_count": 20,
   "id": "b4ed84fd",
   "metadata": {},
   "outputs": [
    {
     "name": "stdout",
     "output_type": "stream",
     "text": [
      "The project was completed successfully. -> POSITIVE (1.00)\n",
      "She always brings positive energy to the team. -> POSITIVE (1.00)\n",
      "I am confident that we will achieve our goals. -> POSITIVE (1.00)\n",
      "The results were not as expected. -> NEGATIVE (1.00)\n",
      "He struggled to meet the deadline. -> NEGATIVE (1.00)\n",
      "The client was dissatisfied with the final product. -> NEGATIVE (1.00)\n"
     ]
    }
   ],
   "source": [
    "for txt, r in zip(data, results):\n",
    "    print(f\"{txt} -> {r['label']} ({r['score']:.2f})\")"
   ]
  },
  {
   "cell_type": "markdown",
   "id": "c5b46756-4b5e-4bdc-be44-2d240e6dce03",
   "metadata": {
    "tags": []
   },
   "source": [
    "### 제로샷 분류\n",
    "- 제로샷(Zero-shot)은 각 개별 작업에 대한 특정 교육 없이 작업을 수행할 수 있는 task다.\n",
    "- 입력 텍스트와 함께 클래스 레이블을 제공하면 분류 작업을 한다.\n",
    "- 모델은  `task`에서 `Zero-Shot` 으로 시작하는 task를 선택하여 검색한다."
   ]
  },
  {
   "cell_type": "code",
   "execution_count": 23,
   "id": "5d07e8bd-53f1-4410-b52e-1e299ed7bcef",
   "metadata": {},
   "outputs": [],
   "source": [
    "model = \"facebook/bart-large-mnli\"\n",
    "\n",
    "text = [\"Python is a programming language.\", \n",
    "        \"I love soccer\", \n",
    "        \"The stock price rose slightly today.\"]\n",
    "labels = ['IT', 'Sports']"
   ]
  },
  {
   "cell_type": "code",
   "execution_count": 26,
   "id": "8bf504f7-ede8-491c-91bf-858370d6b486",
   "metadata": {},
   "outputs": [
    {
     "name": "stderr",
     "output_type": "stream",
     "text": [
      "Xet Storage is enabled for this repo, but the 'hf_xet' package is not installed. Falling back to regular HTTP download. For better performance, install the package with: `pip install huggingface_hub[hf_xet]` or `pip install hf_xet`\n",
      "Device set to use cuda:0\n"
     ]
    }
   ],
   "source": [
    "pipe= pipeline(task=\"zero-shot-classification\", model=model)\n",
    "result = pipe(text, candidate_labels=labels)"
   ]
  },
  {
   "cell_type": "code",
   "execution_count": 27,
   "id": "f51ab30e-c8dc-48d0-8ec9-0a47c98d08ee",
   "metadata": {},
   "outputs": [
    {
     "data": {
      "text/plain": [
       "[{'sequence': 'Python is a programming language.',\n",
       "  'labels': ['IT', 'Sports'],\n",
       "  'scores': [0.5758525729179382, 0.4241473972797394]},\n",
       " {'sequence': 'I love soccer',\n",
       "  'labels': ['Sports', 'IT'],\n",
       "  'scores': [0.993531346321106, 0.006468650884926319]},\n",
       " {'sequence': 'The stock price rose slightly today.',\n",
       "  'labels': ['IT', 'Sports'],\n",
       "  'scores': [0.6849518418312073, 0.31504809856414795]}]"
      ]
     },
     "execution_count": 27,
     "metadata": {},
     "output_type": "execute_result"
    }
   ],
   "source": [
    "result"
   ]
  },
  {
   "cell_type": "code",
   "execution_count": 28,
   "id": "1631afe1",
   "metadata": {},
   "outputs": [
    {
     "data": {
      "text/plain": [
       "[{'sequence': 'Python is a programming language.',\n",
       "  'labels': ['IT',\n",
       "   'Finance',\n",
       "   'Sports',\n",
       "   'movie',\n",
       "   'education',\n",
       "   'Entertainment',\n",
       "   'Politics'],\n",
       "  'scores': [0.22944369912147522,\n",
       "   0.16977952420711517,\n",
       "   0.16899801790714264,\n",
       "   0.12504810094833374,\n",
       "   0.10754953324794769,\n",
       "   0.10339551419019699,\n",
       "   0.09578562527894974]},\n",
       " {'sequence': 'I love soccer',\n",
       "  'labels': ['Sports',\n",
       "   'Entertainment',\n",
       "   'IT',\n",
       "   'movie',\n",
       "   'education',\n",
       "   'Finance',\n",
       "   'Politics'],\n",
       "  'scores': [0.9748833179473877,\n",
       "   0.013839487917721272,\n",
       "   0.006347238086163998,\n",
       "   0.0016157771460711956,\n",
       "   0.0012041475856676698,\n",
       "   0.0011728359386324883,\n",
       "   0.0009371955529786646]},\n",
       " {'sequence': 'The stock price rose slightly today.',\n",
       "  'labels': ['Finance',\n",
       "   'IT',\n",
       "   'Entertainment',\n",
       "   'Sports',\n",
       "   'movie',\n",
       "   'Politics',\n",
       "   'education'],\n",
       "  'scores': [0.40594515204429626,\n",
       "   0.2021813541650772,\n",
       "   0.09645739197731018,\n",
       "   0.09299463778734207,\n",
       "   0.07514490187168121,\n",
       "   0.07279049605131149,\n",
       "   0.054486051201820374]}]"
      ]
     },
     "execution_count": 28,
     "metadata": {},
     "output_type": "execute_result"
    }
   ],
   "source": [
    "labels = ['IT', 'Sports', 'Finance', 'Politics', 'Entertainment', 'movie', 'education']\n",
    "result = pipe(text, candidate_labels=labels)\n",
    "result"
   ]
  },
  {
   "cell_type": "markdown",
   "id": "ffb317be-2e6e-4189-98df-3f9ebf981f91",
   "metadata": {},
   "source": [
    "### 텍스트 생성"
   ]
  },
  {
   "cell_type": "code",
   "execution_count": 29,
   "id": "841ee616",
   "metadata": {},
   "outputs": [
    {
     "name": "stderr",
     "output_type": "stream",
     "text": [
      "No model was supplied, defaulted to openai-community/gpt2 and revision 607a30d (https://huggingface.co/openai-community/gpt2).\n",
      "Using a pipeline without specifying a model name and revision in production is not recommended.\n",
      "Xet Storage is enabled for this repo, but the 'hf_xet' package is not installed. Falling back to regular HTTP download. For better performance, install the package with: `pip install huggingface_hub[hf_xet]` or `pip install hf_xet`\n",
      "Device set to use cuda:0\n"
     ]
    }
   ],
   "source": [
    "pipe = pipeline(task='text-generation')\n"
   ]
  },
  {
   "cell_type": "code",
   "execution_count": 30,
   "id": "126441da-5524-4303-abe4-648cecf2419f",
   "metadata": {},
   "outputs": [
    {
     "name": "stderr",
     "output_type": "stream",
     "text": [
      "Setting `pad_token_id` to `eos_token_id`:50256 for open-end generation.\n"
     ]
    }
   ],
   "source": [
    "start_text = \"Today weather\"\n",
    "sent = pipe(start_text)"
   ]
  },
  {
   "cell_type": "code",
   "execution_count": 32,
   "id": "742348e8",
   "metadata": {},
   "outputs": [
    {
     "name": "stdout",
     "output_type": "stream",
     "text": [
      "Today weather and precipitation is expected to rise.\n",
      "\n",
      "\"We're very confident that this will be a very hot and dry day,\" said Kim. \"The heat will take an hour to cool down, and the extreme precipitation will be a bit more intense than it was last year.\"\n",
      "\n",
      "The weather patterns have been expected to change with the start of the summer heat wave. The National Weather Service predicts that the drought in California will have a \"very strong\" impact on the state's precipitation totals as well as on the rest of the country.\n",
      "\n",
      "\"The precipitation will be particularly strong up to the southern portion of the state, when the snowpack will be very heavy and severe,\" said Kim. \"This will be particularly intense in central and eastern parts of the state, and the rest of the country, as well.\"\n",
      "\n",
      "The drought is expected to push precipitation totals to nearly 3 million tons of snow by the end of July. In the worst-case scenario, it could produce up to 10 million tons of snow by the end of August, which is a major threat to the state's forests and the state's future.\n",
      "\n",
      "The National Weather Service is also predicting a lot of snowfall, especially on the east side of the state.\n",
      "\n",
      "\"A significant\n"
     ]
    }
   ],
   "source": [
    "print(sent[0]['generated_text'])"
   ]
  },
  {
   "cell_type": "code",
   "execution_count": 33,
   "id": "52751463",
   "metadata": {},
   "outputs": [
    {
     "name": "stderr",
     "output_type": "stream",
     "text": [
      "Setting `pad_token_id` to `eos_token_id`:50256 for open-end generation.\n",
      "Setting `pad_token_id` to `eos_token_id`:50256 for open-end generation.\n",
      "Setting `pad_token_id` to `eos_token_id`:50256 for open-end generation.\n"
     ]
    },
    {
     "data": {
      "text/plain": [
       "[[{'generated_text': \"I am so grateful to see you now. I have been feeling even more exhausted since you left. I'm so thankful to have you, and you're always so kind and kind. Thank you, for your kind words and for your gentle words, for your encouragement and advice.\\n\\nI have been so sorry to see you. I was so sorry to see you so badly. I know that you are sorry for what you've done, but I ask you to forgive me for the pain you've caused me, for all the many things that I've done to you. I am so sorry for everything I've done to you, but I am so sorry for everything I am trying to do to you.\\n\\nI am so sorry for what I've done to you. As long as I was in your shoes, you would not have been able to forgive me, because of everything that you have done to me. I am so sorry for everything that I've done to you.\\n\\nI am so sorry for everything that I've done to you. As long as I was in your shoes, you would not have been able to forgive me, because of everything that you have done to me. I am so sorry for everything that I've done to you.\\n\\n\"}],\n",
       " [{'generated_text': 'Python.lang.StringIO.Strings\\n\\n@classmethod public class Strings implements StringIO { public int parse(String str) { return str; } public int getValue(String str) { return str; } }\\n\\nThis is an excellent approach where the API is well chosen.\\n\\nNote: This example only works on Java 8.\\n\\npublic class Int extends Strings implements Int { public String parse(String str) { return str; } public String getValue(String str) { return str; } }\\n\\n@implementation StringIO public class Strings implements Int { public String getValue(String str) { return str; } public String getValue(String str) { return str; } }\\n\\nThis is a good approach where the API is well chosen.\\n\\nNote: This example only works on Java 8.\\n\\npublic class String implements Int { public String getValue(String str) { return str; } public String getValue(String str) { return str; } }\\n\\nThis is an excellent approach where the API is well chosen.\\n\\nNote: This example only works on Java 8.\\n\\npublic class String implements Int { public String getValue(String str) { return'}],\n",
       " [{'generated_text': 'LLM is a new and improved version of the JMX version of the MOSFET™ module. It enables you to transfer your own MOSFET™ modules to your computer using the proprietary JMX™ protocol, MOSFET™ module for Arduino, and MOSFET™ module for Arduino IDE.\\n\\nThe JMX™ module can be transferred to the Arduino IDE using the JMX™ protocol, including:\\n\\n- The JMX module is a digital-to-analog converter (DC) chip and it is designed to be used for the JMX™ modules. It has a 3D-printed footprint, as shown in the picture below. The DCC chip can also be used for the JMX™ modules with the Arduino IDE.\\n\\n- The JMX module can be used as a source for a USB 3.0 port and it is fully compatible with the JMX™ modules.\\n\\n- The JMX module can also be used for an external storage (CD) module.\\n\\n\\nTo transfer the module to the Arduino IDE:\\n\\n- Insert the JMX module into the IDE and use any USB device on the board (USB-C or USB-D)\\n\\n- Add the JMX module to the'}]]"
      ]
     },
     "execution_count": 33,
     "metadata": {},
     "output_type": "execute_result"
    }
   ],
   "source": [
    "pipe([\"I am\", \"Python\", \"LLM is\"])"
   ]
  },
  {
   "cell_type": "code",
   "execution_count": 35,
   "id": "fdbfd2b8",
   "metadata": {},
   "outputs": [
    {
     "name": "stderr",
     "output_type": "stream",
     "text": [
      "Setting `pad_token_id` to `eos_token_id`:50256 for open-end generation.\n"
     ]
    },
    {
     "data": {
      "text/plain": [
       "[{'generated_text': '나는 어제 시간 콙사도 혌드 모세성 / 것마리 목하고 사람 강에자 안리땄 젠야 그리하고 는할는 휄고 건서요 배노리세 다으는 정출 혼정도 모세성 목하고 는할 아리땄 젠야 그리하고 는할는 정출 혼정도 모세성 목하고 는할는 정�'}]"
      ]
     },
     "execution_count": 35,
     "metadata": {},
     "output_type": "execute_result"
    }
   ],
   "source": [
    "pipe(\"나는 어제\")"
   ]
  },
  {
   "cell_type": "code",
   "execution_count": null,
   "id": "46e31c62-1e89-49ef-b25c-c0957bd0b66e",
   "metadata": {},
   "outputs": [
    {
     "name": "stderr",
     "output_type": "stream",
     "text": [
      "Xet Storage is enabled for this repo, but the 'hf_xet' package is not installed. Falling back to regular HTTP download. For better performance, install the package with: `pip install huggingface_hub[hf_xet]` or `pip install hf_xet`\n",
      "Xet Storage is enabled for this repo, but the 'hf_xet' package is not installed. Falling back to regular HTTP download. For better performance, install the package with: `pip install huggingface_hub[hf_xet]` or `pip install hf_xet`\n",
      "Device set to use cuda:0\n",
      "Truncation was not explicitly activated but `max_length` is provided a specific value, please use `truncation=True` to explicitly truncate examples to max length. Defaulting to 'longest_first' truncation strategy. If you encode pairs of sequences (GLUE-style) with the tokenizer you can select this strategy more precisely by providing a specific strategy to `truncation`.\n",
      "Both `max_new_tokens` (=256) and `max_length`(=50) seem to have been set. `max_new_tokens` will take precedence. Please refer to the documentation for more information. (https://huggingface.co/docs/transformers/main/en/main_classes/text_generation)\n"
     ]
    },
    {
     "data": {
      "text/plain": [
       "[{'generated_text': '오늘 날씨는 추운하고 일어나는 날입니다. 이는 기온이 20도에서 25도로, 낮은 일기입니다. 이 날에는 캐리어를 했으며, 빠르게 일어나, 이어지는 방향으로 향하고 있습니다. 캐리어는 매우 빠르고, 낮은 향상, 전면에서의 캐리어가 매우 흔하고 있습니다. 이 일기에서, 나는 주변의 환경에 대한 영향을 미치는 요소들을 설명하고, 이 요소들을 설명하고, 이 요소들을 설명하고, 이 요소들을 설명하고, 이 요소들을 설명하고, 이 요소들을 설명하고, 이 요소들을 설명하고, 이 요소들을 설명하고, 이 요소들을 설명하고, 이 요소들을 설명하고, 이 요소들을 설명하고, 이 요소들을 설명하고, 이 요소들을 설명하고, 이 요소들을 설명하고, 이 요소들을 설명하고, 이 요소들을 설명하고, 이 요소들을 설명하고, 이 요소들을 설명하고, 이 요소'}]"
      ]
     },
     "execution_count": 37,
     "metadata": {},
     "output_type": "execute_result"
    }
   ],
   "source": [
    "model_id = 'Qwen/Qwen3-0.6B'\n",
    "pipe = pipeline(task='text-generation', model=model_id, tokenizer=model_id, device=0)\n"
   ]
  },
  {
   "cell_type": "code",
   "execution_count": null,
   "id": "d9129ea2",
   "metadata": {},
   "outputs": [],
   "source": [
    "start_text = \"오늘 날씨는\"\n",
    "pipe(start_text, max_length=50, do_sample=True, temperature=0.7)\n"
   ]
  },
  {
   "cell_type": "code",
   "execution_count": null,
   "id": "256295cd",
   "metadata": {},
   "outputs": [
    {
     "data": {
      "text/plain": [
       "[{'generated_text': [{'role': 'user', 'content': 'LLM에 대해 설명해줘'},\n",
       "   {'role': 'assistant',\n",
       "    'content': \"<think>\\nOkay, the user wants an explanation of LLMs. Let me start by recalling what an LLM is. It's a large language model, right? I should define it clearly. Maybe mention that it's a type of artificial intelligence model developed by companies like Google, Amazon, and Microsoft. Then, talk about its key features: it can understand and generate text, perform tasks like writing code, and even answer questions. I need to highlight some examples, like Google's BERT or Amazon's Qwen. Also, mention the training data and how it's trained. Oh, and the benefits and challenges, like bias and transparency. Make sure to keep the explanation simple and not too technical. Avoid jargon where possible and use clear examples. Check if the user might be a student or someone new to AI, so keep the language accessible. Alright, that should cover it.\\n</think>\\n\\nLLM은 **대규모 자연어 처리 모델**(Large Language Model)이란 말을 이해하고, 자동으로 문장이나 문장 생성, 코드 작성, 질문 답변 등 다양한 업무를 수행하는 컴퓨터 시스템입니다.  \\n\\n### 주요 특징  \\n1. **문자열 이해 및 생성**  \\n   - L\"}]}]"
      ]
     },
     "execution_count": 40,
     "metadata": {},
     "output_type": "execute_result"
    }
   ],
   "source": [
    "msg = [\n",
    "    {\"role\": \"user\", \"content\": \"LLM에 대해 설명해줘\"},\n",
    "]\n",
    "pipe(msg , max_length=100, do_sample=True, temperature=0.7)"
   ]
  },
  {
   "cell_type": "code",
   "execution_count": 41,
   "id": "43511307",
   "metadata": {},
   "outputs": [
    {
     "data": {
      "text/plain": [
       "[{'generated_text': [{'role': 'user', 'content': 'LLM에 대해 설명해줘'},\n",
       "   {'role': 'assistant',\n",
       "    'content': \"<think>\\nOkay, the user wants an explanation of LLM. Let me start by defining LLM. I should mention it's a large language model, so I'll use the example of GPT. Then, explain its key features like understanding and generating text, handling multiple tasks, and adaptability. Need to highlight the benefits and limitations. Maybe mention it's a large model, so I should clarify that it's not a physical computer. Also, discuss the use cases and the current state of LLM development. Make sure the explanation is clear and covers all important points without getting too technical.\\n</think>\\n\\n**LLM (Large Language Model)**는 매우 학습된 인공지능으로 구성된 모델로, 문법과 언어 기반의 다양한 작업에 대해 인식하고, 생성되는 문장을 생성하거나 분석하는 능력을 갖는다. 예를 들어, GPT는 문법을 이해하며, 다양한 질문에 대한 답변을 제공하고, 상황에 따라 다양한 작업을 수행하는 능력을 보여준다.\\n\\n### 주요 특징:\\n1. **문법과 언어 이해력**:  \\n   LLM은 문법을 깊이 이해하고, 다양한 문장 구조를 분\"}]}]"
      ]
     },
     "execution_count": 41,
     "metadata": {},
     "output_type": "execute_result"
    }
   ],
   "source": [
    "pipe(msg)"
   ]
  },
  {
   "cell_type": "markdown",
   "id": "0f0ea454-a9ed-45dc-94eb-99766a349b5c",
   "metadata": {},
   "source": [
    "### 마스크 채우기"
   ]
  },
  {
   "cell_type": "code",
   "execution_count": 42,
   "id": "17d7118a-ab88-47ba-b54e-ae751f35741b",
   "metadata": {
    "tags": []
   },
   "outputs": [],
   "source": [
    "text = \"I'm going to <mask> because <mask> am hurt.\"\n",
    "model=\"distilroberta-base\""
   ]
  },
  {
   "cell_type": "code",
   "execution_count": 55,
   "id": "51b53e5f",
   "metadata": {},
   "outputs": [
    {
     "name": "stderr",
     "output_type": "stream",
     "text": [
      "Some weights of the model checkpoint at distilroberta-base were not used when initializing RobertaForMaskedLM: ['roberta.pooler.dense.bias', 'roberta.pooler.dense.weight']\n",
      "- This IS expected if you are initializing RobertaForMaskedLM from the checkpoint of a model trained on another task or with another architecture (e.g. initializing a BertForSequenceClassification model from a BertForPreTraining model).\n",
      "- This IS NOT expected if you are initializing RobertaForMaskedLM from the checkpoint of a model that you expect to be exactly identical (initializing a BertForSequenceClassification model from a BertForSequenceClassification model).\n",
      "Device set to use cuda:0\n"
     ]
    },
    {
     "ename": "PipelineException",
     "evalue": "No mask_token (<mask>) found on the input",
     "output_type": "error",
     "traceback": [
      "\u001b[31m---------------------------------------------------------------------------\u001b[39m",
      "\u001b[31mPipelineException\u001b[39m                         Traceback (most recent call last)",
      "\u001b[36mCell\u001b[39m\u001b[36m \u001b[39m\u001b[32mIn[55]\u001b[39m\u001b[32m, line 2\u001b[39m\n\u001b[32m      1\u001b[39m pipe = pipeline(task=\u001b[33m\"\u001b[39m\u001b[33mfill-mask\u001b[39m\u001b[33m\"\u001b[39m, model=model)\n\u001b[32m----> \u001b[39m\u001b[32m2\u001b[39m result = \u001b[43mpipe\u001b[49m\u001b[43m(\u001b[49m\u001b[43mtext\u001b[49m\u001b[43m,\u001b[49m\u001b[43m \u001b[49m\u001b[43mtop_k\u001b[49m\u001b[43m=\u001b[49m\u001b[32;43m2\u001b[39;49m\u001b[43m)\u001b[49m\n",
      "\u001b[36mFile \u001b[39m\u001b[32mc:\\Users\\FORYOUCOM\\miniconda3\\envs\\dlkoo\\Lib\\site-packages\\transformers\\pipelines\\fill_mask.py:270\u001b[39m, in \u001b[36mFillMaskPipeline.__call__\u001b[39m\u001b[34m(self, inputs, **kwargs)\u001b[39m\n\u001b[32m    248\u001b[39m \u001b[38;5;28;01mdef\u001b[39;00m\u001b[38;5;250m \u001b[39m\u001b[34m__call__\u001b[39m(\u001b[38;5;28mself\u001b[39m, inputs, **kwargs):\n\u001b[32m    249\u001b[39m \u001b[38;5;250m    \u001b[39m\u001b[33;03m\"\"\"\u001b[39;00m\n\u001b[32m    250\u001b[39m \u001b[33;03m    Fill the masked token in the text(s) given as inputs.\u001b[39;00m\n\u001b[32m    251\u001b[39m \n\u001b[32m   (...)\u001b[39m\u001b[32m    268\u001b[39m \u001b[33;03m        - **token_str** (`str`) -- The predicted token (to replace the masked one).\u001b[39;00m\n\u001b[32m    269\u001b[39m \u001b[33;03m    \"\"\"\u001b[39;00m\n\u001b[32m--> \u001b[39m\u001b[32m270\u001b[39m     outputs = \u001b[38;5;28;43msuper\u001b[39;49m\u001b[43m(\u001b[49m\u001b[43m)\u001b[49m\u001b[43m.\u001b[49m\u001b[34;43m__call__\u001b[39;49m\u001b[43m(\u001b[49m\u001b[43minputs\u001b[49m\u001b[43m,\u001b[49m\u001b[43m \u001b[49m\u001b[43m*\u001b[49m\u001b[43m*\u001b[49m\u001b[43mkwargs\u001b[49m\u001b[43m)\u001b[49m\n\u001b[32m    271\u001b[39m     \u001b[38;5;28;01mif\u001b[39;00m \u001b[38;5;28misinstance\u001b[39m(inputs, \u001b[38;5;28mlist\u001b[39m) \u001b[38;5;129;01mand\u001b[39;00m \u001b[38;5;28mlen\u001b[39m(inputs) == \u001b[32m1\u001b[39m:\n\u001b[32m    272\u001b[39m         \u001b[38;5;28;01mreturn\u001b[39;00m outputs[\u001b[32m0\u001b[39m]\n",
      "\u001b[36mFile \u001b[39m\u001b[32mc:\\Users\\FORYOUCOM\\miniconda3\\envs\\dlkoo\\Lib\\site-packages\\transformers\\pipelines\\base.py:1431\u001b[39m, in \u001b[36mPipeline.__call__\u001b[39m\u001b[34m(self, inputs, num_workers, batch_size, *args, **kwargs)\u001b[39m\n\u001b[32m   1423\u001b[39m     \u001b[38;5;28;01mreturn\u001b[39;00m \u001b[38;5;28mnext\u001b[39m(\n\u001b[32m   1424\u001b[39m         \u001b[38;5;28miter\u001b[39m(\n\u001b[32m   1425\u001b[39m             \u001b[38;5;28mself\u001b[39m.get_iterator(\n\u001b[32m   (...)\u001b[39m\u001b[32m   1428\u001b[39m         )\n\u001b[32m   1429\u001b[39m     )\n\u001b[32m   1430\u001b[39m \u001b[38;5;28;01melse\u001b[39;00m:\n\u001b[32m-> \u001b[39m\u001b[32m1431\u001b[39m     \u001b[38;5;28;01mreturn\u001b[39;00m \u001b[38;5;28;43mself\u001b[39;49m\u001b[43m.\u001b[49m\u001b[43mrun_single\u001b[49m\u001b[43m(\u001b[49m\u001b[43minputs\u001b[49m\u001b[43m,\u001b[49m\u001b[43m \u001b[49m\u001b[43mpreprocess_params\u001b[49m\u001b[43m,\u001b[49m\u001b[43m \u001b[49m\u001b[43mforward_params\u001b[49m\u001b[43m,\u001b[49m\u001b[43m \u001b[49m\u001b[43mpostprocess_params\u001b[49m\u001b[43m)\u001b[49m\n",
      "\u001b[36mFile \u001b[39m\u001b[32mc:\\Users\\FORYOUCOM\\miniconda3\\envs\\dlkoo\\Lib\\site-packages\\transformers\\pipelines\\base.py:1437\u001b[39m, in \u001b[36mPipeline.run_single\u001b[39m\u001b[34m(self, inputs, preprocess_params, forward_params, postprocess_params)\u001b[39m\n\u001b[32m   1436\u001b[39m \u001b[38;5;28;01mdef\u001b[39;00m\u001b[38;5;250m \u001b[39m\u001b[34mrun_single\u001b[39m(\u001b[38;5;28mself\u001b[39m, inputs, preprocess_params, forward_params, postprocess_params):\n\u001b[32m-> \u001b[39m\u001b[32m1437\u001b[39m     model_inputs = \u001b[38;5;28;43mself\u001b[39;49m\u001b[43m.\u001b[49m\u001b[43mpreprocess\u001b[49m\u001b[43m(\u001b[49m\u001b[43minputs\u001b[49m\u001b[43m,\u001b[49m\u001b[43m \u001b[49m\u001b[43m*\u001b[49m\u001b[43m*\u001b[49m\u001b[43mpreprocess_params\u001b[49m\u001b[43m)\u001b[49m\n\u001b[32m   1438\u001b[39m     model_outputs = \u001b[38;5;28mself\u001b[39m.forward(model_inputs, **forward_params)\n\u001b[32m   1439\u001b[39m     outputs = \u001b[38;5;28mself\u001b[39m.postprocess(model_outputs, **postprocess_params)\n",
      "\u001b[36mFile \u001b[39m\u001b[32mc:\\Users\\FORYOUCOM\\miniconda3\\envs\\dlkoo\\Lib\\site-packages\\transformers\\pipelines\\fill_mask.py:123\u001b[39m, in \u001b[36mFillMaskPipeline.preprocess\u001b[39m\u001b[34m(self, inputs, return_tensors, tokenizer_kwargs, **preprocess_parameters)\u001b[39m\n\u001b[32m    120\u001b[39m     tokenizer_kwargs = {}\n\u001b[32m    122\u001b[39m model_inputs = \u001b[38;5;28mself\u001b[39m.tokenizer(inputs, return_tensors=return_tensors, **tokenizer_kwargs)\n\u001b[32m--> \u001b[39m\u001b[32m123\u001b[39m \u001b[38;5;28;43mself\u001b[39;49m\u001b[43m.\u001b[49m\u001b[43mensure_exactly_one_mask_token\u001b[49m\u001b[43m(\u001b[49m\u001b[43mmodel_inputs\u001b[49m\u001b[43m)\u001b[49m\n\u001b[32m    124\u001b[39m \u001b[38;5;28;01mreturn\u001b[39;00m model_inputs\n",
      "\u001b[36mFile \u001b[39m\u001b[32mc:\\Users\\FORYOUCOM\\miniconda3\\envs\\dlkoo\\Lib\\site-packages\\transformers\\pipelines\\fill_mask.py:112\u001b[39m, in \u001b[36mFillMaskPipeline.ensure_exactly_one_mask_token\u001b[39m\u001b[34m(self, model_inputs)\u001b[39m\n\u001b[32m    110\u001b[39m \u001b[38;5;28;01melse\u001b[39;00m:\n\u001b[32m    111\u001b[39m     \u001b[38;5;28;01mfor\u001b[39;00m input_ids \u001b[38;5;129;01min\u001b[39;00m model_inputs[\u001b[33m\"\u001b[39m\u001b[33minput_ids\u001b[39m\u001b[33m\"\u001b[39m]:\n\u001b[32m--> \u001b[39m\u001b[32m112\u001b[39m         \u001b[38;5;28;43mself\u001b[39;49m\u001b[43m.\u001b[49m\u001b[43m_ensure_exactly_one_mask_token\u001b[49m\u001b[43m(\u001b[49m\u001b[43minput_ids\u001b[49m\u001b[43m)\u001b[49m\n",
      "\u001b[36mFile \u001b[39m\u001b[32mc:\\Users\\FORYOUCOM\\miniconda3\\envs\\dlkoo\\Lib\\site-packages\\transformers\\pipelines\\fill_mask.py:100\u001b[39m, in \u001b[36mFillMaskPipeline._ensure_exactly_one_mask_token\u001b[39m\u001b[34m(self, input_ids)\u001b[39m\n\u001b[32m     98\u001b[39m numel = np.prod(masked_index.shape)\n\u001b[32m     99\u001b[39m \u001b[38;5;28;01mif\u001b[39;00m numel < \u001b[32m1\u001b[39m:\n\u001b[32m--> \u001b[39m\u001b[32m100\u001b[39m     \u001b[38;5;28;01mraise\u001b[39;00m PipelineException(\n\u001b[32m    101\u001b[39m         \u001b[33m\"\u001b[39m\u001b[33mfill-mask\u001b[39m\u001b[33m\"\u001b[39m,\n\u001b[32m    102\u001b[39m         \u001b[38;5;28mself\u001b[39m.model.base_model_prefix,\n\u001b[32m    103\u001b[39m         \u001b[33mf\u001b[39m\u001b[33m\"\u001b[39m\u001b[33mNo mask_token (\u001b[39m\u001b[38;5;132;01m{\u001b[39;00m\u001b[38;5;28mself\u001b[39m.tokenizer.mask_token\u001b[38;5;132;01m}\u001b[39;00m\u001b[33m) found on the input\u001b[39m\u001b[33m\"\u001b[39m,\n\u001b[32m    104\u001b[39m     )\n",
      "\u001b[31mPipelineException\u001b[39m: No mask_token (<mask>) found on the input"
     ]
    }
   ],
   "source": [
    "pipe = pipeline(task=\"fill-mask\", model=model)\n",
    "result = pipe(text, top_k=2)"
   ]
  },
  {
   "cell_type": "code",
   "execution_count": 50,
   "id": "fabafe3e",
   "metadata": {},
   "outputs": [
    {
     "data": {
      "text/plain": [
       "[[{'score': 0.26520201563835144,\n",
       "   'token': 8930,\n",
       "   'token_str': ' cry',\n",
       "   'sequence': \"<s>I'm going to cry because<mask> am hurt.</s>\"},\n",
       "  {'score': 0.060890741646289825,\n",
       "   'token': 3581,\n",
       "   'token_str': ' sleep',\n",
       "   'sequence': \"<s>I'm going to sleep because<mask> am hurt.</s>\"}],\n",
       " [{'score': 0.9930053353309631,\n",
       "   'token': 38,\n",
       "   'token_str': ' I',\n",
       "   'sequence': \"<s>I'm going to<mask> because I am hurt.</s>\"},\n",
       "  {'score': 0.006336236838251352,\n",
       "   'token': 939,\n",
       "   'token_str': ' i',\n",
       "   'sequence': \"<s>I'm going to<mask> because i am hurt.</s>\"}]]"
      ]
     },
     "execution_count": 50,
     "metadata": {},
     "output_type": "execute_result"
    }
   ],
   "source": [
    "result"
   ]
  },
  {
   "cell_type": "code",
   "execution_count": 56,
   "id": "b79d04ce-c7b9-45bd-b5bd-e0b2c73f1bea",
   "metadata": {},
   "outputs": [
    {
     "name": "stderr",
     "output_type": "stream",
     "text": [
      "Xet Storage is enabled for this repo, but the 'hf_xet' package is not installed. Falling back to regular HTTP download. For better performance, install the package with: `pip install huggingface_hub[hf_xet]` or `pip install hf_xet`\n",
      "Some weights of the model checkpoint at beomi/kcbert-base were not used when initializing BertForMaskedLM: ['bert.pooler.dense.bias', 'bert.pooler.dense.weight', 'cls.seq_relationship.bias', 'cls.seq_relationship.weight']\n",
      "- This IS expected if you are initializing BertForMaskedLM from the checkpoint of a model trained on another task or with another architecture (e.g. initializing a BertForSequenceClassification model from a BertForPreTraining model).\n",
      "- This IS NOT expected if you are initializing BertForMaskedLM from the checkpoint of a model that you expect to be exactly identical (initializing a BertForSequenceClassification model from a BertForSequenceClassification model).\n",
      "Device set to use cuda:0\n"
     ]
    }
   ],
   "source": [
    "text = \"오늘 밤은 전국이 흐린 가운데 대부분 지역에 [MASK]가 내리겠고, 기온이 내려가면서 점차 [MASK]이 오는 곳이 많겠습니다\"\n",
    "model='beomi/kcbert-base'\n",
    "pipe = pipeline(task=\"fill-mask\", model=model)"
   ]
  },
  {
   "cell_type": "code",
   "execution_count": 58,
   "id": "d6da50fd",
   "metadata": {},
   "outputs": [
    {
     "data": {
      "text/plain": [
       "[[{'score': 0.6340433359146118,\n",
       "   'token': 4072,\n",
       "   'token_str': '##서',\n",
       "   'sequence': '[CLS] 오늘 밤은 전국이 흐린 가운데 대부분 지역에서 가 내리겠고, 기온이 내려가면서 점차 [MASK] 이 오는 곳이 많겠습니다 [SEP]'},\n",
       "  {'score': 0.11311666667461395,\n",
       "   'token': 28206,\n",
       "   'token_str': '비가',\n",
       "   'sequence': '[CLS] 오늘 밤은 전국이 흐린 가운데 대부분 지역에 비가 가 내리겠고, 기온이 내려가면서 점차 [MASK] 이 오는 곳이 많겠습니다 [SEP]'}],\n",
       " [{'score': 0.10058385133743286,\n",
       "   'token': 10108,\n",
       "   'token_str': '바람',\n",
       "   'sequence': '[CLS] 오늘 밤은 전국이 흐린 가운데 대부분 지역에 [MASK] 가 내리겠고, 기온이 내려가면서 점차 바람 이 오는 곳이 많겠습니다 [SEP]'},\n",
       "  {'score': 0.049839794635772705,\n",
       "   'token': 10741,\n",
       "   'token_str': '영향',\n",
       "   'sequence': '[CLS] 오늘 밤은 전국이 흐린 가운데 대부분 지역에 [MASK] 가 내리겠고, 기온이 내려가면서 점차 영향 이 오는 곳이 많겠습니다 [SEP]'}]]"
      ]
     },
     "execution_count": 58,
     "metadata": {},
     "output_type": "execute_result"
    }
   ],
   "source": [
    "pipe(text, top_k=2)"
   ]
  },
  {
   "cell_type": "markdown",
   "id": "35cc4f2c-0757-4f96-9ec5-d7fe38ac0d94",
   "metadata": {},
   "source": [
    "### Token별 분류\n",
    "- task: token-classification \n",
    "  - 개체명인식(ner), 품사부착(pos tagging)을 수행하는 task \n",
    "  - 개체명 인식은 문장에서 특정한 개체명(예: 사람 이름, 지명, 조직명 등)을 식별하는 task이다. "
   ]
  },
  {
   "cell_type": "code",
   "execution_count": 60,
   "id": "c2c9e5a5-c389-4a67-9a56-ef89d45a5765",
   "metadata": {},
   "outputs": [
    {
     "name": "stderr",
     "output_type": "stream",
     "text": [
      "Xet Storage is enabled for this repo, but the 'hf_xet' package is not installed. Falling back to regular HTTP download. For better performance, install the package with: `pip install huggingface_hub[hf_xet]` or `pip install hf_xet`\n",
      "Some weights of the model checkpoint at dbmdz/bert-large-cased-finetuned-conll03-english were not used when initializing BertForTokenClassification: ['bert.pooler.dense.bias', 'bert.pooler.dense.weight']\n",
      "- This IS expected if you are initializing BertForTokenClassification from the checkpoint of a model trained on another task or with another architecture (e.g. initializing a BertForSequenceClassification model from a BertForPreTraining model).\n",
      "- This IS NOT expected if you are initializing BertForTokenClassification from the checkpoint of a model that you expect to be exactly identical (initializing a BertForSequenceClassification model from a BertForSequenceClassification model).\n",
      "Device set to use cuda:0\n"
     ]
    }
   ],
   "source": [
    "text = \"My name is Sylvain and I work at Hugging Face in Brooklyn.\"\n",
    "model = \"dbmdz/bert-large-cased-finetuned-conll03-english\"\n",
    "\n",
    "pipe = pipeline(task=\"token-classification\", model=model)\n"
   ]
  },
  {
   "cell_type": "code",
   "execution_count": 62,
   "id": "d5a25f6d",
   "metadata": {},
   "outputs": [
    {
     "data": {
      "text/plain": [
       "[{'entity': 'I-PER',\n",
       "  'score': np.float32(0.99938285),\n",
       "  'index': 4,\n",
       "  'word': 'S',\n",
       "  'start': 11,\n",
       "  'end': 12},\n",
       " {'entity': 'I-PER',\n",
       "  'score': np.float32(0.99815494),\n",
       "  'index': 5,\n",
       "  'word': '##yl',\n",
       "  'start': 12,\n",
       "  'end': 14},\n",
       " {'entity': 'I-PER',\n",
       "  'score': np.float32(0.9959072),\n",
       "  'index': 6,\n",
       "  'word': '##va',\n",
       "  'start': 14,\n",
       "  'end': 16},\n",
       " {'entity': 'I-PER',\n",
       "  'score': np.float32(0.99923277),\n",
       "  'index': 7,\n",
       "  'word': '##in',\n",
       "  'start': 16,\n",
       "  'end': 18},\n",
       " {'entity': 'I-ORG',\n",
       "  'score': np.float32(0.9738931),\n",
       "  'index': 12,\n",
       "  'word': 'Hu',\n",
       "  'start': 33,\n",
       "  'end': 35},\n",
       " {'entity': 'I-ORG',\n",
       "  'score': np.float32(0.976115),\n",
       "  'index': 13,\n",
       "  'word': '##gging',\n",
       "  'start': 35,\n",
       "  'end': 40},\n",
       " {'entity': 'I-ORG',\n",
       "  'score': np.float32(0.9887976),\n",
       "  'index': 14,\n",
       "  'word': 'Face',\n",
       "  'start': 41,\n",
       "  'end': 45},\n",
       " {'entity': 'I-LOC',\n",
       "  'score': np.float32(0.9932106),\n",
       "  'index': 16,\n",
       "  'word': 'Brooklyn',\n",
       "  'start': 49,\n",
       "  'end': 57}]"
      ]
     },
     "execution_count": 62,
     "metadata": {},
     "output_type": "execute_result"
    }
   ],
   "source": [
    "result = pipe(text)\n",
    "result"
   ]
  },
  {
   "cell_type": "code",
   "execution_count": null,
   "id": "34a462ae",
   "metadata": {},
   "outputs": [],
   "source": [
    "model = \"facebook/bart-large-mnli\"\n",
    "\n",
    "text = [\"Python is a programming language.\", \n",
    "        \"I love soccer\", \n",
    "        \"The stock price rose slightly today.\"]\n",
    "labels = ['IT', 'Sports']"
   ]
  },
  {
   "cell_type": "code",
   "execution_count": null,
   "id": "ed8889b9",
   "metadata": {},
   "outputs": [],
   "source": []
  },
  {
   "cell_type": "markdown",
   "id": "be0029d1-ebad-4d30-8252-0a9eaa37c405",
   "metadata": {},
   "source": [
    "### 질의 응답\n",
    "- 문서와 질문을 주면 문서에서 답을 찾아 응답한다."
   ]
  },
  {
   "cell_type": "code",
   "execution_count": 63,
   "id": "b62a1b36",
   "metadata": {},
   "outputs": [
    {
     "name": "stderr",
     "output_type": "stream",
     "text": [
      "Xet Storage is enabled for this repo, but the 'hf_xet' package is not installed. Falling back to regular HTTP download. For better performance, install the package with: `pip install huggingface_hub[hf_xet]` or `pip install hf_xet`\n",
      "Device set to use cuda:0\n"
     ]
    }
   ],
   "source": [
    "model = \"distilbert-base-cased-distilled-squad\"\n",
    "pipe = pipeline(task='question-answering', model=model)\n"
   ]
  },
  {
   "cell_type": "code",
   "execution_count": 66,
   "id": "1a528c43",
   "metadata": {},
   "outputs": [
    {
     "data": {
      "text/plain": [
       "{'score': 0.9893267154693604, 'start': 49, 'end': 57, 'answer': 'Brooklyn'}"
      ]
     },
     "execution_count": 66,
     "metadata": {},
     "output_type": "execute_result"
    }
   ],
   "source": [
    "\n",
    "question=\"Where do I work?\"\n",
    "question=\"Where is Hugging Face?\"\n",
    "context=\"My name is Sylvain and I work at Hugging Face in Brooklyn\"\n",
    "\n",
    "result = pipe(question=question, context=context)\n",
    "result "
   ]
  },
  {
   "cell_type": "code",
   "execution_count": null,
   "id": "b74e7347-973c-472b-aa85-15dc8ebf78f9",
   "metadata": {},
   "outputs": [],
   "source": []
  },
  {
   "cell_type": "code",
   "execution_count": 67,
   "id": "7b9544c2-149f-406a-9097-13663ea82cb7",
   "metadata": {
    "tags": []
   },
   "outputs": [],
   "source": [
    "context = \"\"\"우리나라 2대 수출 품목인 자동차가 도널드 트럼프 미국 행정부의 관세 여파로 지난달 큰 폭의 수출 감소율을 보이면서 우려가 커지고 있다. 현대차, 기아의 미국 수출 비중이 최대 85%에 이르는 상황에서 자동차 관세 장기화 시 피해는 걷잡을 수 없이 불어날 것이라는 암울한 전망이 나온다.\n",
    "1일 산업통상자원부가 발표한 5월 수출입 동향에 따르면 지난달 자동차 수출은 작년 동기 대비 4.4% 감소한 62억달러로 집계됐다. 최대 자동차 시장인 미국으로의 수출은 18억4000만달러로 무려 32.0% 급감했다.\n",
    "4월 미국의 수입산 자동차 25% 관세 부과에 이어 5월부터 일부 자동차 부품에도 25%의 관세가 적용된 결과다. 관세 장기화 시 피해는 더 커질 것이라는 우려가 현실화한 셈이다.\n",
    "국내 완성차 1·2위 업체인 현대차·기아는 현지 생산 비중을 확대하는 동시에 가격 인상을 검토하고 있다. 관세 여파를 흡수하기 위해서다. 가격 인상이 현실화할 경우 미국 현지 판매는 줄어들 수밖에 없어 수출에는 더 악영향을 미칠 것으로 보인다.\n",
    "\"\"\"\n",
    "\n",
    "q1 = \"현대차 기아의 미국 수출비중은?\"\n",
    "q2 = \"자동차 수출이 얼마나 급감했나?\"\n",
    "q3 = \"대미 수출 감소에 국내 자동차 업체들의 대응방법은?\""
   ]
  },
  {
   "cell_type": "code",
   "execution_count": 68,
   "id": "2227db13",
   "metadata": {},
   "outputs": [
    {
     "name": "stderr",
     "output_type": "stream",
     "text": [
      "Device set to use cuda:0\n"
     ]
    }
   ],
   "source": [
    "model = \"ainize/klue-bert-base-mrc\"\n",
    "pipe = pipeline(task='question-answering', model=model)"
   ]
  },
  {
   "cell_type": "code",
   "execution_count": 71,
   "id": "de619668",
   "metadata": {},
   "outputs": [
    {
     "data": {
      "text/plain": [
       "[{'score': 0.6396181583404541, 'start': 99, 'end': 102, 'answer': '85%'},\n",
       " {'score': 0.6323583126068115, 'start': 271, 'end': 276, 'answer': '32.0%'},\n",
       " {'score': 0.013693591579794884, 'start': 427, 'end': 433, 'answer': '가격 인상을'}]"
      ]
     },
     "execution_count": 71,
     "metadata": {},
     "output_type": "execute_result"
    }
   ],
   "source": [
    "result = pipe(question=[q1,q2,q3], context=context)\n",
    "result"
   ]
  },
  {
   "cell_type": "code",
   "execution_count": null,
   "id": "dbcd498b",
   "metadata": {},
   "outputs": [],
   "source": []
  },
  {
   "cell_type": "markdown",
   "id": "e79683e5-f872-4b4d-b46f-edd38428651e",
   "metadata": {},
   "source": [
    "### 문서 요약"
   ]
  },
  {
   "cell_type": "code",
   "execution_count": null,
   "id": "0135048e-d1df-4734-9a10-dbaee7109e6a",
   "metadata": {},
   "outputs": [],
   "source": [
    "from transformers import pipeline\n",
    "model = \"eenzeenee/t5-base-korean-summarization\"\n",
    "pipe = pipeline(task='summarization', model=model)"
   ]
  },
  {
   "cell_type": "code",
   "execution_count": null,
   "id": "37e8c1a0-8894-4d9f-afa8-b2f6a16c8f87",
   "metadata": {},
   "outputs": [],
   "source": []
  },
  {
   "cell_type": "markdown",
   "id": "8be2c20d-c32d-44bf-98dc-552bc5409aa3",
   "metadata": {},
   "source": [
    "### 번역"
   ]
  },
  {
   "cell_type": "code",
   "execution_count": null,
   "id": "f050129d-7e5b-4cf2-b3a3-0e3ba21af591",
   "metadata": {},
   "outputs": [],
   "source": [
    "model = \"Helsinki-NLP/opus-mt-fr-en\"\n",
    "text = \"Ce cours est produit par Hugging Face.\""
   ]
  },
  {
   "cell_type": "code",
   "execution_count": null,
   "id": "e583f995-32bd-4454-b1ab-9d5cd1fdbcc3",
   "metadata": {},
   "outputs": [],
   "source": [
    "model = \"Helsinki-NLP/opus-mt-ko-en\""
   ]
  },
  {
   "cell_type": "code",
   "execution_count": null,
   "id": "453de109-8ce8-4cae-94e9-ce24f068c5ef",
   "metadata": {},
   "outputs": [],
   "source": []
  },
  {
   "cell_type": "markdown",
   "id": "bb854488-6677-49db-a82e-eee1a33c7264",
   "metadata": {},
   "source": [
    "### 이미지를 설명하는 텍스트 생성"
   ]
  },
  {
   "cell_type": "code",
   "execution_count": null,
   "id": "081aaf53-bed8-45ad-aab3-052f3cc6feca",
   "metadata": {},
   "outputs": [],
   "source": [
    "url = \"https://huggingface.co/datasets/Narsil/image_dummy/resolve/main/parrots.png\"\n",
    "url = \"https://th.bing.com/th?id=ORMS.c526884bbea37c0bb9501f4f83b601e4&pid=Wdp&w=268&h=140&qlt=90&c=1&rs=1&dpr=1&p=0\"\n",
    "url = \"http://images.cocodataset.org/val2017/000000039769.jpg\""
   ]
  },
  {
   "cell_type": "code",
   "execution_count": null,
   "id": "7bbcf876-b4bb-4202-afc4-e89404005eb5",
   "metadata": {},
   "outputs": [],
   "source": [
    "model = \"ydshieh/vit-gpt2-coco-en\""
   ]
  },
  {
   "cell_type": "markdown",
   "id": "117df1f4-5ebd-41ad-ab6f-9f69a70d99a7",
   "metadata": {},
   "source": [
    "### 이미지 분류"
   ]
  },
  {
   "cell_type": "code",
   "execution_count": null,
   "id": "1c9fbf6b-2697-427b-ab75-bd5a75348d5b",
   "metadata": {
    "tags": []
   },
   "outputs": [],
   "source": [
    "url = \"https://pds.joongang.co.kr/news/component/htmlphoto_mmdata/202306/25/488f9638-800c-4bac-ad65-82877fbff79b.jpg\""
   ]
  },
  {
   "cell_type": "code",
   "execution_count": null,
   "id": "897952e6-3aa2-4c10-956d-dde4fc14b917",
   "metadata": {},
   "outputs": [],
   "source": [
    "model = \"google/vit-base-patch16-224\""
   ]
  },
  {
   "cell_type": "code",
   "execution_count": null,
   "id": "b59f58d0-226f-4997-87d9-b4a029318940",
   "metadata": {},
   "outputs": [],
   "source": []
  },
  {
   "cell_type": "markdown",
   "id": "d2e2b6a3",
   "metadata": {},
   "source": [
    "### Object Detection"
   ]
  },
  {
   "cell_type": "code",
   "execution_count": null,
   "id": "b1416074-2c80-4df1-b4e7-38691a7fedc7",
   "metadata": {},
   "outputs": [],
   "source": [
    "image_path = r\"data/image1.jpg\"\n",
    "image_path = r\"data/image2.jpg\"\n",
    "image_path = r\"data/image3.jpg\"\n",
    "\n",
    "model='facebook/detr-resnet-50'"
   ]
  }
 ],
 "metadata": {
  "kernelspec": {
   "display_name": "dlkoo",
   "language": "python",
   "name": "python3"
  },
  "language_info": {
   "codemirror_mode": {
    "name": "ipython",
    "version": 3
   },
   "file_extension": ".py",
   "mimetype": "text/x-python",
   "name": "python",
   "nbconvert_exporter": "python",
   "pygments_lexer": "ipython3",
   "version": "3.13.2"
  }
 },
 "nbformat": 4,
 "nbformat_minor": 5
}
